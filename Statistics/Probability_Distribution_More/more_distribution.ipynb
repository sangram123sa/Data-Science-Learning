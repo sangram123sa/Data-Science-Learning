{
 "cells": [
  {
   "cell_type": "code",
   "execution_count": 1,
   "id": "f497c8c3",
   "metadata": {},
   "outputs": [],
   "source": [
    "from scipy import stats\n",
    "import matplotlib.pyplot as plt\n",
    "import seaborn as sns\n",
    "import numpy as np\n",
    "import pandas as pd"
   ]
  },
  {
   "cell_type": "code",
   "execution_count": 2,
   "id": "faece116",
   "metadata": {},
   "outputs": [
    {
     "data": {
      "text/plain": [
       "np.float64(0.5654017914929218)"
      ]
     },
     "execution_count": 2,
     "metadata": {},
     "output_type": "execute_result"
    }
   ],
   "source": [
    "stats.expon(scale = 12).cdf(10)"
   ]
  },
  {
   "cell_type": "code",
   "execution_count": 3,
   "id": "0ea89d9c",
   "metadata": {},
   "outputs": [
    {
     "data": {
      "text/plain": [
       "np.float64(0.08208499862389884)"
      ]
     },
     "execution_count": 3,
     "metadata": {},
     "output_type": "execute_result"
    }
   ],
   "source": [
    "1-stats.expon(scale = 12).cdf(30)"
   ]
  },
  {
   "cell_type": "code",
   "execution_count": 4,
   "id": "37c9161b",
   "metadata": {},
   "outputs": [],
   "source": [
    "exp_dist = stats.expon(scale = 12)\n",
    "ex_data = exp_dist.rvs(1000) "
   ]
  },
  {
   "cell_type": "code",
   "execution_count": 5,
   "id": "92ad6dba",
   "metadata": {},
   "outputs": [
    {
     "data": {
      "image/png": "[encoded data removed]",
      "text/plain": [
       "<Figure size 500x500 with 1 Axes>"
      ]
     },
     "metadata": {},
     "output_type": "display_data"
    }
   ],
   "source": [
    "\n",
    "sns.displot(ex_data, bins=25)\n",
    "plt.show()\n"
   ]
  },
  {
   "cell_type": "code",
   "execution_count": 6,
   "id": "a5c79435",
   "metadata": {},
   "outputs": [
    {
     "data": {
      "text/plain": [
       "[<matplotlib.lines.Line2D at 0x299c4489340>]"
      ]
     },
     "execution_count": 6,
     "metadata": {},
     "output_type": "execute_result"
    },
    {
     "data": {
      "image/png": "[encoded data removed]",
      "text/plain": [
       "<Figure size 640x480 with 1 Axes>"
      ]
     },
     "metadata": {},
     "output_type": "display_data"
    }
   ],
   "source": [
    "cdf = []\n",
    "for i in range(100):\n",
    "    cdf.append(exp_dist.cdf(i))\n",
    "plt.plot(cdf)"
   ]
  },
  {
   "cell_type": "code",
   "execution_count": 7,
   "id": "d52e002f",
   "metadata": {},
   "outputs": [],
   "source": [
    "emergency_data = pd.read_csv(\"911.csv\")"
   ]
  },
  {
   "cell_type": "code",
   "execution_count": 8,
   "id": "b4d82836",
   "metadata": {},
   "outputs": [
    {
     "data": {
      "text/html": [
       "<div>\n",
       "<style scoped>\n",
       "    .dataframe tbody tr th:only-of-type {\n",
       "        vertical-align: middle;\n",
       "    }\n",
       "\n",
       "    .dataframe tbody tr th {\n",
       "        vertical-align: top;\n",
       "    }\n",
       "\n",
       "    .dataframe thead th {\n",
       "        text-align: right;\n",
       "    }\n",
       "</style>\n",
       "<table border=\"1\" class=\"dataframe\">\n",
       "  <thead>\n",
       "    <tr style=\"text-align: right;\">\n",
       "      <th></th>\n",
       "      <th>lat</th>\n",
       "      <th>lng</th>\n",
       "      <th>desc</th>\n",
       "      <th>zip</th>\n",
       "      <th>title</th>\n",
       "      <th>timeStamp</th>\n",
       "      <th>twp</th>\n",
       "      <th>addr</th>\n",
       "      <th>e</th>\n",
       "    </tr>\n",
       "  </thead>\n",
       "  <tbody>\n",
       "    <tr>\n",
       "      <th>0</th>\n",
       "      <td>40.297876</td>\n",
       "      <td>-75.581294</td>\n",
       "      <td>REINDEER CT &amp; DEAD END;  NEW HANOVER; Station ...</td>\n",
       "      <td>19525.0</td>\n",
       "      <td>EMS: BACK PAINS/INJURY</td>\n",
       "      <td>2015-12-10 17:40:00</td>\n",
       "      <td>NEW HANOVER</td>\n",
       "      <td>REINDEER CT &amp; DEAD END</td>\n",
       "      <td>1</td>\n",
       "    </tr>\n",
       "    <tr>\n",
       "      <th>1</th>\n",
       "      <td>40.258061</td>\n",
       "      <td>-75.264680</td>\n",
       "      <td>BRIAR PATH &amp; WHITEMARSH LN;  HATFIELD TOWNSHIP...</td>\n",
       "      <td>19446.0</td>\n",
       "      <td>EMS: DIABETIC EMERGENCY</td>\n",
       "      <td>2015-12-10 17:40:00</td>\n",
       "      <td>HATFIELD TOWNSHIP</td>\n",
       "      <td>BRIAR PATH &amp; WHITEMARSH LN</td>\n",
       "      <td>1</td>\n",
       "    </tr>\n",
       "    <tr>\n",
       "      <th>2</th>\n",
       "      <td>40.121182</td>\n",
       "      <td>-75.351975</td>\n",
       "      <td>HAWS AVE; NORRISTOWN; 2015-12-10 @ 14:39:21-St...</td>\n",
       "      <td>19401.0</td>\n",
       "      <td>Fire: GAS-ODOR/LEAK</td>\n",
       "      <td>2015-12-10 17:40:00</td>\n",
       "      <td>NORRISTOWN</td>\n",
       "      <td>HAWS AVE</td>\n",
       "      <td>1</td>\n",
       "    </tr>\n",
       "    <tr>\n",
       "      <th>3</th>\n",
       "      <td>40.116153</td>\n",
       "      <td>-75.343513</td>\n",
       "      <td>AIRY ST &amp; SWEDE ST;  NORRISTOWN; Station 308A;...</td>\n",
       "      <td>19401.0</td>\n",
       "      <td>EMS: CARDIAC EMERGENCY</td>\n",
       "      <td>2015-12-10 17:40:01</td>\n",
       "      <td>NORRISTOWN</td>\n",
       "      <td>AIRY ST &amp; SWEDE ST</td>\n",
       "      <td>1</td>\n",
       "    </tr>\n",
       "    <tr>\n",
       "      <th>4</th>\n",
       "      <td>40.251492</td>\n",
       "      <td>-75.603350</td>\n",
       "      <td>CHERRYWOOD CT &amp; DEAD END;  LOWER POTTSGROVE; S...</td>\n",
       "      <td>NaN</td>\n",
       "      <td>EMS: DIZZINESS</td>\n",
       "      <td>2015-12-10 17:40:01</td>\n",
       "      <td>LOWER POTTSGROVE</td>\n",
       "      <td>CHERRYWOOD CT &amp; DEAD END</td>\n",
       "      <td>1</td>\n",
       "    </tr>\n",
       "  </tbody>\n",
       "</table>\n",
       "</div>"
      ],
      "text/plain": [
       "         lat        lng                                               desc  \\\n",
       "0  40.297876 -75.581294  REINDEER CT & DEAD END;  NEW HANOVER; Station ...   \n",
       "1  40.258061 -75.264680  BRIAR PATH & WHITEMARSH LN;  HATFIELD TOWNSHIP...   \n",
       "2  40.121182 -75.351975  HAWS AVE; NORRISTOWN; 2015-12-10 @ 14:39:21-St...   \n",
       "3  40.116153 -75.343513  AIRY ST & SWEDE ST;  NORRISTOWN; Station 308A;...   \n",
       "4  40.251492 -75.603350  CHERRYWOOD CT & DEAD END;  LOWER POTTSGROVE; S...   \n",
       "\n",
       "       zip                    title            timeStamp                twp  \\\n",
       "0  19525.0   EMS: BACK PAINS/INJURY  2015-12-10 17:40:00        NEW HANOVER   \n",
       "1  19446.0  EMS: DIABETIC EMERGENCY  2015-12-10 17:40:00  HATFIELD TOWNSHIP   \n",
       "2  19401.0      Fire: GAS-ODOR/LEAK  2015-12-10 17:40:00         NORRISTOWN   \n",
       "3  19401.0   EMS: CARDIAC EMERGENCY  2015-12-10 17:40:01         NORRISTOWN   \n",
       "4      NaN           EMS: DIZZINESS  2015-12-10 17:40:01   LOWER POTTSGROVE   \n",
       "\n",
       "                         addr  e  \n",
       "0      REINDEER CT & DEAD END  1  \n",
       "1  BRIAR PATH & WHITEMARSH LN  1  \n",
       "2                    HAWS AVE  1  \n",
       "3          AIRY ST & SWEDE ST  1  \n",
       "4    CHERRYWOOD CT & DEAD END  1  "
      ]
     },
     "execution_count": 8,
     "metadata": {},
     "output_type": "execute_result"
    }
   ],
   "source": [
    "emergency_data.head()"
   ]
  },
  {
   "cell_type": "markdown",
   "id": "101adba1",
   "metadata": {},
   "source": [
    "### Problem statement ->\n",
    "Here we have a data set of 911 calls where our time period is 1 hour so, in that time frequency how many calls are come to the call center.\n",
    "\n",
    "Here with our normal observation -> we can say that In early hour call numbers are less and mid hour call numbers are very high\n",
    "\n",
    "with this observation we need to manage the men-power in call center\n"
   ]
  },
  {
   "cell_type": "code",
   "execution_count": 9,
   "id": "7fa67c1e",
   "metadata": {},
   "outputs": [
    {
     "name": "stdout",
     "output_type": "stream",
     "text": [
      "<class 'pandas.core.frame.DataFrame'>\n",
      "RangeIndex: 99492 entries, 0 to 99491\n",
      "Data columns (total 9 columns):\n",
      " #   Column     Non-Null Count  Dtype  \n",
      "---  ------     --------------  -----  \n",
      " 0   lat        99492 non-null  float64\n",
      " 1   lng        99492 non-null  float64\n",
      " 2   desc       99492 non-null  object \n",
      " 3   zip        86637 non-null  float64\n",
      " 4   title      99492 non-null  object \n",
      " 5   timeStamp  99492 non-null  object \n",
      " 6   twp        99449 non-null  object \n",
      " 7   addr       98973 non-null  object \n",
      " 8   e          99492 non-null  int64  \n",
      "dtypes: float64(3), int64(1), object(5)\n",
      "memory usage: 6.8+ MB\n"
     ]
    }
   ],
   "source": [
    "emergency_data.info()"
   ]
  },
  {
   "cell_type": "code",
   "execution_count": 10,
   "id": "b9e2fb0c",
   "metadata": {},
   "outputs": [],
   "source": [
    "# Here we need only the date and the hour part from that timestamp\n",
    "emergency_data[\"timeStamp\"] = pd.to_datetime(emergency_data[\"timeStamp\"])"
   ]
  },
  {
   "cell_type": "code",
   "execution_count": 11,
   "id": "4bd21dbf",
   "metadata": {},
   "outputs": [],
   "source": [
    "def d_m_y(x):\n",
    "    return f\"{x.day}-{x.month}-{x.year}\""
   ]
  },
  {
   "cell_type": "code",
   "execution_count": 12,
   "id": "0fcfa889",
   "metadata": {},
   "outputs": [],
   "source": [
    "def hour(x):\n",
    "    return x.hour"
   ]
  },
  {
   "cell_type": "code",
   "execution_count": 13,
   "id": "12857cd9",
   "metadata": {},
   "outputs": [
    {
     "name": "stdout",
     "output_type": "stream",
     "text": [
      "0        10-12-2015\n",
      "1        10-12-2015\n",
      "2        10-12-2015\n",
      "3        10-12-2015\n",
      "4        10-12-2015\n",
      "            ...    \n",
      "99487     24-8-2016\n",
      "99488     24-8-2016\n",
      "99489     24-8-2016\n",
      "99490     24-8-2016\n",
      "99491     24-8-2016\n",
      "Name: d_m_y, Length: 99492, dtype: object\n",
      "0        17\n",
      "1        17\n",
      "2        17\n",
      "3        17\n",
      "4        17\n",
      "         ..\n",
      "99487    11\n",
      "99488    11\n",
      "99489    11\n",
      "99490    11\n",
      "99491    11\n",
      "Name: hour, Length: 99492, dtype: int64\n"
     ]
    }
   ],
   "source": [
    "emergency_data[\"d_m_y\"] = emergency_data[\"timeStamp\"].apply(d_m_y)\n",
    "emergency_data[\"hour\"] = emergency_data[\"timeStamp\"].apply(hour)\n",
    "print(emergency_data[\"d_m_y\"])\n",
    "print(emergency_data[\"hour\"])"
   ]
  },
  {
   "cell_type": "code",
   "execution_count": 14,
   "id": "0f3b4a4b",
   "metadata": {},
   "outputs": [
    {
     "data": {
      "text/html": [
       "<div>\n",
       "<style scoped>\n",
       "    .dataframe tbody tr th:only-of-type {\n",
       "        vertical-align: middle;\n",
       "    }\n",
       "\n",
       "    .dataframe tbody tr th {\n",
       "        vertical-align: top;\n",
       "    }\n",
       "\n",
       "    .dataframe thead th {\n",
       "        text-align: right;\n",
       "    }\n",
       "</style>\n",
       "<table border=\"1\" class=\"dataframe\">\n",
       "  <thead>\n",
       "    <tr style=\"text-align: right;\">\n",
       "      <th></th>\n",
       "      <th>lat</th>\n",
       "      <th>lng</th>\n",
       "      <th>desc</th>\n",
       "      <th>zip</th>\n",
       "      <th>title</th>\n",
       "      <th>timeStamp</th>\n",
       "      <th>twp</th>\n",
       "      <th>addr</th>\n",
       "      <th>e</th>\n",
       "      <th>d_m_y</th>\n",
       "      <th>hour</th>\n",
       "    </tr>\n",
       "  </thead>\n",
       "  <tbody>\n",
       "    <tr>\n",
       "      <th>0</th>\n",
       "      <td>40.297876</td>\n",
       "      <td>-75.581294</td>\n",
       "      <td>REINDEER CT &amp; DEAD END;  NEW HANOVER; Station ...</td>\n",
       "      <td>19525.0</td>\n",
       "      <td>EMS: BACK PAINS/INJURY</td>\n",
       "      <td>2015-12-10 17:40:00</td>\n",
       "      <td>NEW HANOVER</td>\n",
       "      <td>REINDEER CT &amp; DEAD END</td>\n",
       "      <td>1</td>\n",
       "      <td>10-12-2015</td>\n",
       "      <td>17</td>\n",
       "    </tr>\n",
       "    <tr>\n",
       "      <th>1</th>\n",
       "      <td>40.258061</td>\n",
       "      <td>-75.264680</td>\n",
       "      <td>BRIAR PATH &amp; WHITEMARSH LN;  HATFIELD TOWNSHIP...</td>\n",
       "      <td>19446.0</td>\n",
       "      <td>EMS: DIABETIC EMERGENCY</td>\n",
       "      <td>2015-12-10 17:40:00</td>\n",
       "      <td>HATFIELD TOWNSHIP</td>\n",
       "      <td>BRIAR PATH &amp; WHITEMARSH LN</td>\n",
       "      <td>1</td>\n",
       "      <td>10-12-2015</td>\n",
       "      <td>17</td>\n",
       "    </tr>\n",
       "    <tr>\n",
       "      <th>2</th>\n",
       "      <td>40.121182</td>\n",
       "      <td>-75.351975</td>\n",
       "      <td>HAWS AVE; NORRISTOWN; 2015-12-10 @ 14:39:21-St...</td>\n",
       "      <td>19401.0</td>\n",
       "      <td>Fire: GAS-ODOR/LEAK</td>\n",
       "      <td>2015-12-10 17:40:00</td>\n",
       "      <td>NORRISTOWN</td>\n",
       "      <td>HAWS AVE</td>\n",
       "      <td>1</td>\n",
       "      <td>10-12-2015</td>\n",
       "      <td>17</td>\n",
       "    </tr>\n",
       "    <tr>\n",
       "      <th>3</th>\n",
       "      <td>40.116153</td>\n",
       "      <td>-75.343513</td>\n",
       "      <td>AIRY ST &amp; SWEDE ST;  NORRISTOWN; Station 308A;...</td>\n",
       "      <td>19401.0</td>\n",
       "      <td>EMS: CARDIAC EMERGENCY</td>\n",
       "      <td>2015-12-10 17:40:01</td>\n",
       "      <td>NORRISTOWN</td>\n",
       "      <td>AIRY ST &amp; SWEDE ST</td>\n",
       "      <td>1</td>\n",
       "      <td>10-12-2015</td>\n",
       "      <td>17</td>\n",
       "    </tr>\n",
       "    <tr>\n",
       "      <th>4</th>\n",
       "      <td>40.251492</td>\n",
       "      <td>-75.603350</td>\n",
       "      <td>CHERRYWOOD CT &amp; DEAD END;  LOWER POTTSGROVE; S...</td>\n",
       "      <td>NaN</td>\n",
       "      <td>EMS: DIZZINESS</td>\n",
       "      <td>2015-12-10 17:40:01</td>\n",
       "      <td>LOWER POTTSGROVE</td>\n",
       "      <td>CHERRYWOOD CT &amp; DEAD END</td>\n",
       "      <td>1</td>\n",
       "      <td>10-12-2015</td>\n",
       "      <td>17</td>\n",
       "    </tr>\n",
       "    <tr>\n",
       "      <th>...</th>\n",
       "      <td>...</td>\n",
       "      <td>...</td>\n",
       "      <td>...</td>\n",
       "      <td>...</td>\n",
       "      <td>...</td>\n",
       "      <td>...</td>\n",
       "      <td>...</td>\n",
       "      <td>...</td>\n",
       "      <td>...</td>\n",
       "      <td>...</td>\n",
       "      <td>...</td>\n",
       "    </tr>\n",
       "    <tr>\n",
       "      <th>99487</th>\n",
       "      <td>40.132869</td>\n",
       "      <td>-75.333515</td>\n",
       "      <td>MARKLEY ST &amp; W LOGAN ST; NORRISTOWN; 2016-08-2...</td>\n",
       "      <td>19401.0</td>\n",
       "      <td>Traffic: VEHICLE ACCIDENT -</td>\n",
       "      <td>2016-08-24 11:06:00</td>\n",
       "      <td>NORRISTOWN</td>\n",
       "      <td>MARKLEY ST &amp; W LOGAN ST</td>\n",
       "      <td>1</td>\n",
       "      <td>24-8-2016</td>\n",
       "      <td>11</td>\n",
       "    </tr>\n",
       "    <tr>\n",
       "      <th>99488</th>\n",
       "      <td>40.006974</td>\n",
       "      <td>-75.289080</td>\n",
       "      <td>LANCASTER AVE &amp; RITTENHOUSE PL; LOWER MERION; ...</td>\n",
       "      <td>19003.0</td>\n",
       "      <td>Traffic: VEHICLE ACCIDENT -</td>\n",
       "      <td>2016-08-24 11:07:02</td>\n",
       "      <td>LOWER MERION</td>\n",
       "      <td>LANCASTER AVE &amp; RITTENHOUSE PL</td>\n",
       "      <td>1</td>\n",
       "      <td>24-8-2016</td>\n",
       "      <td>11</td>\n",
       "    </tr>\n",
       "    <tr>\n",
       "      <th>99489</th>\n",
       "      <td>40.115429</td>\n",
       "      <td>-75.334679</td>\n",
       "      <td>CHESTNUT ST &amp; WALNUT ST;  NORRISTOWN; Station ...</td>\n",
       "      <td>19401.0</td>\n",
       "      <td>EMS: FALL VICTIM</td>\n",
       "      <td>2016-08-24 11:12:00</td>\n",
       "      <td>NORRISTOWN</td>\n",
       "      <td>CHESTNUT ST &amp; WALNUT ST</td>\n",
       "      <td>1</td>\n",
       "      <td>24-8-2016</td>\n",
       "      <td>11</td>\n",
       "    </tr>\n",
       "    <tr>\n",
       "      <th>99490</th>\n",
       "      <td>40.186431</td>\n",
       "      <td>-75.192555</td>\n",
       "      <td>WELSH RD &amp; WEBSTER LN;  HORSHAM; Station 352; ...</td>\n",
       "      <td>19002.0</td>\n",
       "      <td>EMS: NAUSEA/VOMITING</td>\n",
       "      <td>2016-08-24 11:17:01</td>\n",
       "      <td>HORSHAM</td>\n",
       "      <td>WELSH RD &amp; WEBSTER LN</td>\n",
       "      <td>1</td>\n",
       "      <td>24-8-2016</td>\n",
       "      <td>11</td>\n",
       "    </tr>\n",
       "    <tr>\n",
       "      <th>99491</th>\n",
       "      <td>40.207055</td>\n",
       "      <td>-75.317952</td>\n",
       "      <td>MORRIS RD &amp; S BROAD ST; UPPER GWYNEDD; 2016-08...</td>\n",
       "      <td>19446.0</td>\n",
       "      <td>Traffic: VEHICLE ACCIDENT -</td>\n",
       "      <td>2016-08-24 11:17:02</td>\n",
       "      <td>UPPER GWYNEDD</td>\n",
       "      <td>MORRIS RD &amp; S BROAD ST</td>\n",
       "      <td>1</td>\n",
       "      <td>24-8-2016</td>\n",
       "      <td>11</td>\n",
       "    </tr>\n",
       "  </tbody>\n",
       "</table>\n",
       "<p>99492 rows × 11 columns</p>\n",
       "</div>"
      ],
      "text/plain": [
       "             lat        lng  \\\n",
       "0      40.297876 -75.581294   \n",
       "1      40.258061 -75.264680   \n",
       "2      40.121182 -75.351975   \n",
       "3      40.116153 -75.343513   \n",
       "4      40.251492 -75.603350   \n",
       "...          ...        ...   \n",
       "99487  40.132869 -75.333515   \n",
       "99488  40.006974 -75.289080   \n",
       "99489  40.115429 -75.334679   \n",
       "99490  40.186431 -75.192555   \n",
       "99491  40.207055 -75.317952   \n",
       "\n",
       "                                                    desc      zip  \\\n",
       "0      REINDEER CT & DEAD END;  NEW HANOVER; Station ...  19525.0   \n",
       "1      BRIAR PATH & WHITEMARSH LN;  HATFIELD TOWNSHIP...  19446.0   \n",
       "2      HAWS AVE; NORRISTOWN; 2015-12-10 @ 14:39:21-St...  19401.0   \n",
       "3      AIRY ST & SWEDE ST;  NORRISTOWN; Station 308A;...  19401.0   \n",
       "4      CHERRYWOOD CT & DEAD END;  LOWER POTTSGROVE; S...      NaN   \n",
       "...                                                  ...      ...   \n",
       "99487  MARKLEY ST & W LOGAN ST; NORRISTOWN; 2016-08-2...  19401.0   \n",
       "99488  LANCASTER AVE & RITTENHOUSE PL; LOWER MERION; ...  19003.0   \n",
       "99489  CHESTNUT ST & WALNUT ST;  NORRISTOWN; Station ...  19401.0   \n",
       "99490  WELSH RD & WEBSTER LN;  HORSHAM; Station 352; ...  19002.0   \n",
       "99491  MORRIS RD & S BROAD ST; UPPER GWYNEDD; 2016-08...  19446.0   \n",
       "\n",
       "                             title           timeStamp                twp  \\\n",
       "0           EMS: BACK PAINS/INJURY 2015-12-10 17:40:00        NEW HANOVER   \n",
       "1          EMS: DIABETIC EMERGENCY 2015-12-10 17:40:00  HATFIELD TOWNSHIP   \n",
       "2              Fire: GAS-ODOR/LEAK 2015-12-10 17:40:00         NORRISTOWN   \n",
       "3           EMS: CARDIAC EMERGENCY 2015-12-10 17:40:01         NORRISTOWN   \n",
       "4                   EMS: DIZZINESS 2015-12-10 17:40:01   LOWER POTTSGROVE   \n",
       "...                            ...                 ...                ...   \n",
       "99487  Traffic: VEHICLE ACCIDENT - 2016-08-24 11:06:00         NORRISTOWN   \n",
       "99488  Traffic: VEHICLE ACCIDENT - 2016-08-24 11:07:02       LOWER MERION   \n",
       "99489             EMS: FALL VICTIM 2016-08-24 11:12:00         NORRISTOWN   \n",
       "99490         EMS: NAUSEA/VOMITING 2016-08-24 11:17:01            HORSHAM   \n",
       "99491  Traffic: VEHICLE ACCIDENT - 2016-08-24 11:17:02      UPPER GWYNEDD   \n",
       "\n",
       "                                 addr  e       d_m_y  hour  \n",
       "0              REINDEER CT & DEAD END  1  10-12-2015    17  \n",
       "1          BRIAR PATH & WHITEMARSH LN  1  10-12-2015    17  \n",
       "2                            HAWS AVE  1  10-12-2015    17  \n",
       "3                  AIRY ST & SWEDE ST  1  10-12-2015    17  \n",
       "4            CHERRYWOOD CT & DEAD END  1  10-12-2015    17  \n",
       "...                               ... ..         ...   ...  \n",
       "99487         MARKLEY ST & W LOGAN ST  1   24-8-2016    11  \n",
       "99488  LANCASTER AVE & RITTENHOUSE PL  1   24-8-2016    11  \n",
       "99489         CHESTNUT ST & WALNUT ST  1   24-8-2016    11  \n",
       "99490           WELSH RD & WEBSTER LN  1   24-8-2016    11  \n",
       "99491          MORRIS RD & S BROAD ST  1   24-8-2016    11  \n",
       "\n",
       "[99492 rows x 11 columns]"
      ]
     },
     "execution_count": 14,
     "metadata": {},
     "output_type": "execute_result"
    }
   ],
   "source": [
    "emergency_data"
   ]
  },
  {
   "cell_type": "code",
   "execution_count": 15,
   "id": "b65846a5",
   "metadata": {},
   "outputs": [],
   "source": [
    "groupby_date_and_hour = emergency_data.groupby(by=['d_m_y', 'hour'])"
   ]
  },
  {
   "cell_type": "code",
   "execution_count": 16,
   "id": "91517bab",
   "metadata": {},
   "outputs": [
    {
     "data": {
      "text/html": [
       "<div>\n",
       "<style scoped>\n",
       "    .dataframe tbody tr th:only-of-type {\n",
       "        vertical-align: middle;\n",
       "    }\n",
       "\n",
       "    .dataframe tbody tr th {\n",
       "        vertical-align: top;\n",
       "    }\n",
       "\n",
       "    .dataframe thead th {\n",
       "        text-align: right;\n",
       "    }\n",
       "</style>\n",
       "<table border=\"1\" class=\"dataframe\">\n",
       "  <thead>\n",
       "    <tr style=\"text-align: right;\">\n",
       "      <th></th>\n",
       "      <th>lat</th>\n",
       "      <th>lng</th>\n",
       "      <th>desc</th>\n",
       "      <th>zip</th>\n",
       "      <th>title</th>\n",
       "      <th>timeStamp</th>\n",
       "      <th>twp</th>\n",
       "      <th>addr</th>\n",
       "      <th>e</th>\n",
       "      <th>d_m_y</th>\n",
       "      <th>hour</th>\n",
       "    </tr>\n",
       "  </thead>\n",
       "  <tbody>\n",
       "    <tr>\n",
       "      <th>0</th>\n",
       "      <td>40.297876</td>\n",
       "      <td>-75.581294</td>\n",
       "      <td>REINDEER CT &amp; DEAD END;  NEW HANOVER; Station ...</td>\n",
       "      <td>19525.0</td>\n",
       "      <td>EMS: BACK PAINS/INJURY</td>\n",
       "      <td>2015-12-10 17:40:00</td>\n",
       "      <td>NEW HANOVER</td>\n",
       "      <td>REINDEER CT &amp; DEAD END</td>\n",
       "      <td>1</td>\n",
       "      <td>10-12-2015</td>\n",
       "      <td>17</td>\n",
       "    </tr>\n",
       "    <tr>\n",
       "      <th>1</th>\n",
       "      <td>40.258061</td>\n",
       "      <td>-75.264680</td>\n",
       "      <td>BRIAR PATH &amp; WHITEMARSH LN;  HATFIELD TOWNSHIP...</td>\n",
       "      <td>19446.0</td>\n",
       "      <td>EMS: DIABETIC EMERGENCY</td>\n",
       "      <td>2015-12-10 17:40:00</td>\n",
       "      <td>HATFIELD TOWNSHIP</td>\n",
       "      <td>BRIAR PATH &amp; WHITEMARSH LN</td>\n",
       "      <td>1</td>\n",
       "      <td>10-12-2015</td>\n",
       "      <td>17</td>\n",
       "    </tr>\n",
       "    <tr>\n",
       "      <th>2</th>\n",
       "      <td>40.121182</td>\n",
       "      <td>-75.351975</td>\n",
       "      <td>HAWS AVE; NORRISTOWN; 2015-12-10 @ 14:39:21-St...</td>\n",
       "      <td>19401.0</td>\n",
       "      <td>Fire: GAS-ODOR/LEAK</td>\n",
       "      <td>2015-12-10 17:40:00</td>\n",
       "      <td>NORRISTOWN</td>\n",
       "      <td>HAWS AVE</td>\n",
       "      <td>1</td>\n",
       "      <td>10-12-2015</td>\n",
       "      <td>17</td>\n",
       "    </tr>\n",
       "    <tr>\n",
       "      <th>3</th>\n",
       "      <td>40.116153</td>\n",
       "      <td>-75.343513</td>\n",
       "      <td>AIRY ST &amp; SWEDE ST;  NORRISTOWN; Station 308A;...</td>\n",
       "      <td>19401.0</td>\n",
       "      <td>EMS: CARDIAC EMERGENCY</td>\n",
       "      <td>2015-12-10 17:40:01</td>\n",
       "      <td>NORRISTOWN</td>\n",
       "      <td>AIRY ST &amp; SWEDE ST</td>\n",
       "      <td>1</td>\n",
       "      <td>10-12-2015</td>\n",
       "      <td>17</td>\n",
       "    </tr>\n",
       "    <tr>\n",
       "      <th>4</th>\n",
       "      <td>40.251492</td>\n",
       "      <td>-75.603350</td>\n",
       "      <td>CHERRYWOOD CT &amp; DEAD END;  LOWER POTTSGROVE; S...</td>\n",
       "      <td>NaN</td>\n",
       "      <td>EMS: DIZZINESS</td>\n",
       "      <td>2015-12-10 17:40:01</td>\n",
       "      <td>LOWER POTTSGROVE</td>\n",
       "      <td>CHERRYWOOD CT &amp; DEAD END</td>\n",
       "      <td>1</td>\n",
       "      <td>10-12-2015</td>\n",
       "      <td>17</td>\n",
       "    </tr>\n",
       "  </tbody>\n",
       "</table>\n",
       "</div>"
      ],
      "text/plain": [
       "         lat        lng                                               desc  \\\n",
       "0  40.297876 -75.581294  REINDEER CT & DEAD END;  NEW HANOVER; Station ...   \n",
       "1  40.258061 -75.264680  BRIAR PATH & WHITEMARSH LN;  HATFIELD TOWNSHIP...   \n",
       "2  40.121182 -75.351975  HAWS AVE; NORRISTOWN; 2015-12-10 @ 14:39:21-St...   \n",
       "3  40.116153 -75.343513  AIRY ST & SWEDE ST;  NORRISTOWN; Station 308A;...   \n",
       "4  40.251492 -75.603350  CHERRYWOOD CT & DEAD END;  LOWER POTTSGROVE; S...   \n",
       "\n",
       "       zip                    title           timeStamp                twp  \\\n",
       "0  19525.0   EMS: BACK PAINS/INJURY 2015-12-10 17:40:00        NEW HANOVER   \n",
       "1  19446.0  EMS: DIABETIC EMERGENCY 2015-12-10 17:40:00  HATFIELD TOWNSHIP   \n",
       "2  19401.0      Fire: GAS-ODOR/LEAK 2015-12-10 17:40:00         NORRISTOWN   \n",
       "3  19401.0   EMS: CARDIAC EMERGENCY 2015-12-10 17:40:01         NORRISTOWN   \n",
       "4      NaN           EMS: DIZZINESS 2015-12-10 17:40:01   LOWER POTTSGROVE   \n",
       "\n",
       "                         addr  e       d_m_y  hour  \n",
       "0      REINDEER CT & DEAD END  1  10-12-2015    17  \n",
       "1  BRIAR PATH & WHITEMARSH LN  1  10-12-2015    17  \n",
       "2                    HAWS AVE  1  10-12-2015    17  \n",
       "3          AIRY ST & SWEDE ST  1  10-12-2015    17  \n",
       "4    CHERRYWOOD CT & DEAD END  1  10-12-2015    17  "
      ]
     },
     "execution_count": 16,
     "metadata": {},
     "output_type": "execute_result"
    }
   ],
   "source": [
    "groupby_date_and_hour.get_group(name=('10-12-2015', 17)).head()"
   ]
  },
  {
   "cell_type": "code",
   "execution_count": 17,
   "id": "5ea29f54",
   "metadata": {},
   "outputs": [],
   "source": [
    "CALLS = groupby_date_and_hour.count()['title'].reset_index()"
   ]
  },
  {
   "cell_type": "code",
   "execution_count": 18,
   "id": "f913123e",
   "metadata": {},
   "outputs": [
    {
     "data": {
      "text/html": [
       "<div>\n",
       "<style scoped>\n",
       "    .dataframe tbody tr th:only-of-type {\n",
       "        vertical-align: middle;\n",
       "    }\n",
       "\n",
       "    .dataframe tbody tr th {\n",
       "        vertical-align: top;\n",
       "    }\n",
       "\n",
       "    .dataframe thead th {\n",
       "        text-align: right;\n",
       "    }\n",
       "</style>\n",
       "<table border=\"1\" class=\"dataframe\">\n",
       "  <thead>\n",
       "    <tr style=\"text-align: right;\">\n",
       "      <th></th>\n",
       "      <th>d_m_y</th>\n",
       "      <th>hour</th>\n",
       "      <th>title</th>\n",
       "    </tr>\n",
       "  </thead>\n",
       "  <tbody>\n",
       "    <tr>\n",
       "      <th>0</th>\n",
       "      <td>1-1-2016</td>\n",
       "      <td>0</td>\n",
       "      <td>18</td>\n",
       "    </tr>\n",
       "    <tr>\n",
       "      <th>1</th>\n",
       "      <td>1-1-2016</td>\n",
       "      <td>1</td>\n",
       "      <td>9</td>\n",
       "    </tr>\n",
       "    <tr>\n",
       "      <th>2</th>\n",
       "      <td>1-1-2016</td>\n",
       "      <td>2</td>\n",
       "      <td>16</td>\n",
       "    </tr>\n",
       "    <tr>\n",
       "      <th>3</th>\n",
       "      <td>1-1-2016</td>\n",
       "      <td>3</td>\n",
       "      <td>4</td>\n",
       "    </tr>\n",
       "    <tr>\n",
       "      <th>4</th>\n",
       "      <td>1-1-2016</td>\n",
       "      <td>4</td>\n",
       "      <td>5</td>\n",
       "    </tr>\n",
       "    <tr>\n",
       "      <th>...</th>\n",
       "      <td>...</td>\n",
       "      <td>...</td>\n",
       "      <td>...</td>\n",
       "    </tr>\n",
       "    <tr>\n",
       "      <th>6141</th>\n",
       "      <td>9-8-2016</td>\n",
       "      <td>19</td>\n",
       "      <td>23</td>\n",
       "    </tr>\n",
       "    <tr>\n",
       "      <th>6142</th>\n",
       "      <td>9-8-2016</td>\n",
       "      <td>20</td>\n",
       "      <td>10</td>\n",
       "    </tr>\n",
       "    <tr>\n",
       "      <th>6143</th>\n",
       "      <td>9-8-2016</td>\n",
       "      <td>21</td>\n",
       "      <td>15</td>\n",
       "    </tr>\n",
       "    <tr>\n",
       "      <th>6144</th>\n",
       "      <td>9-8-2016</td>\n",
       "      <td>22</td>\n",
       "      <td>7</td>\n",
       "    </tr>\n",
       "    <tr>\n",
       "      <th>6145</th>\n",
       "      <td>9-8-2016</td>\n",
       "      <td>23</td>\n",
       "      <td>8</td>\n",
       "    </tr>\n",
       "  </tbody>\n",
       "</table>\n",
       "<p>6146 rows × 3 columns</p>\n",
       "</div>"
      ],
      "text/plain": [
       "         d_m_y  hour  title\n",
       "0     1-1-2016     0     18\n",
       "1     1-1-2016     1      9\n",
       "2     1-1-2016     2     16\n",
       "3     1-1-2016     3      4\n",
       "4     1-1-2016     4      5\n",
       "...        ...   ...    ...\n",
       "6141  9-8-2016    19     23\n",
       "6142  9-8-2016    20     10\n",
       "6143  9-8-2016    21     15\n",
       "6144  9-8-2016    22      7\n",
       "6145  9-8-2016    23      8\n",
       "\n",
       "[6146 rows x 3 columns]"
      ]
     },
     "execution_count": 18,
     "metadata": {},
     "output_type": "execute_result"
    }
   ],
   "source": [
    "CALLS"
   ]
  },
  {
   "cell_type": "code",
   "execution_count": 19,
   "id": "5bcaae6c",
   "metadata": {},
   "outputs": [],
   "source": [
    "CALLS = pd.pivot_table(data = CALLS, values = 'title', index = 'd_m_y', columns = 'hour')"
   ]
  },
  {
   "cell_type": "code",
   "execution_count": 20,
   "id": "9847c204",
   "metadata": {},
   "outputs": [
    {
     "data": {
      "text/html": [
       "<div>\n",
       "<style scoped>\n",
       "    .dataframe tbody tr th:only-of-type {\n",
       "        vertical-align: middle;\n",
       "    }\n",
       "\n",
       "    .dataframe tbody tr th {\n",
       "        vertical-align: top;\n",
       "    }\n",
       "\n",
       "    .dataframe thead th {\n",
       "        text-align: right;\n",
       "    }\n",
       "</style>\n",
       "<table border=\"1\" class=\"dataframe\">\n",
       "  <thead>\n",
       "    <tr style=\"text-align: right;\">\n",
       "      <th>hour</th>\n",
       "      <th>0</th>\n",
       "      <th>1</th>\n",
       "      <th>2</th>\n",
       "      <th>3</th>\n",
       "      <th>4</th>\n",
       "      <th>5</th>\n",
       "      <th>6</th>\n",
       "      <th>7</th>\n",
       "      <th>8</th>\n",
       "      <th>9</th>\n",
       "      <th>...</th>\n",
       "      <th>14</th>\n",
       "      <th>15</th>\n",
       "      <th>16</th>\n",
       "      <th>17</th>\n",
       "      <th>18</th>\n",
       "      <th>19</th>\n",
       "      <th>20</th>\n",
       "      <th>21</th>\n",
       "      <th>22</th>\n",
       "      <th>23</th>\n",
       "    </tr>\n",
       "    <tr>\n",
       "      <th>d_m_y</th>\n",
       "      <th></th>\n",
       "      <th></th>\n",
       "      <th></th>\n",
       "      <th></th>\n",
       "      <th></th>\n",
       "      <th></th>\n",
       "      <th></th>\n",
       "      <th></th>\n",
       "      <th></th>\n",
       "      <th></th>\n",
       "      <th></th>\n",
       "      <th></th>\n",
       "      <th></th>\n",
       "      <th></th>\n",
       "      <th></th>\n",
       "      <th></th>\n",
       "      <th></th>\n",
       "      <th></th>\n",
       "      <th></th>\n",
       "      <th></th>\n",
       "      <th></th>\n",
       "    </tr>\n",
       "  </thead>\n",
       "  <tbody>\n",
       "    <tr>\n",
       "      <th>1-1-2016</th>\n",
       "      <td>18.0</td>\n",
       "      <td>9.0</td>\n",
       "      <td>16.0</td>\n",
       "      <td>4.0</td>\n",
       "      <td>5.0</td>\n",
       "      <td>4.0</td>\n",
       "      <td>5.0</td>\n",
       "      <td>8.0</td>\n",
       "      <td>8.0</td>\n",
       "      <td>7.0</td>\n",
       "      <td>...</td>\n",
       "      <td>16.0</td>\n",
       "      <td>12.0</td>\n",
       "      <td>7.0</td>\n",
       "      <td>18.0</td>\n",
       "      <td>16.0</td>\n",
       "      <td>16.0</td>\n",
       "      <td>9.0</td>\n",
       "      <td>10.0</td>\n",
       "      <td>9.0</td>\n",
       "      <td>12.0</td>\n",
       "    </tr>\n",
       "    <tr>\n",
       "      <th>1-2-2016</th>\n",
       "      <td>6.0</td>\n",
       "      <td>4.0</td>\n",
       "      <td>3.0</td>\n",
       "      <td>4.0</td>\n",
       "      <td>5.0</td>\n",
       "      <td>16.0</td>\n",
       "      <td>10.0</td>\n",
       "      <td>22.0</td>\n",
       "      <td>25.0</td>\n",
       "      <td>23.0</td>\n",
       "      <td>...</td>\n",
       "      <td>23.0</td>\n",
       "      <td>18.0</td>\n",
       "      <td>18.0</td>\n",
       "      <td>28.0</td>\n",
       "      <td>28.0</td>\n",
       "      <td>20.0</td>\n",
       "      <td>11.0</td>\n",
       "      <td>15.0</td>\n",
       "      <td>9.0</td>\n",
       "      <td>12.0</td>\n",
       "    </tr>\n",
       "    <tr>\n",
       "      <th>1-3-2016</th>\n",
       "      <td>5.0</td>\n",
       "      <td>5.0</td>\n",
       "      <td>2.0</td>\n",
       "      <td>1.0</td>\n",
       "      <td>3.0</td>\n",
       "      <td>6.0</td>\n",
       "      <td>12.0</td>\n",
       "      <td>16.0</td>\n",
       "      <td>27.0</td>\n",
       "      <td>19.0</td>\n",
       "      <td>...</td>\n",
       "      <td>23.0</td>\n",
       "      <td>32.0</td>\n",
       "      <td>32.0</td>\n",
       "      <td>27.0</td>\n",
       "      <td>22.0</td>\n",
       "      <td>13.0</td>\n",
       "      <td>14.0</td>\n",
       "      <td>12.0</td>\n",
       "      <td>13.0</td>\n",
       "      <td>6.0</td>\n",
       "    </tr>\n",
       "    <tr>\n",
       "      <th>1-4-2016</th>\n",
       "      <td>14.0</td>\n",
       "      <td>6.0</td>\n",
       "      <td>4.0</td>\n",
       "      <td>8.0</td>\n",
       "      <td>5.0</td>\n",
       "      <td>12.0</td>\n",
       "      <td>12.0</td>\n",
       "      <td>26.0</td>\n",
       "      <td>17.0</td>\n",
       "      <td>13.0</td>\n",
       "      <td>...</td>\n",
       "      <td>26.0</td>\n",
       "      <td>30.0</td>\n",
       "      <td>39.0</td>\n",
       "      <td>37.0</td>\n",
       "      <td>28.0</td>\n",
       "      <td>33.0</td>\n",
       "      <td>27.0</td>\n",
       "      <td>17.0</td>\n",
       "      <td>9.0</td>\n",
       "      <td>12.0</td>\n",
       "    </tr>\n",
       "    <tr>\n",
       "      <th>1-5-2016</th>\n",
       "      <td>11.0</td>\n",
       "      <td>5.0</td>\n",
       "      <td>11.0</td>\n",
       "      <td>7.0</td>\n",
       "      <td>4.0</td>\n",
       "      <td>8.0</td>\n",
       "      <td>6.0</td>\n",
       "      <td>6.0</td>\n",
       "      <td>10.0</td>\n",
       "      <td>17.0</td>\n",
       "      <td>...</td>\n",
       "      <td>NaN</td>\n",
       "      <td>NaN</td>\n",
       "      <td>NaN</td>\n",
       "      <td>NaN</td>\n",
       "      <td>NaN</td>\n",
       "      <td>NaN</td>\n",
       "      <td>NaN</td>\n",
       "      <td>NaN</td>\n",
       "      <td>NaN</td>\n",
       "      <td>NaN</td>\n",
       "    </tr>\n",
       "    <tr>\n",
       "      <th>...</th>\n",
       "      <td>...</td>\n",
       "      <td>...</td>\n",
       "      <td>...</td>\n",
       "      <td>...</td>\n",
       "      <td>...</td>\n",
       "      <td>...</td>\n",
       "      <td>...</td>\n",
       "      <td>...</td>\n",
       "      <td>...</td>\n",
       "      <td>...</td>\n",
       "      <td>...</td>\n",
       "      <td>...</td>\n",
       "      <td>...</td>\n",
       "      <td>...</td>\n",
       "      <td>...</td>\n",
       "      <td>...</td>\n",
       "      <td>...</td>\n",
       "      <td>...</td>\n",
       "      <td>...</td>\n",
       "      <td>...</td>\n",
       "      <td>...</td>\n",
       "    </tr>\n",
       "    <tr>\n",
       "      <th>9-4-2016</th>\n",
       "      <td>6.0</td>\n",
       "      <td>4.0</td>\n",
       "      <td>12.0</td>\n",
       "      <td>7.0</td>\n",
       "      <td>6.0</td>\n",
       "      <td>5.0</td>\n",
       "      <td>4.0</td>\n",
       "      <td>7.0</td>\n",
       "      <td>6.0</td>\n",
       "      <td>13.0</td>\n",
       "      <td>...</td>\n",
       "      <td>23.0</td>\n",
       "      <td>28.0</td>\n",
       "      <td>18.0</td>\n",
       "      <td>16.0</td>\n",
       "      <td>17.0</td>\n",
       "      <td>9.0</td>\n",
       "      <td>11.0</td>\n",
       "      <td>12.0</td>\n",
       "      <td>7.0</td>\n",
       "      <td>2.0</td>\n",
       "    </tr>\n",
       "    <tr>\n",
       "      <th>9-5-2016</th>\n",
       "      <td>3.0</td>\n",
       "      <td>11.0</td>\n",
       "      <td>5.0</td>\n",
       "      <td>3.0</td>\n",
       "      <td>4.0</td>\n",
       "      <td>7.0</td>\n",
       "      <td>7.0</td>\n",
       "      <td>25.0</td>\n",
       "      <td>15.0</td>\n",
       "      <td>25.0</td>\n",
       "      <td>...</td>\n",
       "      <td>15.0</td>\n",
       "      <td>17.0</td>\n",
       "      <td>29.0</td>\n",
       "      <td>20.0</td>\n",
       "      <td>22.0</td>\n",
       "      <td>16.0</td>\n",
       "      <td>16.0</td>\n",
       "      <td>14.0</td>\n",
       "      <td>7.0</td>\n",
       "      <td>10.0</td>\n",
       "    </tr>\n",
       "    <tr>\n",
       "      <th>9-6-2016</th>\n",
       "      <td>6.0</td>\n",
       "      <td>6.0</td>\n",
       "      <td>4.0</td>\n",
       "      <td>5.0</td>\n",
       "      <td>4.0</td>\n",
       "      <td>7.0</td>\n",
       "      <td>12.0</td>\n",
       "      <td>26.0</td>\n",
       "      <td>24.0</td>\n",
       "      <td>13.0</td>\n",
       "      <td>...</td>\n",
       "      <td>34.0</td>\n",
       "      <td>25.0</td>\n",
       "      <td>38.0</td>\n",
       "      <td>40.0</td>\n",
       "      <td>28.0</td>\n",
       "      <td>14.0</td>\n",
       "      <td>5.0</td>\n",
       "      <td>18.0</td>\n",
       "      <td>7.0</td>\n",
       "      <td>10.0</td>\n",
       "    </tr>\n",
       "    <tr>\n",
       "      <th>9-7-2016</th>\n",
       "      <td>9.0</td>\n",
       "      <td>6.0</td>\n",
       "      <td>6.0</td>\n",
       "      <td>3.0</td>\n",
       "      <td>6.0</td>\n",
       "      <td>4.0</td>\n",
       "      <td>5.0</td>\n",
       "      <td>8.0</td>\n",
       "      <td>8.0</td>\n",
       "      <td>18.0</td>\n",
       "      <td>...</td>\n",
       "      <td>15.0</td>\n",
       "      <td>21.0</td>\n",
       "      <td>16.0</td>\n",
       "      <td>16.0</td>\n",
       "      <td>8.0</td>\n",
       "      <td>12.0</td>\n",
       "      <td>24.0</td>\n",
       "      <td>7.0</td>\n",
       "      <td>24.0</td>\n",
       "      <td>16.0</td>\n",
       "    </tr>\n",
       "    <tr>\n",
       "      <th>9-8-2016</th>\n",
       "      <td>6.0</td>\n",
       "      <td>7.0</td>\n",
       "      <td>3.0</td>\n",
       "      <td>2.0</td>\n",
       "      <td>2.0</td>\n",
       "      <td>5.0</td>\n",
       "      <td>5.0</td>\n",
       "      <td>11.0</td>\n",
       "      <td>19.0</td>\n",
       "      <td>18.0</td>\n",
       "      <td>...</td>\n",
       "      <td>28.0</td>\n",
       "      <td>15.0</td>\n",
       "      <td>20.0</td>\n",
       "      <td>33.0</td>\n",
       "      <td>27.0</td>\n",
       "      <td>23.0</td>\n",
       "      <td>10.0</td>\n",
       "      <td>15.0</td>\n",
       "      <td>7.0</td>\n",
       "      <td>8.0</td>\n",
       "    </tr>\n",
       "  </tbody>\n",
       "</table>\n",
       "<p>259 rows × 24 columns</p>\n",
       "</div>"
      ],
      "text/plain": [
       "hour        0     1     2    3    4     5     6     7     8     9   ...    14  \\\n",
       "d_m_y                                                               ...         \n",
       "1-1-2016  18.0   9.0  16.0  4.0  5.0   4.0   5.0   8.0   8.0   7.0  ...  16.0   \n",
       "1-2-2016   6.0   4.0   3.0  4.0  5.0  16.0  10.0  22.0  25.0  23.0  ...  23.0   \n",
       "1-3-2016   5.0   5.0   2.0  1.0  3.0   6.0  12.0  16.0  27.0  19.0  ...  23.0   \n",
       "1-4-2016  14.0   6.0   4.0  8.0  5.0  12.0  12.0  26.0  17.0  13.0  ...  26.0   \n",
       "1-5-2016  11.0   5.0  11.0  7.0  4.0   8.0   6.0   6.0  10.0  17.0  ...   NaN   \n",
       "...        ...   ...   ...  ...  ...   ...   ...   ...   ...   ...  ...   ...   \n",
       "9-4-2016   6.0   4.0  12.0  7.0  6.0   5.0   4.0   7.0   6.0  13.0  ...  23.0   \n",
       "9-5-2016   3.0  11.0   5.0  3.0  4.0   7.0   7.0  25.0  15.0  25.0  ...  15.0   \n",
       "9-6-2016   6.0   6.0   4.0  5.0  4.0   7.0  12.0  26.0  24.0  13.0  ...  34.0   \n",
       "9-7-2016   9.0   6.0   6.0  3.0  6.0   4.0   5.0   8.0   8.0  18.0  ...  15.0   \n",
       "9-8-2016   6.0   7.0   3.0  2.0  2.0   5.0   5.0  11.0  19.0  18.0  ...  28.0   \n",
       "\n",
       "hour        15    16    17    18    19    20    21    22    23  \n",
       "d_m_y                                                           \n",
       "1-1-2016  12.0   7.0  18.0  16.0  16.0   9.0  10.0   9.0  12.0  \n",
       "1-2-2016  18.0  18.0  28.0  28.0  20.0  11.0  15.0   9.0  12.0  \n",
       "1-3-2016  32.0  32.0  27.0  22.0  13.0  14.0  12.0  13.0   6.0  \n",
       "1-4-2016  30.0  39.0  37.0  28.0  33.0  27.0  17.0   9.0  12.0  \n",
       "1-5-2016   NaN   NaN   NaN   NaN   NaN   NaN   NaN   NaN   NaN  \n",
       "...        ...   ...   ...   ...   ...   ...   ...   ...   ...  \n",
       "9-4-2016  28.0  18.0  16.0  17.0   9.0  11.0  12.0   7.0   2.0  \n",
       "9-5-2016  17.0  29.0  20.0  22.0  16.0  16.0  14.0   7.0  10.0  \n",
       "9-6-2016  25.0  38.0  40.0  28.0  14.0   5.0  18.0   7.0  10.0  \n",
       "9-7-2016  21.0  16.0  16.0   8.0  12.0  24.0   7.0  24.0  16.0  \n",
       "9-8-2016  15.0  20.0  33.0  27.0  23.0  10.0  15.0   7.0   8.0  \n",
       "\n",
       "[259 rows x 24 columns]"
      ]
     },
     "execution_count": 20,
     "metadata": {},
     "output_type": "execute_result"
    }
   ],
   "source": [
    "CALLS"
   ]
  },
  {
   "cell_type": "code",
   "execution_count": 21,
   "id": "9ea51738",
   "metadata": {},
   "outputs": [
    {
     "data": {
      "image/png": "[encoded data removed]",
      "text/plain": [
       "<Figure size 1500x1000 with 1 Axes>"
      ]
     },
     "metadata": {},
     "output_type": "display_data"
    }
   ],
   "source": [
    "CALLS.plot.box(figsize = (15, 10))\n",
    "plt.xlabel(\"Hour\")\n",
    "plt.ylabel(\"Number of calls\")\n",
    "plt.show()\n"
   ]
  },
  {
   "cell_type": "code",
   "execution_count": 22,
   "id": "9f9ecd20",
   "metadata": {},
   "outputs": [],
   "source": [
    "mean_calls_per_hour = CALLS.mean().reset_index()\n",
    "mean_calls_per_hour.columns = ['hour', 'no_of_calls']"
   ]
  },
  {
   "cell_type": "code",
   "execution_count": 23,
   "id": "7d8fbbe1",
   "metadata": {},
   "outputs": [
    {
     "data": {
      "text/html": [
       "<div>\n",
       "<style scoped>\n",
       "    .dataframe tbody tr th:only-of-type {\n",
       "        vertical-align: middle;\n",
       "    }\n",
       "\n",
       "    .dataframe tbody tr th {\n",
       "        vertical-align: top;\n",
       "    }\n",
       "\n",
       "    .dataframe thead th {\n",
       "        text-align: right;\n",
       "    }\n",
       "</style>\n",
       "<table border=\"1\" class=\"dataframe\">\n",
       "  <thead>\n",
       "    <tr style=\"text-align: right;\">\n",
       "      <th></th>\n",
       "      <th>hour</th>\n",
       "      <th>no_of_calls</th>\n",
       "    </tr>\n",
       "  </thead>\n",
       "  <tbody>\n",
       "    <tr>\n",
       "      <th>0</th>\n",
       "      <td>0</td>\n",
       "      <td>8.282353</td>\n",
       "    </tr>\n",
       "    <tr>\n",
       "      <th>1</th>\n",
       "      <td>1</td>\n",
       "      <td>6.775591</td>\n",
       "    </tr>\n",
       "    <tr>\n",
       "      <th>2</th>\n",
       "      <td>2</td>\n",
       "      <td>6.122530</td>\n",
       "    </tr>\n",
       "    <tr>\n",
       "      <th>3</th>\n",
       "      <td>3</td>\n",
       "      <td>5.605469</td>\n",
       "    </tr>\n",
       "    <tr>\n",
       "      <th>4</th>\n",
       "      <td>4</td>\n",
       "      <td>5.604743</td>\n",
       "    </tr>\n",
       "    <tr>\n",
       "      <th>5</th>\n",
       "      <td>5</td>\n",
       "      <td>6.363281</td>\n",
       "    </tr>\n",
       "    <tr>\n",
       "      <th>6</th>\n",
       "      <td>6</td>\n",
       "      <td>9.816406</td>\n",
       "    </tr>\n",
       "    <tr>\n",
       "      <th>7</th>\n",
       "      <td>7</td>\n",
       "      <td>15.447471</td>\n",
       "    </tr>\n",
       "    <tr>\n",
       "      <th>8</th>\n",
       "      <td>8</td>\n",
       "      <td>19.550388</td>\n",
       "    </tr>\n",
       "    <tr>\n",
       "      <th>9</th>\n",
       "      <td>9</td>\n",
       "      <td>20.596899</td>\n",
       "    </tr>\n",
       "    <tr>\n",
       "      <th>10</th>\n",
       "      <td>10</td>\n",
       "      <td>20.980620</td>\n",
       "    </tr>\n",
       "    <tr>\n",
       "      <th>11</th>\n",
       "      <td>11</td>\n",
       "      <td>21.568093</td>\n",
       "    </tr>\n",
       "    <tr>\n",
       "      <th>12</th>\n",
       "      <td>12</td>\n",
       "      <td>23.550781</td>\n",
       "    </tr>\n",
       "    <tr>\n",
       "      <th>13</th>\n",
       "      <td>13</td>\n",
       "      <td>23.308594</td>\n",
       "    </tr>\n",
       "    <tr>\n",
       "      <th>14</th>\n",
       "      <td>14</td>\n",
       "      <td>23.425781</td>\n",
       "    </tr>\n",
       "    <tr>\n",
       "      <th>15</th>\n",
       "      <td>15</td>\n",
       "      <td>24.039062</td>\n",
       "    </tr>\n",
       "    <tr>\n",
       "      <th>16</th>\n",
       "      <td>16</td>\n",
       "      <td>25.351562</td>\n",
       "    </tr>\n",
       "    <tr>\n",
       "      <th>17</th>\n",
       "      <td>17</td>\n",
       "      <td>25.357977</td>\n",
       "    </tr>\n",
       "    <tr>\n",
       "      <th>18</th>\n",
       "      <td>18</td>\n",
       "      <td>22.420233</td>\n",
       "    </tr>\n",
       "    <tr>\n",
       "      <th>19</th>\n",
       "      <td>19</td>\n",
       "      <td>19.171875</td>\n",
       "    </tr>\n",
       "    <tr>\n",
       "      <th>20</th>\n",
       "      <td>20</td>\n",
       "      <td>17.097656</td>\n",
       "    </tr>\n",
       "    <tr>\n",
       "      <th>21</th>\n",
       "      <td>21</td>\n",
       "      <td>14.739300</td>\n",
       "    </tr>\n",
       "    <tr>\n",
       "      <th>22</th>\n",
       "      <td>22</td>\n",
       "      <td>12.774319</td>\n",
       "    </tr>\n",
       "    <tr>\n",
       "      <th>23</th>\n",
       "      <td>23</td>\n",
       "      <td>10.035294</td>\n",
       "    </tr>\n",
       "  </tbody>\n",
       "</table>\n",
       "</div>"
      ],
      "text/plain": [
       "    hour  no_of_calls\n",
       "0      0     8.282353\n",
       "1      1     6.775591\n",
       "2      2     6.122530\n",
       "3      3     5.605469\n",
       "4      4     5.604743\n",
       "5      5     6.363281\n",
       "6      6     9.816406\n",
       "7      7    15.447471\n",
       "8      8    19.550388\n",
       "9      9    20.596899\n",
       "10    10    20.980620\n",
       "11    11    21.568093\n",
       "12    12    23.550781\n",
       "13    13    23.308594\n",
       "14    14    23.425781\n",
       "15    15    24.039062\n",
       "16    16    25.351562\n",
       "17    17    25.357977\n",
       "18    18    22.420233\n",
       "19    19    19.171875\n",
       "20    20    17.097656\n",
       "21    21    14.739300\n",
       "22    22    12.774319\n",
       "23    23    10.035294"
      ]
     },
     "execution_count": 23,
     "metadata": {},
     "output_type": "execute_result"
    }
   ],
   "source": [
    "mean_calls_per_hour"
   ]
  },
  {
   "cell_type": "code",
   "execution_count": 24,
   "id": "48c71577",
   "metadata": {},
   "outputs": [],
   "source": [
    "median_calls_per_hour = CALLS.median().reset_index()\n",
    "median_calls_per_hour.columns = ['hour', 'no_of_calls']"
   ]
  },
  {
   "cell_type": "code",
   "execution_count": 25,
   "id": "a9da595e",
   "metadata": {},
   "outputs": [
    {
     "data": {
      "text/html": [
       "<div>\n",
       "<style scoped>\n",
       "    .dataframe tbody tr th:only-of-type {\n",
       "        vertical-align: middle;\n",
       "    }\n",
       "\n",
       "    .dataframe tbody tr th {\n",
       "        vertical-align: top;\n",
       "    }\n",
       "\n",
       "    .dataframe thead th {\n",
       "        text-align: right;\n",
       "    }\n",
       "</style>\n",
       "<table border=\"1\" class=\"dataframe\">\n",
       "  <thead>\n",
       "    <tr style=\"text-align: right;\">\n",
       "      <th></th>\n",
       "      <th>hour</th>\n",
       "      <th>no_of_calls</th>\n",
       "    </tr>\n",
       "  </thead>\n",
       "  <tbody>\n",
       "    <tr>\n",
       "      <th>0</th>\n",
       "      <td>0</td>\n",
       "      <td>8.0</td>\n",
       "    </tr>\n",
       "    <tr>\n",
       "      <th>1</th>\n",
       "      <td>1</td>\n",
       "      <td>6.0</td>\n",
       "    </tr>\n",
       "    <tr>\n",
       "      <th>2</th>\n",
       "      <td>2</td>\n",
       "      <td>6.0</td>\n",
       "    </tr>\n",
       "    <tr>\n",
       "      <th>3</th>\n",
       "      <td>3</td>\n",
       "      <td>5.0</td>\n",
       "    </tr>\n",
       "    <tr>\n",
       "      <th>4</th>\n",
       "      <td>4</td>\n",
       "      <td>5.0</td>\n",
       "    </tr>\n",
       "    <tr>\n",
       "      <th>5</th>\n",
       "      <td>5</td>\n",
       "      <td>6.0</td>\n",
       "    </tr>\n",
       "    <tr>\n",
       "      <th>6</th>\n",
       "      <td>6</td>\n",
       "      <td>9.0</td>\n",
       "    </tr>\n",
       "    <tr>\n",
       "      <th>7</th>\n",
       "      <td>7</td>\n",
       "      <td>14.0</td>\n",
       "    </tr>\n",
       "    <tr>\n",
       "      <th>8</th>\n",
       "      <td>8</td>\n",
       "      <td>19.0</td>\n",
       "    </tr>\n",
       "    <tr>\n",
       "      <th>9</th>\n",
       "      <td>9</td>\n",
       "      <td>20.0</td>\n",
       "    </tr>\n",
       "    <tr>\n",
       "      <th>10</th>\n",
       "      <td>10</td>\n",
       "      <td>21.0</td>\n",
       "    </tr>\n",
       "    <tr>\n",
       "      <th>11</th>\n",
       "      <td>11</td>\n",
       "      <td>21.0</td>\n",
       "    </tr>\n",
       "    <tr>\n",
       "      <th>12</th>\n",
       "      <td>12</td>\n",
       "      <td>23.0</td>\n",
       "    </tr>\n",
       "    <tr>\n",
       "      <th>13</th>\n",
       "      <td>13</td>\n",
       "      <td>23.0</td>\n",
       "    </tr>\n",
       "    <tr>\n",
       "      <th>14</th>\n",
       "      <td>14</td>\n",
       "      <td>23.0</td>\n",
       "    </tr>\n",
       "    <tr>\n",
       "      <th>15</th>\n",
       "      <td>15</td>\n",
       "      <td>24.0</td>\n",
       "    </tr>\n",
       "    <tr>\n",
       "      <th>16</th>\n",
       "      <td>16</td>\n",
       "      <td>24.5</td>\n",
       "    </tr>\n",
       "    <tr>\n",
       "      <th>17</th>\n",
       "      <td>17</td>\n",
       "      <td>24.0</td>\n",
       "    </tr>\n",
       "    <tr>\n",
       "      <th>18</th>\n",
       "      <td>18</td>\n",
       "      <td>22.0</td>\n",
       "    </tr>\n",
       "    <tr>\n",
       "      <th>19</th>\n",
       "      <td>19</td>\n",
       "      <td>18.0</td>\n",
       "    </tr>\n",
       "    <tr>\n",
       "      <th>20</th>\n",
       "      <td>20</td>\n",
       "      <td>16.0</td>\n",
       "    </tr>\n",
       "    <tr>\n",
       "      <th>21</th>\n",
       "      <td>21</td>\n",
       "      <td>14.0</td>\n",
       "    </tr>\n",
       "    <tr>\n",
       "      <th>22</th>\n",
       "      <td>22</td>\n",
       "      <td>12.0</td>\n",
       "    </tr>\n",
       "    <tr>\n",
       "      <th>23</th>\n",
       "      <td>23</td>\n",
       "      <td>9.0</td>\n",
       "    </tr>\n",
       "  </tbody>\n",
       "</table>\n",
       "</div>"
      ],
      "text/plain": [
       "    hour  no_of_calls\n",
       "0      0          8.0\n",
       "1      1          6.0\n",
       "2      2          6.0\n",
       "3      3          5.0\n",
       "4      4          5.0\n",
       "5      5          6.0\n",
       "6      6          9.0\n",
       "7      7         14.0\n",
       "8      8         19.0\n",
       "9      9         20.0\n",
       "10    10         21.0\n",
       "11    11         21.0\n",
       "12    12         23.0\n",
       "13    13         23.0\n",
       "14    14         23.0\n",
       "15    15         24.0\n",
       "16    16         24.5\n",
       "17    17         24.0\n",
       "18    18         22.0\n",
       "19    19         18.0\n",
       "20    20         16.0\n",
       "21    21         14.0\n",
       "22    22         12.0\n",
       "23    23          9.0"
      ]
     },
     "execution_count": 25,
     "metadata": {},
     "output_type": "execute_result"
    }
   ],
   "source": [
    "median_calls_per_hour"
   ]
  },
  {
   "cell_type": "code",
   "execution_count": 26,
   "id": "3978270b",
   "metadata": {},
   "outputs": [
    {
     "data": {
      "text/plain": [
       "hour\n",
       "0     4\n",
       "1     5\n",
       "2     6\n",
       "3     3\n",
       "4     6\n",
       "5     3\n",
       "6     3\n",
       "7     2\n",
       "8     1\n",
       "9     1\n",
       "10    1\n",
       "11    2\n",
       "12    3\n",
       "13    3\n",
       "14    3\n",
       "15    3\n",
       "16    3\n",
       "17    2\n",
       "18    2\n",
       "19    3\n",
       "20    3\n",
       "21    2\n",
       "22    2\n",
       "23    4\n",
       "dtype: int64"
      ]
     },
     "execution_count": 26,
     "metadata": {},
     "output_type": "execute_result"
    }
   ],
   "source": [
    "CALLS.isna().sum()"
   ]
  },
  {
   "cell_type": "code",
   "execution_count": 27,
   "id": "8dad3537",
   "metadata": {},
   "outputs": [],
   "source": [
    "CALLS.fillna(0, inplace=True)\n"
   ]
  },
  {
   "cell_type": "code",
   "execution_count": 28,
   "id": "ac6a6301",
   "metadata": {},
   "outputs": [
    {
     "data": {
      "text/plain": [
       "array([18., 28., 27., 37.,  0., 31., 26., 34., 33., 22., 24., 24., 17.,\n",
       "       37., 23., 20., 20., 24., 35., 20., 21., 20., 30., 19., 39., 22.,\n",
       "       22., 19., 16., 14., 26., 26., 18., 32., 23., 28., 19., 17., 18.,\n",
       "       23., 35., 24., 49., 19., 26., 30., 21., 24., 17., 26., 34., 38.,\n",
       "       21., 29., 32., 37., 24., 32.,  7., 26., 26., 23., 15., 32., 22.,\n",
       "       16., 12., 36., 25., 19., 23., 15., 30., 20., 27., 24., 34., 31.,\n",
       "       19., 22., 16., 46., 23., 23., 40., 28., 18., 15., 30., 19., 25.,\n",
       "       25., 12., 19., 29., 18., 37., 37., 22., 27., 23., 27., 17., 37.,\n",
       "       19., 26., 29., 13., 15., 16., 24., 29., 21., 15., 14., 28., 37.,\n",
       "       20., 27., 29., 17., 27., 33., 24., 40., 36., 20., 16., 15., 11.,\n",
       "       27., 21., 24., 61., 61., 23., 30., 23., 33., 35., 50., 28., 45.,\n",
       "       25., 24., 23., 24., 13., 17., 19.,  0., 27., 22., 25., 20., 41.,\n",
       "       35., 18., 30., 38., 12., 37., 19., 28., 33., 18., 26., 29., 24.,\n",
       "       28.,  8., 21., 36., 16., 30., 19., 25., 15., 36., 31., 26., 17.,\n",
       "       32., 32., 27., 24., 32., 11., 25., 29., 20., 27., 23., 23., 16.,\n",
       "       16., 25., 16., 35., 20., 30., 22., 21., 12., 32., 26., 14., 20.,\n",
       "       27., 38., 20., 34., 31., 17., 28., 30., 11., 20., 24., 33., 31.,\n",
       "        9., 23., 21., 31., 32., 30., 46., 17., 20., 40., 22., 37., 32.,\n",
       "       10., 36.,  9., 25., 26., 29., 35., 24., 13., 30., 24., 29., 17.,\n",
       "       36., 29., 25., 29., 16., 28., 24., 16., 20., 40., 16., 33.])"
      ]
     },
     "execution_count": 28,
     "metadata": {},
     "output_type": "execute_result"
    }
   ],
   "source": [
    "calls_at_5pm = CALLS[17].values\n",
    "calls_at_5pm"
   ]
  },
  {
   "cell_type": "code",
   "execution_count": 29,
   "id": "b4adc87b",
   "metadata": {},
   "outputs": [
    {
     "data": {
      "text/plain": [
       "np.float64(0.877764561294895)"
      ]
     },
     "execution_count": 29,
     "metadata": {},
     "output_type": "execute_result"
    }
   ],
   "source": [
    "# Standard error using data itself\n",
    "np.std(calls_at_5pm)/np.sqrt(100)"
   ]
  },
  {
   "cell_type": "code",
   "execution_count": 30,
   "id": "be197a7c",
   "metadata": {},
   "outputs": [
    {
     "data": {
      "text/plain": [
       "np.float64(25.16216216216216)"
      ]
     },
     "execution_count": 30,
     "metadata": {},
     "output_type": "execute_result"
    }
   ],
   "source": [
    "np.mean(calls_at_5pm)"
   ]
  },
  {
   "cell_type": "code",
   "execution_count": 31,
   "id": "3f482c39",
   "metadata": {},
   "outputs": [
    {
     "data": {
      "text/plain": [
       "(259,)"
      ]
     },
     "execution_count": 31,
     "metadata": {},
     "output_type": "execute_result"
    }
   ],
   "source": [
    "calls_at_5pm.shape"
   ]
  },
  {
   "cell_type": "code",
   "execution_count": 32,
   "id": "8623bcb8",
   "metadata": {},
   "outputs": [
    {
     "data": {
      "text/html": [
       "<div>\n",
       "<style scoped>\n",
       "    .dataframe tbody tr th:only-of-type {\n",
       "        vertical-align: middle;\n",
       "    }\n",
       "\n",
       "    .dataframe tbody tr th {\n",
       "        vertical-align: top;\n",
       "    }\n",
       "\n",
       "    .dataframe thead th {\n",
       "        text-align: right;\n",
       "    }\n",
       "</style>\n",
       "<table border=\"1\" class=\"dataframe\">\n",
       "  <thead>\n",
       "    <tr style=\"text-align: right;\">\n",
       "      <th></th>\n",
       "      <th>hour</th>\n",
       "      <th>no_of_calls</th>\n",
       "    </tr>\n",
       "  </thead>\n",
       "  <tbody>\n",
       "    <tr>\n",
       "      <th>0</th>\n",
       "      <td>0</td>\n",
       "      <td>8.0</td>\n",
       "    </tr>\n",
       "    <tr>\n",
       "      <th>1</th>\n",
       "      <td>1</td>\n",
       "      <td>6.0</td>\n",
       "    </tr>\n",
       "    <tr>\n",
       "      <th>2</th>\n",
       "      <td>2</td>\n",
       "      <td>6.0</td>\n",
       "    </tr>\n",
       "    <tr>\n",
       "      <th>3</th>\n",
       "      <td>3</td>\n",
       "      <td>5.0</td>\n",
       "    </tr>\n",
       "    <tr>\n",
       "      <th>4</th>\n",
       "      <td>4</td>\n",
       "      <td>5.0</td>\n",
       "    </tr>\n",
       "    <tr>\n",
       "      <th>5</th>\n",
       "      <td>5</td>\n",
       "      <td>6.0</td>\n",
       "    </tr>\n",
       "    <tr>\n",
       "      <th>6</th>\n",
       "      <td>6</td>\n",
       "      <td>9.0</td>\n",
       "    </tr>\n",
       "    <tr>\n",
       "      <th>7</th>\n",
       "      <td>7</td>\n",
       "      <td>14.0</td>\n",
       "    </tr>\n",
       "    <tr>\n",
       "      <th>8</th>\n",
       "      <td>8</td>\n",
       "      <td>19.0</td>\n",
       "    </tr>\n",
       "    <tr>\n",
       "      <th>9</th>\n",
       "      <td>9</td>\n",
       "      <td>20.0</td>\n",
       "    </tr>\n",
       "    <tr>\n",
       "      <th>10</th>\n",
       "      <td>10</td>\n",
       "      <td>21.0</td>\n",
       "    </tr>\n",
       "    <tr>\n",
       "      <th>11</th>\n",
       "      <td>11</td>\n",
       "      <td>21.0</td>\n",
       "    </tr>\n",
       "    <tr>\n",
       "      <th>12</th>\n",
       "      <td>12</td>\n",
       "      <td>23.0</td>\n",
       "    </tr>\n",
       "    <tr>\n",
       "      <th>13</th>\n",
       "      <td>13</td>\n",
       "      <td>23.0</td>\n",
       "    </tr>\n",
       "    <tr>\n",
       "      <th>14</th>\n",
       "      <td>14</td>\n",
       "      <td>23.0</td>\n",
       "    </tr>\n",
       "    <tr>\n",
       "      <th>15</th>\n",
       "      <td>15</td>\n",
       "      <td>24.0</td>\n",
       "    </tr>\n",
       "    <tr>\n",
       "      <th>16</th>\n",
       "      <td>16</td>\n",
       "      <td>24.5</td>\n",
       "    </tr>\n",
       "    <tr>\n",
       "      <th>17</th>\n",
       "      <td>17</td>\n",
       "      <td>24.0</td>\n",
       "    </tr>\n",
       "    <tr>\n",
       "      <th>18</th>\n",
       "      <td>18</td>\n",
       "      <td>22.0</td>\n",
       "    </tr>\n",
       "    <tr>\n",
       "      <th>19</th>\n",
       "      <td>19</td>\n",
       "      <td>18.0</td>\n",
       "    </tr>\n",
       "    <tr>\n",
       "      <th>20</th>\n",
       "      <td>20</td>\n",
       "      <td>16.0</td>\n",
       "    </tr>\n",
       "    <tr>\n",
       "      <th>21</th>\n",
       "      <td>21</td>\n",
       "      <td>14.0</td>\n",
       "    </tr>\n",
       "    <tr>\n",
       "      <th>22</th>\n",
       "      <td>22</td>\n",
       "      <td>12.0</td>\n",
       "    </tr>\n",
       "    <tr>\n",
       "      <th>23</th>\n",
       "      <td>23</td>\n",
       "      <td>9.0</td>\n",
       "    </tr>\n",
       "  </tbody>\n",
       "</table>\n",
       "</div>"
      ],
      "text/plain": [
       "    hour  no_of_calls\n",
       "0      0          8.0\n",
       "1      1          6.0\n",
       "2      2          6.0\n",
       "3      3          5.0\n",
       "4      4          5.0\n",
       "5      5          6.0\n",
       "6      6          9.0\n",
       "7      7         14.0\n",
       "8      8         19.0\n",
       "9      9         20.0\n",
       "10    10         21.0\n",
       "11    11         21.0\n",
       "12    12         23.0\n",
       "13    13         23.0\n",
       "14    14         23.0\n",
       "15    15         24.0\n",
       "16    16         24.5\n",
       "17    17         24.0\n",
       "18    18         22.0\n",
       "19    19         18.0\n",
       "20    20         16.0\n",
       "21    21         14.0\n",
       "22    22         12.0\n",
       "23    23          9.0"
      ]
     },
     "execution_count": 32,
     "metadata": {},
     "output_type": "execute_result"
    }
   ],
   "source": [
    "median_calls_per_hour"
   ]
  },
  {
   "cell_type": "code",
   "execution_count": 33,
   "id": "51456a95",
   "metadata": {},
   "outputs": [],
   "source": [
    "# Here we do the clt(central limit theorem)\n",
    "\n",
    "mean_of_calls_at_5pm = []\n",
    "\n",
    "for i in range(1000):\n",
    "    mean = np.random.choice(calls_at_5pm, size = 100).mean()\n",
    "    mean_of_calls_at_5pm.append(mean)\n",
    "\n",
    "mean_of_calls_at_5pm = np.array(mean_of_calls_at_5pm)\n"
   ]
  },
  {
   "cell_type": "code",
   "execution_count": 34,
   "id": "17310b59",
   "metadata": {},
   "outputs": [
    {
     "name": "stderr",
     "output_type": "stream",
     "text": [
      "C:\\Users\\sangram.samanta\\AppData\\Local\\Temp\\ipykernel_24832\\1794664110.py:1: UserWarning: \n",
      "\n",
      "`distplot` is a deprecated function and will be removed in seaborn v0.14.0.\n",
      "\n",
      "Please adapt your code to use either `displot` (a figure-level function with\n",
      "similar flexibility) or `histplot` (an axes-level function for histograms).\n",
      "\n",
      "For a guide to updating your code to use the new functions, please see\n",
      "https://gist.github.com/mwaskom/de44147ed2974457ad6372750bbe5751\n",
      "\n",
      "  sns.distplot(mean_of_calls_at_5pm, bins=25)\n"
     ]
    },
    {
     "data": {
      "text/plain": [
       "<Axes: ylabel='Density'>"
      ]
     },
     "execution_count": 34,
     "metadata": {},
     "output_type": "execute_result"
    },
    {
     "data": {
      "image/png": "[encoded data removed]",
      "text/plain": [
       "<Figure size 640x480 with 1 Axes>"
      ]
     },
     "metadata": {},
     "output_type": "display_data"
    }
   ],
   "source": [
    "sns.distplot(mean_of_calls_at_5pm, bins=25)"
   ]
  },
  {
   "cell_type": "code",
   "execution_count": 35,
   "id": "69d1dcd6",
   "metadata": {},
   "outputs": [
    {
     "data": {
      "text/plain": [
       "np.float64(25.15682)"
      ]
     },
     "execution_count": 35,
     "metadata": {},
     "output_type": "execute_result"
    }
   ],
   "source": [
    "np.mean(mean_of_calls_at_5pm)"
   ]
  },
  {
   "cell_type": "code",
   "execution_count": 36,
   "id": "9294c455",
   "metadata": {},
   "outputs": [
    {
     "data": {
      "text/plain": [
       "np.float64(0.9192657328542166)"
      ]
     },
     "execution_count": 36,
     "metadata": {},
     "output_type": "execute_result"
    }
   ],
   "source": [
    "np.std(mean_of_calls_at_5pm)"
   ]
  },
  {
   "cell_type": "code",
   "execution_count": 37,
   "id": "6180f75c",
   "metadata": {},
   "outputs": [
    {
     "data": {
      "text/plain": [
       "np.float64(27.62)"
      ]
     },
     "execution_count": 37,
     "metadata": {},
     "output_type": "execute_result"
    }
   ],
   "source": [
    "np.percentile(mean_of_calls_at_5pm, 99.5)"
   ]
  },
  {
   "cell_type": "code",
   "execution_count": 38,
   "id": "01da09dc",
   "metadata": {},
   "outputs": [],
   "source": [
    "# Now we will calculate the poission distribution that's generate the in an hour how many calls are happen\n",
    "poission_distribution_hour_wise = {}"
   ]
  },
  {
   "cell_type": "code",
   "execution_count": 39,
   "id": "8fe09e20",
   "metadata": {},
   "outputs": [],
   "source": [
    "for row in median_calls_per_hour.iterrows():\n",
    "    # print(type(row))\n",
    "    poission_distribution_hour_wise[int(row[1]['hour'])] = stats.poisson(mu = row[1]['no_of_calls'])"
   ]
  },
  {
   "cell_type": "code",
   "execution_count": 40,
   "id": "adc5fb16",
   "metadata": {},
   "outputs": [
    {
     "name": "stdout",
     "output_type": "stream",
     "text": [
      "At hour 0, there is a 99.99% probability that, less then 20.0 call will arrive.\n",
      "At hour 1, there is a 99.99% probability that, less then 17.0 call will arrive.\n",
      "At hour 2, there is a 99.99% probability that, less then 17.0 call will arrive.\n",
      "At hour 3, there is a 99.99% probability that, less then 15.0 call will arrive.\n",
      "At hour 4, there is a 99.99% probability that, less then 15.0 call will arrive.\n",
      "At hour 5, there is a 99.99% probability that, less then 17.0 call will arrive.\n",
      "At hour 6, there is a 99.99% probability that, less then 22.0 call will arrive.\n",
      "At hour 7, there is a 99.99% probability that, less then 30.0 call will arrive.\n",
      "At hour 8, there is a 99.99% probability that, less then 37.0 call will arrive.\n",
      "At hour 9, there is a 99.99% probability that, less then 39.0 call will arrive.\n",
      "At hour 10, there is a 99.99% probability that, less then 40.0 call will arrive.\n",
      "At hour 11, there is a 99.99% probability that, less then 40.0 call will arrive.\n",
      "At hour 12, there is a 99.99% probability that, less then 43.0 call will arrive.\n",
      "At hour 13, there is a 99.99% probability that, less then 43.0 call will arrive.\n",
      "At hour 14, there is a 99.99% probability that, less then 43.0 call will arrive.\n",
      "At hour 15, there is a 99.99% probability that, less then 44.0 call will arrive.\n",
      "At hour 16, there is a 99.99% probability that, less then 45.0 call will arrive.\n",
      "At hour 17, there is a 99.99% probability that, less then 44.0 call will arrive.\n",
      "At hour 18, there is a 99.99% probability that, less then 41.0 call will arrive.\n",
      "At hour 19, there is a 99.99% probability that, less then 36.0 call will arrive.\n",
      "At hour 20, there is a 99.99% probability that, less then 33.0 call will arrive.\n",
      "At hour 21, there is a 99.99% probability that, less then 30.0 call will arrive.\n",
      "At hour 22, there is a 99.99% probability that, less then 27.0 call will arrive.\n",
      "At hour 23, there is a 99.99% probability that, less then 22.0 call will arrive.\n"
     ]
    }
   ],
   "source": [
    "for hour in poission_distribution_hour_wise:\n",
    "    print(\"At hour {}, there is a 99.99% probability that, less then {} call will arrive.\"\\\n",
    "          .format(hour, poission_distribution_hour_wise[hour].ppf(0.9999)))"
   ]
  },
  {
   "cell_type": "code",
   "execution_count": 41,
   "id": "6936f073",
   "metadata": {},
   "outputs": [
    {
     "name": "stdout",
     "output_type": "stream",
     "text": [
      "At Hour 0, The no. of stuff required is 2.0\n",
      "At Hour 1, The no. of stuff required is 2.0\n",
      "At Hour 2, The no. of stuff required is 2.0\n",
      "At Hour 3, The no. of stuff required is 2.0\n",
      "At Hour 4, The no. of stuff required is 2.0\n",
      "At Hour 5, The no. of stuff required is 2.0\n",
      "At Hour 6, The no. of stuff required is 3.0\n",
      "At Hour 7, The no. of stuff required is 3.0\n",
      "At Hour 8, The no. of stuff required is 4.0\n",
      "At Hour 9, The no. of stuff required is 4.0\n",
      "At Hour 10, The no. of stuff required is 4.0\n",
      "At Hour 11, The no. of stuff required is 4.0\n",
      "At Hour 12, The no. of stuff required is 5.0\n",
      "At Hour 13, The no. of stuff required is 5.0\n",
      "At Hour 14, The no. of stuff required is 5.0\n",
      "At Hour 15, The no. of stuff required is 5.0\n",
      "At Hour 16, The no. of stuff required is 5.0\n",
      "At Hour 17, The no. of stuff required is 5.0\n",
      "At Hour 18, The no. of stuff required is 5.0\n",
      "At Hour 19, The no. of stuff required is 4.0\n",
      "At Hour 20, The no. of stuff required is 4.0\n",
      "At Hour 21, The no. of stuff required is 3.0\n",
      "At Hour 22, The no. of stuff required is 3.0\n",
      "At Hour 23, The no. of stuff required is 3.0\n"
     ]
    }
   ],
   "source": [
    "for hour in poission_distribution_hour_wise:\n",
    "    print(\"At Hour {}, The no. of stuff required is {}\"\\\n",
    "          .format(hour, np.ceil(poission_distribution_hour_wise[hour].ppf(0.9999)/10)))"
   ]
  },
  {
   "cell_type": "code",
   "execution_count": 42,
   "id": "f4307200",
   "metadata": {},
   "outputs": [],
   "source": [
    "# Now we understand what is ppf\n",
    "a = stats.poisson.rvs(mu = 26, size =100)"
   ]
  },
  {
   "cell_type": "code",
   "execution_count": 43,
   "id": "dbc2bd0b",
   "metadata": {},
   "outputs": [
    {
     "data": {
      "text/plain": [
       "np.float64(0.04184907017542913)"
      ]
     },
     "execution_count": 43,
     "metadata": {},
     "output_type": "execute_result"
    }
   ],
   "source": [
    "stats.poisson.pmf(k = 20, mu = 26)"
   ]
  },
  {
   "cell_type": "code",
   "execution_count": 44,
   "id": "5e4a70fa",
   "metadata": {},
   "outputs": [
    {
     "name": "stderr",
     "output_type": "stream",
     "text": [
      "C:\\Users\\sangram.samanta\\AppData\\Local\\Temp\\ipykernel_24832\\982467660.py:1: UserWarning: \n",
      "\n",
      "`distplot` is a deprecated function and will be removed in seaborn v0.14.0.\n",
      "\n",
      "Please adapt your code to use either `displot` (a figure-level function with\n",
      "similar flexibility) or `histplot` (an axes-level function for histograms).\n",
      "\n",
      "For a guide to updating your code to use the new functions, please see\n",
      "https://gist.github.com/mwaskom/de44147ed2974457ad6372750bbe5751\n",
      "\n",
      "  sns.distplot(a, bins=20)\n"
     ]
    },
    {
     "data": {
      "text/plain": [
       "<Axes: ylabel='Density'>"
      ]
     },
     "execution_count": 44,
     "metadata": {},
     "output_type": "execute_result"
    },
    {
     "data": {
      "image/png": "[encoded data removed]",
      "text/plain": [
       "<Figure size 640x480 with 1 Axes>"
      ]
     },
     "metadata": {},
     "output_type": "display_data"
    }
   ],
   "source": [
    "sns.distplot(a, bins=20)\n"
   ]
  },
  {
   "cell_type": "code",
   "execution_count": 45,
   "id": "ec059aa2",
   "metadata": {},
   "outputs": [],
   "source": [
    "geom_dist = stats.geom(p = 0.08)"
   ]
  },
  {
   "cell_type": "code",
   "execution_count": 46,
   "id": "eacdce83",
   "metadata": {},
   "outputs": [],
   "source": [
    "a = geom_dist.rvs(1000)"
   ]
  },
  {
   "cell_type": "code",
   "execution_count": 47,
   "id": "a5f92644",
   "metadata": {},
   "outputs": [
    {
     "name": "stderr",
     "output_type": "stream",
     "text": [
      "C:\\Users\\sangram.samanta\\AppData\\Local\\Temp\\ipykernel_24832\\207145564.py:1: UserWarning: \n",
      "\n",
      "`distplot` is a deprecated function and will be removed in seaborn v0.14.0.\n",
      "\n",
      "Please adapt your code to use either `displot` (a figure-level function with\n",
      "similar flexibility) or `histplot` (an axes-level function for histograms).\n",
      "\n",
      "For a guide to updating your code to use the new functions, please see\n",
      "https://gist.github.com/mwaskom/de44147ed2974457ad6372750bbe5751\n",
      "\n",
      "  sns.distplot(a, bins=50)\n"
     ]
    },
    {
     "data": {
      "text/plain": [
       "<Axes: ylabel='Density'>"
      ]
     },
     "execution_count": 47,
     "metadata": {},
     "output_type": "execute_result"
    },
    {
     "data": {
      "image/png": "[encoded data removed]",
      "text/plain": [
       "<Figure size 640x480 with 1 Axes>"
      ]
     },
     "metadata": {},
     "output_type": "display_data"
    }
   ],
   "source": [
    "sns.distplot(a, bins=50)"
   ]
  },
  {
   "cell_type": "code",
   "execution_count": 48,
   "id": "86c2d994",
   "metadata": {},
   "outputs": [
    {
     "data": {
      "text/plain": [
       "np.float64(3.7772909062924547)"
      ]
     },
     "execution_count": 48,
     "metadata": {},
     "output_type": "execute_result"
    }
   ],
   "source": [
    "geom_dist.pmf(10)*100"
   ]
  },
  {
   "cell_type": "code",
   "execution_count": 49,
   "id": "a95c2e86",
   "metadata": {},
   "outputs": [
    {
     "data": {
      "text/plain": [
       "np.float64(6.771200000000001)"
      ]
     },
     "execution_count": 49,
     "metadata": {},
     "output_type": "execute_result"
    }
   ],
   "source": [
    "geom_dist.pmf(3)*100"
   ]
  },
  {
   "cell_type": "code",
   "execution_count": 50,
   "id": "a7c8dce8",
   "metadata": {},
   "outputs": [],
   "source": [
    "lognorm = stats.lognorm(s = 1, loc = 0, scale = 5)"
   ]
  },
  {
   "cell_type": "code",
   "execution_count": 51,
   "id": "1844199f",
   "metadata": {},
   "outputs": [],
   "source": [
    "a = lognorm.pdf(np.arange(0, 20, 0.1))"
   ]
  },
  {
   "cell_type": "code",
   "execution_count": 52,
   "id": "ce876362",
   "metadata": {},
   "outputs": [
    {
     "data": {
      "image/png": "[encoded data removed]",
      "text/plain": [
       "<Figure size 640x480 with 1 Axes>"
      ]
     },
     "metadata": {},
     "output_type": "display_data"
    }
   ],
   "source": [
    "plt.plot(a)\n",
    "plt.show()"
   ]
  },
  {
   "cell_type": "code",
   "execution_count": 53,
   "id": "e02e5873",
   "metadata": {},
   "outputs": [
    {
     "data": {
      "text/plain": [
       "array([1.        , 0.44444444, 0.25      , 0.16      , 0.11111111,\n",
       "       0.08163265, 0.0625    , 0.04938272])"
      ]
     },
     "execution_count": 53,
     "metadata": {},
     "output_type": "execute_result"
    }
   ],
   "source": [
    "a = stats.pareto(1).pdf(np.arange(1, 5, 0.5))\n",
    "a"
   ]
  },
  {
   "cell_type": "code",
   "execution_count": 54,
   "id": "9c8e1371",
   "metadata": {},
   "outputs": [
    {
     "data": {
      "image/png": "[encoded data removed]",
      "text/plain": [
       "<Figure size 640x480 with 1 Axes>"
      ]
     },
     "metadata": {},
     "output_type": "display_data"
    }
   ],
   "source": [
    "plt.plot(a)\n",
    "plt.show()"
   ]
  },
  {
   "cell_type": "code",
   "execution_count": 55,
   "id": "f835036f",
   "metadata": {},
   "outputs": [
    {
     "data": {
      "text/plain": [
       "np.float64(6.25)"
      ]
     },
     "execution_count": 55,
     "metadata": {},
     "output_type": "execute_result"
    }
   ],
   "source": [
    "stats.pareto(1).pdf(4)*100"
   ]
  },
  {
   "cell_type": "code",
   "execution_count": 56,
   "id": "999b18a9",
   "metadata": {},
   "outputs": [
    {
     "data": {
      "text/plain": [
       "np.float64(66.66666666666667)"
      ]
     },
     "execution_count": 56,
     "metadata": {},
     "output_type": "execute_result"
    }
   ],
   "source": [
    "stats.pareto(1).cdf(3)*100"
   ]
  },
  {
   "cell_type": "code",
   "execution_count": 57,
   "id": "5d0d8b8a",
   "metadata": {},
   "outputs": [
    {
     "data": {
      "text/plain": [
       "array([0.8       , 0.51095743, 0.3312597 , 0.22702615, 0.16374897,\n",
       "       0.12311786, 0.09569616, 0.07640204])"
      ]
     },
     "execution_count": 57,
     "metadata": {},
     "output_type": "execute_result"
    }
   ],
   "source": [
    "b = stats.pareto(a)\n",
    "\n",
    "b.cdf(5)"
   ]
  },
  {
   "cell_type": "code",
   "execution_count": 64,
   "id": "3e5bd571",
   "metadata": {},
   "outputs": [
    {
     "data": {
      "text/plain": [
       "array([1.        , 1.08080808, 1.16161616, 1.24242424, 1.32323232,\n",
       "       1.4040404 , 1.48484848, 1.56565657, 1.64646465, 1.72727273,\n",
       "       1.80808081, 1.88888889, 1.96969697, 2.05050505, 2.13131313,\n",
       "       2.21212121, 2.29292929, 2.37373737, 2.45454545, 2.53535354,\n",
       "       2.61616162, 2.6969697 , 2.77777778, 2.85858586, 2.93939394,\n",
       "       3.02020202, 3.1010101 , 3.18181818, 3.26262626, 3.34343434,\n",
       "       3.42424242, 3.50505051, 3.58585859, 3.66666667, 3.74747475,\n",
       "       3.82828283, 3.90909091, 3.98989899, 4.07070707, 4.15151515,\n",
       "       4.23232323, 4.31313131, 4.39393939, 4.47474747, 4.55555556,\n",
       "       4.63636364, 4.71717172, 4.7979798 , 4.87878788, 4.95959596,\n",
       "       5.04040404, 5.12121212, 5.2020202 , 5.28282828, 5.36363636,\n",
       "       5.44444444, 5.52525253, 5.60606061, 5.68686869, 5.76767677,\n",
       "       5.84848485, 5.92929293, 6.01010101, 6.09090909, 6.17171717,\n",
       "       6.25252525, 6.33333333, 6.41414141, 6.49494949, 6.57575758,\n",
       "       6.65656566, 6.73737374, 6.81818182, 6.8989899 , 6.97979798,\n",
       "       7.06060606, 7.14141414, 7.22222222, 7.3030303 , 7.38383838,\n",
       "       7.46464646, 7.54545455, 7.62626263, 7.70707071, 7.78787879,\n",
       "       7.86868687, 7.94949495, 8.03030303, 8.11111111, 8.19191919,\n",
       "       8.27272727, 8.35353535, 8.43434343, 8.51515152, 8.5959596 ,\n",
       "       8.67676768, 8.75757576, 8.83838384, 8.91919192, 9.        ])"
      ]
     },
     "execution_count": 64,
     "metadata": {},
     "output_type": "execute_result"
    }
   ],
   "source": [
    "x = np.linspace(1, 9, 100)\n",
    "x"
   ]
  },
  {
   "cell_type": "code",
   "execution_count": 65,
   "id": "463aba7c",
   "metadata": {},
   "outputs": [],
   "source": [
    "perito_dist = stats.pareto(b = 2, loc = 0, scale = 1)"
   ]
  },
  {
   "cell_type": "code",
   "execution_count": 66,
   "id": "4290edb4",
   "metadata": {},
   "outputs": [
    {
     "data": {
      "text/plain": [
       "array([2.        , 1.58410603, 1.27597469, 1.04284616, 0.86322039,\n",
       "       0.72258872, 0.61091892, 0.52112329, 0.44809775, 0.38810322,\n",
       "       0.33835803, 0.29676369, 0.26171689, 0.23197836, 0.20657997,\n",
       "       0.18475799, 0.16590444, 0.14953126, 0.13524361, 0.12271974,\n",
       "       0.11169566, 0.10195342, 0.093312  , 0.08562021, 0.0787511 ,\n",
       "       0.07259756, 0.06706879, 0.06208746, 0.05758747, 0.05351205,\n",
       "       0.04981229, 0.04644588, 0.0433761 , 0.040571  , 0.03800265,\n",
       "       0.03564659, 0.03348133, 0.03148794, 0.02964971, 0.02795182,\n",
       "       0.02638114, 0.02492596, 0.02357587, 0.02232155, 0.02115466,\n",
       "       0.0200677 , 0.01905395, 0.01810734, 0.01722242, 0.01639423,\n",
       "       0.01561831, 0.01489058, 0.01420738, 0.01356533, 0.0129614 ,\n",
       "       0.0123928 , 0.01185697, 0.01135159, 0.01087453, 0.01042383,\n",
       "       0.0099977 , 0.00959448, 0.00921265, 0.00885082, 0.0085077 ,\n",
       "       0.00818208, 0.00787287, 0.00757904, 0.00729966, 0.00703384,\n",
       "       0.00678078, 0.0065397 , 0.00630993, 0.00609079, 0.00588168,\n",
       "       0.00568204, 0.00549133, 0.00530906, 0.00513477, 0.00496802,\n",
       "       0.00480842, 0.00465558, 0.00450915, 0.0043688 , 0.00423421,\n",
       "       0.00410509, 0.00398118, 0.00386219, 0.00374791, 0.00363809,\n",
       "       0.00353251, 0.00343099, 0.00333331, 0.00323931, 0.00314881,\n",
       "       0.00306165, 0.00297768, 0.00289675, 0.00281873, 0.00274348])"
      ]
     },
     "execution_count": 66,
     "metadata": {},
     "output_type": "execute_result"
    }
   ],
   "source": [
    "d = perito_dist.pdf(x)\n",
    "d"
   ]
  },
  {
   "cell_type": "code",
   "execution_count": 67,
   "id": "1ccc28ed",
   "metadata": {},
   "outputs": [
    {
     "data": {
      "text/plain": [
       "[<matplotlib.lines.Line2D at 0x299c842c620>]"
      ]
     },
     "execution_count": 67,
     "metadata": {},
     "output_type": "execute_result"
    },
    {
     "data": {
      "image/png": "[encoded data removed]",
      "text/plain": [
       "<Figure size 640x480 with 1 Axes>"
      ]
     },
     "metadata": {},
     "output_type": "display_data"
    }
   ],
   "source": [
    "plt.plot(x, d)\n"
   ]
  },
  {
   "cell_type": "code",
   "execution_count": 68,
   "id": "7f983a70",
   "metadata": {},
   "outputs": [
    {
     "data": {
      "text/plain": [
       "np.float64(0.96)"
      ]
     },
     "execution_count": 68,
     "metadata": {},
     "output_type": "execute_result"
    }
   ],
   "source": [
    "perito_dist.cdf(5)"
   ]
  },
  {
   "cell_type": "code",
   "execution_count": 69,
   "id": "5f60877a",
   "metadata": {},
   "outputs": [
    {
     "data": {
      "text/plain": [
       "np.float64(0.040000000000000036)"
      ]
     },
     "execution_count": 69,
     "metadata": {},
     "output_type": "execute_result"
    }
   ],
   "source": [
    "1 - perito_dist.cdf(5)"
   ]
  },
  {
   "cell_type": "code",
   "execution_count": null,
   "id": "d506ebc9",
   "metadata": {},
   "outputs": [],
   "source": []
  }
 ],
 "metadata": {
  "kernelspec": {
   "display_name": "Python 3",
   "language": "python",
   "name": "python3"
  },
  "language_info": {
   "codemirror_mode": {
    "name": "ipython",
    "version": 3
   },
   "file_extension": ".py",
   "mimetype": "text/x-python",
   "name": "python",
   "nbconvert_exporter": "python",
   "pygments_lexer": "ipython3",
   "version": "3.12.10"
  }
 },
 "nbformat": 4,
 "nbformat_minor": 5
}
