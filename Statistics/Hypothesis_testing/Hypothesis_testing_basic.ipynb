{
 "cells": [
  {
   "cell_type": "code",
   "execution_count": 11,
   "id": "9f7f3e01",
   "metadata": {},
   "outputs": [],
   "source": [
    "import pandas as pd\n",
    "import numpy as np\n",
    "import matplotlib.pyplot as plt\n",
    "from scipy import stats\n",
    "import seaborn as sns"
   ]
  },
  {
   "cell_type": "code",
   "execution_count": 2,
   "id": "3f48ee6c",
   "metadata": {},
   "outputs": [],
   "source": [
    "ab_test_data = pd.read_csv(\"ab_test_data.csv\")"
   ]
  },
  {
   "cell_type": "code",
   "execution_count": 3,
   "id": "234c30ff",
   "metadata": {},
   "outputs": [
    {
     "data": {
      "text/html": [
       "<div>\n",
       "<style scoped>\n",
       "    .dataframe tbody tr th:only-of-type {\n",
       "        vertical-align: middle;\n",
       "    }\n",
       "\n",
       "    .dataframe tbody tr th {\n",
       "        vertical-align: top;\n",
       "    }\n",
       "\n",
       "    .dataframe thead th {\n",
       "        text-align: right;\n",
       "    }\n",
       "</style>\n",
       "<table border=\"1\" class=\"dataframe\">\n",
       "  <thead>\n",
       "    <tr style=\"text-align: right;\">\n",
       "      <th></th>\n",
       "      <th>date</th>\n",
       "      <th>customer_id</th>\n",
       "      <th>premium</th>\n",
       "      <th>watch_time_hrs</th>\n",
       "      <th>customer_segmnt</th>\n",
       "    </tr>\n",
       "  </thead>\n",
       "  <tbody>\n",
       "    <tr>\n",
       "      <th>0</th>\n",
       "      <td>2018-09-11</td>\n",
       "      <td>402</td>\n",
       "      <td>0</td>\n",
       "      <td>7.173618</td>\n",
       "      <td>control</td>\n",
       "    </tr>\n",
       "    <tr>\n",
       "      <th>1</th>\n",
       "      <td>2018-02-28</td>\n",
       "      <td>227</td>\n",
       "      <td>0</td>\n",
       "      <td>0.836170</td>\n",
       "      <td>control</td>\n",
       "    </tr>\n",
       "    <tr>\n",
       "      <th>2</th>\n",
       "      <td>2018-10-18</td>\n",
       "      <td>812</td>\n",
       "      <td>1</td>\n",
       "      <td>4.402078</td>\n",
       "      <td>treatment</td>\n",
       "    </tr>\n",
       "    <tr>\n",
       "      <th>3</th>\n",
       "      <td>2018-05-22</td>\n",
       "      <td>43</td>\n",
       "      <td>0</td>\n",
       "      <td>3.982454</td>\n",
       "      <td>control</td>\n",
       "    </tr>\n",
       "    <tr>\n",
       "      <th>4</th>\n",
       "      <td>2018-07-18</td>\n",
       "      <td>307</td>\n",
       "      <td>0</td>\n",
       "      <td>7.513302</td>\n",
       "      <td>control</td>\n",
       "    </tr>\n",
       "  </tbody>\n",
       "</table>\n",
       "</div>"
      ],
      "text/plain": [
       "         date  customer_id  premium  watch_time_hrs customer_segmnt\n",
       "0  2018-09-11          402        0        7.173618         control\n",
       "1  2018-02-28          227        0        0.836170         control\n",
       "2  2018-10-18          812        1        4.402078       treatment\n",
       "3  2018-05-22           43        0        3.982454         control\n",
       "4  2018-07-18          307        0        7.513302         control"
      ]
     },
     "execution_count": 3,
     "metadata": {},
     "output_type": "execute_result"
    }
   ],
   "source": [
    "ab_test_data.head()"
   ]
  },
  {
   "cell_type": "code",
   "execution_count": 5,
   "id": "ddc9a665",
   "metadata": {},
   "outputs": [
    {
     "data": {
      "text/plain": [
       "customer_segmnt\n",
       "treatment    9987\n",
       "control      9973\n",
       "Name: count, dtype: int64"
      ]
     },
     "execution_count": 5,
     "metadata": {},
     "output_type": "execute_result"
    }
   ],
   "source": [
    "ab_test_data[\"customer_segmnt\"].value_counts()"
   ]
  },
  {
   "cell_type": "code",
   "execution_count": 6,
   "id": "65b2cce4",
   "metadata": {},
   "outputs": [],
   "source": [
    "q99 = ab_test_data[\"watch_time_hrs\"].quantile(0.999)\n",
    "ab_test_data_no_out = ab_test_data[~(ab_test_data[\"watch_time_hrs\"]>q99)]"
   ]
  },
  {
   "cell_type": "code",
   "execution_count": 9,
   "id": "be8c7328",
   "metadata": {},
   "outputs": [
    {
     "data": {
      "text/plain": [
       "np.float64(18.820564534093776)"
      ]
     },
     "execution_count": 9,
     "metadata": {},
     "output_type": "execute_result"
    }
   ],
   "source": [
    "ab_test_data[\"watch_time_hrs\"].quantile(0.999)"
   ]
  },
  {
   "cell_type": "code",
   "execution_count": 10,
   "id": "ac7ee81e",
   "metadata": {},
   "outputs": [
    {
     "data": {
      "text/plain": [
       "(19940, 5)"
      ]
     },
     "execution_count": 10,
     "metadata": {},
     "output_type": "execute_result"
    }
   ],
   "source": [
    "ab_test_data_no_out.shape"
   ]
  },
  {
   "cell_type": "code",
   "execution_count": 12,
   "id": "4b7726bc",
   "metadata": {},
   "outputs": [
    {
     "name": "stderr",
     "output_type": "stream",
     "text": [
      "C:\\Users\\sangram.samanta\\AppData\\Local\\Temp\\ipykernel_25260\\3581199807.py:1: UserWarning: \n",
      "\n",
      "`distplot` is a deprecated function and will be removed in seaborn v0.14.0.\n",
      "\n",
      "Please adapt your code to use either `displot` (a figure-level function with\n",
      "similar flexibility) or `histplot` (an axes-level function for histograms).\n",
      "\n",
      "For a guide to updating your code to use the new functions, please see\n",
      "https://gist.github.com/mwaskom/de44147ed2974457ad6372750bbe5751\n",
      "\n",
      "  sns.distplot(ab_test_data_no_out[\"watch_time_hrs\"], bins=25)\n"
     ]
    },
    {
     "data": {
      "text/plain": [
       "<Axes: xlabel='watch_time_hrs', ylabel='Density'>"
      ]
     },
     "execution_count": 12,
     "metadata": {},
     "output_type": "execute_result"
    },
    {
     "data": {
      "image/png": "[encoded data removed]",
      "text/plain": [
       "<Figure size 640x480 with 1 Axes>"
      ]
     },
     "metadata": {},
     "output_type": "display_data"
    }
   ],
   "source": [
    "sns.distplot(ab_test_data_no_out[\"watch_time_hrs\"], bins=25)"
   ]
  },
  {
   "cell_type": "code",
   "execution_count": 13,
   "id": "d049bef7",
   "metadata": {},
   "outputs": [
    {
     "name": "stderr",
     "output_type": "stream",
     "text": [
      "C:\\Users\\sangram.samanta\\AppData\\Local\\Temp\\ipykernel_25260\\4234784322.py:1: SettingWithCopyWarning: \n",
      "A value is trying to be set on a copy of a slice from a DataFrame.\n",
      "Try using .loc[row_indexer,col_indexer] = value instead\n",
      "\n",
      "See the caveats in the documentation: https://pandas.pydata.org/pandas-docs/stable/user_guide/indexing.html#returning-a-view-versus-a-copy\n",
      "  ab_test_data_no_out[\"log_watch_time_hrs\"] = np.log(ab_test_data_no_out[\"watch_time_hrs\"])\n"
     ]
    }
   ],
   "source": [
    "ab_test_data_no_out[\"log_watch_time_hrs\"] = np.log(ab_test_data_no_out[\"watch_time_hrs\"])"
   ]
  },
  {
   "cell_type": "code",
   "execution_count": 14,
   "id": "e58c4dce",
   "metadata": {},
   "outputs": [
    {
     "name": "stderr",
     "output_type": "stream",
     "text": [
      "C:\\Users\\sangram.samanta\\AppData\\Local\\Temp\\ipykernel_25260\\664101167.py:1: UserWarning: \n",
      "\n",
      "`distplot` is a deprecated function and will be removed in seaborn v0.14.0.\n",
      "\n",
      "Please adapt your code to use either `displot` (a figure-level function with\n",
      "similar flexibility) or `histplot` (an axes-level function for histograms).\n",
      "\n",
      "For a guide to updating your code to use the new functions, please see\n",
      "https://gist.github.com/mwaskom/de44147ed2974457ad6372750bbe5751\n",
      "\n",
      "  sns.distplot(ab_test_data_no_out[\"log_watch_time_hrs\"], bins=25)\n"
     ]
    },
    {
     "data": {
      "text/plain": [
       "<Axes: xlabel='log_watch_time_hrs', ylabel='Density'>"
      ]
     },
     "execution_count": 14,
     "metadata": {},
     "output_type": "execute_result"
    },
    {
     "data": {
      "image/png": "[encoded data removed]",
      "text/plain": [
       "<Figure size 640x480 with 1 Axes>"
      ]
     },
     "metadata": {},
     "output_type": "display_data"
    }
   ],
   "source": [
    "sns.distplot(ab_test_data_no_out[\"log_watch_time_hrs\"], bins=25)"
   ]
  },
  {
   "cell_type": "code",
   "execution_count": 16,
   "id": "15b7e3da",
   "metadata": {},
   "outputs": [
    {
     "data": {
      "text/plain": [
       "customer_segmnt\n",
       "control      3.583722\n",
       "treatment    3.047443\n",
       "Name: watch_time_hrs, dtype: float64"
      ]
     },
     "execution_count": 16,
     "metadata": {},
     "output_type": "execute_result"
    }
   ],
   "source": [
    "ab_test_data_no_out.groupby(\"customer_segmnt\")[\"watch_time_hrs\"].mean()"
   ]
  },
  {
   "cell_type": "code",
   "execution_count": 17,
   "id": "cc55ee6c",
   "metadata": {},
   "outputs": [],
   "source": [
    "ab_test_control_data = ab_test_data_no_out[ab_test_data_no_out[\"customer_segmnt\"] == \"control\"]\n",
    "ab_test_treatment_data = ab_test_data_no_out[ab_test_data_no_out[\"customer_segmnt\"] == \"treatment\"]"
   ]
  },
  {
   "cell_type": "code",
   "execution_count": null,
   "id": "02d76bec",
   "metadata": {},
   "outputs": [
    {
     "data": {
      "text/plain": [
       "np.float64(0.5362798985684281)"
      ]
     },
     "execution_count": 21,
     "metadata": {},
     "output_type": "execute_result"
    }
   ],
   "source": [
    "ab_test_control_data[\"watch_time_hrs\"].mean() - ab_test_treatment_data[\"watch_time_hrs\"].mean()"
   ]
  },
  {
   "cell_type": "code",
   "execution_count": 24,
   "id": "18d44d64",
   "metadata": {},
   "outputs": [
    {
     "data": {
      "text/plain": [
       "TtestResult(statistic=np.float64(-15.747920984759455), pvalue=np.float64(7.672352845683174e-56), df=np.float64(19938.0))"
      ]
     },
     "execution_count": 24,
     "metadata": {},
     "output_type": "execute_result"
    }
   ],
   "source": [
    "stats.ttest_ind(ab_test_treatment_data[\"watch_time_hrs\"], ab_test_control_data[\"watch_time_hrs\"], alternative=\"less\")"
   ]
  },
  {
   "cell_type": "markdown",
   "id": "c3ffea9c",
   "metadata": {},
   "source": [
    "### Now we can make decision ->\n",
    "here our p value is very less then our significance value(alpha = 0.05)\n",
    "\n",
    "we know that if p value <= significance value then reject the null hypothesis "
   ]
  },
  {
   "cell_type": "code",
   "execution_count": null,
   "id": "045d387b",
   "metadata": {},
   "outputs": [],
   "source": []
  }
 ],
 "metadata": {
  "kernelspec": {
   "display_name": "Python 3",
   "language": "python",
   "name": "python3"
  },
  "language_info": {
   "codemirror_mode": {
    "name": "ipython",
    "version": 3
   },
   "file_extension": ".py",
   "mimetype": "text/x-python",
   "name": "python",
   "nbconvert_exporter": "python",
   "pygments_lexer": "ipython3",
   "version": "3.12.10"
  }
 },
 "nbformat": 4,
 "nbformat_minor": 5
}
