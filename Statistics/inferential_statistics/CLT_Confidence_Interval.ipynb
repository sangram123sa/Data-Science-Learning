{
 "cells": [
  {
   "cell_type": "code",
   "execution_count": 45,
   "id": "045de963",
   "metadata": {},
   "outputs": [],
   "source": [
    "import pandas as pd\n",
    "import numpy as np\n",
    "import matplotlib.pyplot as plt\n",
    "import seaborn as sns"
   ]
  },
  {
   "cell_type": "code",
   "execution_count": 2,
   "id": "deec3f49",
   "metadata": {},
   "outputs": [],
   "source": [
    "df = pd.read_csv('uber_travel_data.csv')"
   ]
  },
  {
   "cell_type": "code",
   "execution_count": 3,
   "id": "b9190e84",
   "metadata": {},
   "outputs": [
    {
     "data": {
      "text/plain": [
       "(4542026, 5)"
      ]
     },
     "execution_count": 3,
     "metadata": {},
     "output_type": "execute_result"
    }
   ],
   "source": [
    "df.shape"
   ]
  },
  {
   "cell_type": "code",
   "execution_count": 4,
   "id": "43b39692",
   "metadata": {},
   "outputs": [
    {
     "data": {
      "text/html": [
       "<div>\n",
       "<style scoped>\n",
       "    .dataframe tbody tr th:only-of-type {\n",
       "        vertical-align: middle;\n",
       "    }\n",
       "\n",
       "    .dataframe tbody tr th {\n",
       "        vertical-align: top;\n",
       "    }\n",
       "\n",
       "    .dataframe thead th {\n",
       "        text-align: right;\n",
       "    }\n",
       "</style>\n",
       "<table border=\"1\" class=\"dataframe\">\n",
       "  <thead>\n",
       "    <tr style=\"text-align: right;\">\n",
       "      <th></th>\n",
       "      <th>sourceid</th>\n",
       "      <th>source</th>\n",
       "      <th>dstid</th>\n",
       "      <th>destination</th>\n",
       "      <th>travel_time</th>\n",
       "    </tr>\n",
       "  </thead>\n",
       "  <tbody>\n",
       "    <tr>\n",
       "      <th>0</th>\n",
       "      <td>1</td>\n",
       "      <td>300 Ring Road, Block CB, Naraina Village, Nara...</td>\n",
       "      <td>1</td>\n",
       "      <td>300 Ring Road, Block CB, Naraina Village, Nara...</td>\n",
       "      <td>283</td>\n",
       "    </tr>\n",
       "    <tr>\n",
       "      <th>1</th>\n",
       "      <td>1</td>\n",
       "      <td>300 Ring Road, Block CB, Naraina Village, Nara...</td>\n",
       "      <td>1</td>\n",
       "      <td>300 Ring Road, Block CB, Naraina Village, Nara...</td>\n",
       "      <td>266</td>\n",
       "    </tr>\n",
       "    <tr>\n",
       "      <th>2</th>\n",
       "      <td>1</td>\n",
       "      <td>300 Ring Road, Block CB, Naraina Village, Nara...</td>\n",
       "      <td>1</td>\n",
       "      <td>300 Ring Road, Block CB, Naraina Village, Nara...</td>\n",
       "      <td>238</td>\n",
       "    </tr>\n",
       "    <tr>\n",
       "      <th>3</th>\n",
       "      <td>1</td>\n",
       "      <td>300 Ring Road, Block CB, Naraina Village, Nara...</td>\n",
       "      <td>1</td>\n",
       "      <td>300 Ring Road, Block CB, Naraina Village, Nara...</td>\n",
       "      <td>269</td>\n",
       "    </tr>\n",
       "    <tr>\n",
       "      <th>4</th>\n",
       "      <td>1</td>\n",
       "      <td>300 Ring Road, Block CB, Naraina Village, Nara...</td>\n",
       "      <td>1</td>\n",
       "      <td>300 Ring Road, Block CB, Naraina Village, Nara...</td>\n",
       "      <td>259</td>\n",
       "    </tr>\n",
       "  </tbody>\n",
       "</table>\n",
       "</div>"
      ],
      "text/plain": [
       "   sourceid                                             source  dstid  \\\n",
       "0         1  300 Ring Road, Block CB, Naraina Village, Nara...      1   \n",
       "1         1  300 Ring Road, Block CB, Naraina Village, Nara...      1   \n",
       "2         1  300 Ring Road, Block CB, Naraina Village, Nara...      1   \n",
       "3         1  300 Ring Road, Block CB, Naraina Village, Nara...      1   \n",
       "4         1  300 Ring Road, Block CB, Naraina Village, Nara...      1   \n",
       "\n",
       "                                         destination  travel_time  \n",
       "0  300 Ring Road, Block CB, Naraina Village, Nara...          283  \n",
       "1  300 Ring Road, Block CB, Naraina Village, Nara...          266  \n",
       "2  300 Ring Road, Block CB, Naraina Village, Nara...          238  \n",
       "3  300 Ring Road, Block CB, Naraina Village, Nara...          269  \n",
       "4  300 Ring Road, Block CB, Naraina Village, Nara...          259  "
      ]
     },
     "execution_count": 4,
     "metadata": {},
     "output_type": "execute_result"
    }
   ],
   "source": [
    "df.head()"
   ]
  },
  {
   "cell_type": "code",
   "execution_count": 10,
   "id": "0b231abc",
   "metadata": {},
   "outputs": [
    {
     "data": {
      "text/plain": [
       "70429"
      ]
     },
     "execution_count": 10,
     "metadata": {},
     "output_type": "execute_result"
    }
   ],
   "source": [
    "df[['sourceid', 'dstid']].drop_duplicates().shape[0]"
   ]
  },
  {
   "cell_type": "code",
   "execution_count": 13,
   "id": "1f8e6fd2",
   "metadata": {},
   "outputs": [
    {
     "data": {
      "text/plain": [
       "sourceid  dstid\n",
       "69        4        50\n",
       "167       107      50\n",
       "          101      50\n",
       "264       14       50\n",
       "167       100      50\n",
       "                   ..\n",
       "83        88       79\n",
       "244       32       79\n",
       "202       201      79\n",
       "          135      79\n",
       "45        170      79\n",
       "Length: 70429, dtype: int64"
      ]
     },
     "execution_count": 13,
     "metadata": {},
     "output_type": "execute_result"
    }
   ],
   "source": [
    "df.value_counts(['sourceid', 'dstid']).sort_values()"
   ]
  },
  {
   "cell_type": "code",
   "execution_count": null,
   "id": "4a016a7c",
   "metadata": {},
   "outputs": [],
   "source": []
  },
  {
   "cell_type": "code",
   "execution_count": 35,
   "id": "111c665f",
   "metadata": {},
   "outputs": [
    {
     "data": {
      "text/html": [
       "<div>\n",
       "<style scoped>\n",
       "    .dataframe tbody tr th:only-of-type {\n",
       "        vertical-align: middle;\n",
       "    }\n",
       "\n",
       "    .dataframe tbody tr th {\n",
       "        vertical-align: top;\n",
       "    }\n",
       "\n",
       "    .dataframe thead th {\n",
       "        text-align: right;\n",
       "    }\n",
       "</style>\n",
       "<table border=\"1\" class=\"dataframe\">\n",
       "  <thead>\n",
       "    <tr style=\"text-align: right;\">\n",
       "      <th></th>\n",
       "      <th>sourceid</th>\n",
       "      <th>source</th>\n",
       "      <th>dstid</th>\n",
       "      <th>destination</th>\n",
       "      <th>travel_time</th>\n",
       "    </tr>\n",
       "  </thead>\n",
       "  <tbody>\n",
       "    <tr>\n",
       "      <th>265</th>\n",
       "      <td>1</td>\n",
       "      <td>300 Ring Road, Block CB, Naraina Village, Nara...</td>\n",
       "      <td>5</td>\n",
       "      <td>Old Palam Road, Delhi Cantonment, New Delhi</td>\n",
       "      <td>1084</td>\n",
       "    </tr>\n",
       "    <tr>\n",
       "      <th>266</th>\n",
       "      <td>1</td>\n",
       "      <td>300 Ring Road, Block CB, Naraina Village, Nara...</td>\n",
       "      <td>5</td>\n",
       "      <td>Old Palam Road, Delhi Cantonment, New Delhi</td>\n",
       "      <td>1138</td>\n",
       "    </tr>\n",
       "    <tr>\n",
       "      <th>267</th>\n",
       "      <td>1</td>\n",
       "      <td>300 Ring Road, Block CB, Naraina Village, Nara...</td>\n",
       "      <td>5</td>\n",
       "      <td>Old Palam Road, Delhi Cantonment, New Delhi</td>\n",
       "      <td>1129</td>\n",
       "    </tr>\n",
       "    <tr>\n",
       "      <th>268</th>\n",
       "      <td>1</td>\n",
       "      <td>300 Ring Road, Block CB, Naraina Village, Nara...</td>\n",
       "      <td>5</td>\n",
       "      <td>Old Palam Road, Delhi Cantonment, New Delhi</td>\n",
       "      <td>1076</td>\n",
       "    </tr>\n",
       "    <tr>\n",
       "      <th>269</th>\n",
       "      <td>1</td>\n",
       "      <td>300 Ring Road, Block CB, Naraina Village, Nara...</td>\n",
       "      <td>5</td>\n",
       "      <td>Old Palam Road, Delhi Cantonment, New Delhi</td>\n",
       "      <td>1123</td>\n",
       "    </tr>\n",
       "  </tbody>\n",
       "</table>\n",
       "</div>"
      ],
      "text/plain": [
       "     sourceid                                             source  dstid  \\\n",
       "265         1  300 Ring Road, Block CB, Naraina Village, Nara...      5   \n",
       "266         1  300 Ring Road, Block CB, Naraina Village, Nara...      5   \n",
       "267         1  300 Ring Road, Block CB, Naraina Village, Nara...      5   \n",
       "268         1  300 Ring Road, Block CB, Naraina Village, Nara...      5   \n",
       "269         1  300 Ring Road, Block CB, Naraina Village, Nara...      5   \n",
       "\n",
       "                                     destination  travel_time  \n",
       "265  Old Palam Road, Delhi Cantonment, New Delhi         1084  \n",
       "266  Old Palam Road, Delhi Cantonment, New Delhi         1138  \n",
       "267  Old Palam Road, Delhi Cantonment, New Delhi         1129  \n",
       "268  Old Palam Road, Delhi Cantonment, New Delhi         1076  \n",
       "269  Old Palam Road, Delhi Cantonment, New Delhi         1123  "
      ]
     },
     "execution_count": 35,
     "metadata": {},
     "output_type": "execute_result"
    }
   ],
   "source": [
    "df_sample = df[(df['sourceid'] == 1) & (df['dstid']==5)]\n",
    "df_sample.head()"
   ]
  },
  {
   "cell_type": "code",
   "execution_count": 36,
   "id": "1c25ae08",
   "metadata": {},
   "outputs": [
    {
     "data": {
      "image/png": "[encoded data removed]",
      "text/plain": [
       "<Figure size 432x288 with 1 Axes>"
      ]
     },
     "metadata": {
      "needs_background": "light"
     },
     "output_type": "display_data"
    }
   ],
   "source": [
    "plt.hist(df_sample['travel_time'], bins = 25)\n",
    "plt.show()"
   ]
  },
  {
   "cell_type": "code",
   "execution_count": 37,
   "id": "bd2e7dfb",
   "metadata": {},
   "outputs": [
    {
     "name": "stdout",
     "output_type": "stream",
     "text": [
      "Mean: 1122.8133333333333\n",
      "Std: 24.68268532706591\n"
     ]
    }
   ],
   "source": [
    "print(\"Mean:\", df_sample['travel_time'].mean())\n",
    "print(\"Std:\", df_sample['travel_time'].std())"
   ]
  },
  {
   "cell_type": "code",
   "execution_count": 38,
   "id": "3c5ac6b7",
   "metadata": {},
   "outputs": [
    {
     "data": {
      "text/html": [
       "<div>\n",
       "<style scoped>\n",
       "    .dataframe tbody tr th:only-of-type {\n",
       "        vertical-align: middle;\n",
       "    }\n",
       "\n",
       "    .dataframe tbody tr th {\n",
       "        vertical-align: top;\n",
       "    }\n",
       "\n",
       "    .dataframe thead th {\n",
       "        text-align: right;\n",
       "    }\n",
       "</style>\n",
       "<table border=\"1\" class=\"dataframe\">\n",
       "  <thead>\n",
       "    <tr style=\"text-align: right;\">\n",
       "      <th></th>\n",
       "      <th>sourceid</th>\n",
       "      <th>source</th>\n",
       "      <th>dstid</th>\n",
       "      <th>destination</th>\n",
       "      <th>travel_time</th>\n",
       "    </tr>\n",
       "  </thead>\n",
       "  <tbody>\n",
       "    <tr>\n",
       "      <th>221237</th>\n",
       "      <td>13</td>\n",
       "      <td>10, Aurangzeb Road, New Delhi</td>\n",
       "      <td>66</td>\n",
       "      <td>nullBhagat Singh Market Marg, Block K, Malviya...</td>\n",
       "      <td>1335</td>\n",
       "    </tr>\n",
       "    <tr>\n",
       "      <th>221238</th>\n",
       "      <td>13</td>\n",
       "      <td>10, Aurangzeb Road, New Delhi</td>\n",
       "      <td>66</td>\n",
       "      <td>nullBhagat Singh Market Marg, Block K, Malviya...</td>\n",
       "      <td>1269</td>\n",
       "    </tr>\n",
       "    <tr>\n",
       "      <th>221239</th>\n",
       "      <td>13</td>\n",
       "      <td>10, Aurangzeb Road, New Delhi</td>\n",
       "      <td>66</td>\n",
       "      <td>nullBhagat Singh Market Marg, Block K, Malviya...</td>\n",
       "      <td>1248</td>\n",
       "    </tr>\n",
       "    <tr>\n",
       "      <th>221240</th>\n",
       "      <td>13</td>\n",
       "      <td>10, Aurangzeb Road, New Delhi</td>\n",
       "      <td>66</td>\n",
       "      <td>nullBhagat Singh Market Marg, Block K, Malviya...</td>\n",
       "      <td>1299</td>\n",
       "    </tr>\n",
       "    <tr>\n",
       "      <th>221241</th>\n",
       "      <td>13</td>\n",
       "      <td>10, Aurangzeb Road, New Delhi</td>\n",
       "      <td>66</td>\n",
       "      <td>nullBhagat Singh Market Marg, Block K, Malviya...</td>\n",
       "      <td>1322</td>\n",
       "    </tr>\n",
       "  </tbody>\n",
       "</table>\n",
       "</div>"
      ],
      "text/plain": [
       "        sourceid                         source  dstid  \\\n",
       "221237        13  10, Aurangzeb Road, New Delhi     66   \n",
       "221238        13  10, Aurangzeb Road, New Delhi     66   \n",
       "221239        13  10, Aurangzeb Road, New Delhi     66   \n",
       "221240        13  10, Aurangzeb Road, New Delhi     66   \n",
       "221241        13  10, Aurangzeb Road, New Delhi     66   \n",
       "\n",
       "                                              destination  travel_time  \n",
       "221237  nullBhagat Singh Market Marg, Block K, Malviya...         1335  \n",
       "221238  nullBhagat Singh Market Marg, Block K, Malviya...         1269  \n",
       "221239  nullBhagat Singh Market Marg, Block K, Malviya...         1248  \n",
       "221240  nullBhagat Singh Market Marg, Block K, Malviya...         1299  \n",
       "221241  nullBhagat Singh Market Marg, Block K, Malviya...         1322  "
      ]
     },
     "execution_count": 38,
     "metadata": {},
     "output_type": "execute_result"
    }
   ],
   "source": [
    "df_sample = df[(df['sourceid'] == 13) & (df['dstid']==66)]\n",
    "df_sample.head()"
   ]
  },
  {
   "cell_type": "code",
   "execution_count": 39,
   "id": "b59fbf8f",
   "metadata": {},
   "outputs": [
    {
     "data": {
      "text/plain": [
       "(70, 5)"
      ]
     },
     "execution_count": 39,
     "metadata": {},
     "output_type": "execute_result"
    }
   ],
   "source": [
    "df_sample.shape"
   ]
  },
  {
   "cell_type": "code",
   "execution_count": 46,
   "id": "8f9a8d20",
   "metadata": {},
   "outputs": [
    {
     "data": {
      "text/plain": [
       "<AxesSubplot:xlabel='travel_time', ylabel='Count'>"
      ]
     },
     "execution_count": 46,
     "metadata": {},
     "output_type": "execute_result"
    },
    {
     "data": {
      "image/png": "[encoded data removed]",
      "text/plain": [
       "<Figure size 432x288 with 1 Axes>"
      ]
     },
     "metadata": {
      "needs_background": "light"
     },
     "output_type": "display_data"
    }
   ],
   "source": [
    "sns.histplot(df_sample['travel_time'],bins=25, kde=True)"
   ]
  },
  {
   "cell_type": "code",
   "execution_count": null,
   "id": "4ba99195",
   "metadata": {},
   "outputs": [],
   "source": []
  },
  {
   "cell_type": "code",
   "execution_count": 48,
   "id": "00b7ec3f",
   "metadata": {},
   "outputs": [
    {
     "data": {
      "text/plain": [
       "sourceid            0\n",
       "source         832748\n",
       "dstid               0\n",
       "destination    797904\n",
       "travel_time         0\n",
       "dtype: int64"
      ]
     },
     "execution_count": 48,
     "metadata": {},
     "output_type": "execute_result"
    }
   ],
   "source": [
    "df.isna().sum()"
   ]
  },
  {
   "cell_type": "code",
   "execution_count": null,
   "id": "ac236fb2",
   "metadata": {},
   "outputs": [],
   "source": []
  },
  {
   "cell_type": "markdown",
   "id": "10a84840",
   "metadata": {},
   "source": [
    "### Bootstrapping in Python"
   ]
  },
  {
   "cell_type": "code",
   "execution_count": 96,
   "id": "29cb8fb0",
   "metadata": {},
   "outputs": [],
   "source": [
    "r = 1000\n",
    "\n",
    "sample = df_sample['travel_time'].values\n",
    "\n",
    "size = sample.shape[0]\n",
    "\n",
    "bs_samples = []\n",
    "\n",
    "for i in range(r):\n",
    "    bs_sample = np.random.choice(sample, size = size)\n",
    "    bs_samples.append(bs_sample.mean())\n",
    "    \n",
    "bs_samples = np.array(bs_samples)"
   ]
  },
  {
   "cell_type": "code",
   "execution_count": 97,
   "id": "6301ceac",
   "metadata": {},
   "outputs": [
    {
     "data": {
      "text/plain": [
       "array([1283.5       , 1285.17142857, 1286.91428571, 1285.74285714,\n",
       "       1286.35714286])"
      ]
     },
     "execution_count": 97,
     "metadata": {},
     "output_type": "execute_result"
    }
   ],
   "source": [
    "bs_samples[:5]"
   ]
  },
  {
   "cell_type": "code",
   "execution_count": 98,
   "id": "818b0880",
   "metadata": {},
   "outputs": [
    {
     "data": {
      "image/png": "[encoded data removed]",
      "text/plain": [
       "<Figure size 432x288 with 1 Axes>"
      ]
     },
     "metadata": {
      "needs_background": "light"
     },
     "output_type": "display_data"
    }
   ],
   "source": [
    "sns.histplot(bs_samples, bins = 25 , kde = True)\n",
    "plt.show()"
   ]
  },
  {
   "cell_type": "code",
   "execution_count": 91,
   "id": "0743ae69",
   "metadata": {},
   "outputs": [
    {
     "name": "stdout",
     "output_type": "stream",
     "text": [
      "1284.5588857142855\n",
      "1284.5142857142857\n"
     ]
    }
   ],
   "source": [
    "print(bs_samples.mean())\n",
    "print(np.median(bs_samples))"
   ]
  },
  {
   "cell_type": "code",
   "execution_count": null,
   "id": "50f077f0",
   "metadata": {},
   "outputs": [],
   "source": []
  },
  {
   "cell_type": "markdown",
   "id": "215cde31",
   "metadata": {},
   "source": [
    "#### Exponential Distribution"
   ]
  },
  {
   "cell_type": "code",
   "execution_count": 99,
   "id": "fee0f07e",
   "metadata": {},
   "outputs": [],
   "source": [
    "sample = np.random.exponential(scale=10,size=1000)"
   ]
  },
  {
   "cell_type": "code",
   "execution_count": 101,
   "id": "e571b62c",
   "metadata": {},
   "outputs": [
    {
     "data": {
      "image/png": "[encoded data removed]",
      "text/plain": [
       "<Figure size 432x288 with 1 Axes>"
      ]
     },
     "metadata": {
      "needs_background": "light"
     },
     "output_type": "display_data"
    }
   ],
   "source": [
    "plt.hist(sample, bins = 25)\n",
    "plt.show()"
   ]
  },
  {
   "cell_type": "code",
   "execution_count": 102,
   "id": "10e4cc35",
   "metadata": {},
   "outputs": [
    {
     "data": {
      "image/png": "[encoded data removed]",
      "text/plain": [
       "<Figure size 432x288 with 1 Axes>"
      ]
     },
     "metadata": {
      "needs_background": "light"
     },
     "output_type": "display_data"
    }
   ],
   "source": [
    "r = 1000\n",
    "size = len(sample)\n",
    "bs_means = np.empty(r)\n",
    "\n",
    "for i in range(r):\n",
    "    bs_sample = np.random.choice(sample, size=size)\n",
    "    bs_means[i] = np.mean(bs_sample)\n",
    "\n",
    "plt.figure()\n",
    "plt.hist(bs_means, bins=25)\n",
    "plt.title(\"Sampling Distribution of means from Exponentially Distributed samples\")\n",
    "plt.show()"
   ]
  },
  {
   "cell_type": "code",
   "execution_count": null,
   "id": "578b8d55",
   "metadata": {},
   "outputs": [],
   "source": []
  },
  {
   "cell_type": "code",
   "execution_count": 120,
   "id": "0d60e34e",
   "metadata": {},
   "outputs": [
    {
     "data": {
      "image/png": "[encoded data removed]",
      "text/plain": [
       "<Figure size 432x288 with 1 Axes>"
      ]
     },
     "metadata": {
      "needs_background": "light"
     },
     "output_type": "display_data"
    },
    {
     "data": {
      "image/png": "[encoded data removed]",
      "text/plain": [
       "<Figure size 432x288 with 1 Axes>"
      ]
     },
     "metadata": {
      "needs_background": "light"
     },
     "output_type": "display_data"
    },
    {
     "data": {
      "image/png": "[encoded data removed]",
      "text/plain": [
       "<Figure size 432x288 with 1 Axes>"
      ]
     },
     "metadata": {
      "needs_background": "light"
     },
     "output_type": "display_data"
    },
    {
     "data": {
      "image/png": "[encoded data removed]",
      "text/plain": [
       "<Figure size 432x288 with 1 Axes>"
      ]
     },
     "metadata": {
      "needs_background": "light"
     },
     "output_type": "display_data"
    },
    {
     "data": {
      "image/png": "[encoded data removed]",
      "text/plain": [
       "<Figure size 432x288 with 1 Axes>"
      ]
     },
     "metadata": {
      "needs_background": "light"
     },
     "output_type": "display_data"
    }
   ],
   "source": [
    "np.random.seed(0)\n",
    "\n",
    "r = 1000\n",
    "n_list = [1, 5, 10, 20, len(df_sample[\"travel_time\"])]\n",
    "sample = df_sample[\"travel_time\"]\n",
    "\n",
    "for n in n_list:\n",
    "    bs_means = np.empty(r)\n",
    "    for i in range(r):\n",
    "        bs_sample = np.random.choice(sample, size=n)\n",
    "        bs_means[i] = np.mean(bs_sample)\n",
    "    plt.figure()\n",
    "    sns.histplot(bs_means, bins=25, kde = True)\n",
    "    plt.title(f\"Sampling Distribution with n={n}, mean={np.mean(bs_means)}, std={np.std(bs_means)}\")\n",
    "    plt.show()"
   ]
  },
  {
   "cell_type": "code",
   "execution_count": 107,
   "id": "6ea64a89",
   "metadata": {},
   "outputs": [
    {
     "data": {
      "text/plain": [
       "70"
      ]
     },
     "execution_count": 107,
     "metadata": {},
     "output_type": "execute_result"
    }
   ],
   "source": [
    "df_sample.shape[0]"
   ]
  },
  {
   "cell_type": "code",
   "execution_count": 108,
   "id": "940be2bc",
   "metadata": {},
   "outputs": [
    {
     "data": {
      "text/plain": [
       "70"
      ]
     },
     "execution_count": 108,
     "metadata": {},
     "output_type": "execute_result"
    }
   ],
   "source": [
    "len(df_sample)"
   ]
  },
  {
   "cell_type": "code",
   "execution_count": 163,
   "id": "f7bd5b04",
   "metadata": {},
   "outputs": [
    {
     "name": "stdout",
     "output_type": "stream",
     "text": [
      "n = 1, emperical standard error = 21.637097194402024, theoritical std = 21.89923118583418\n",
      "n = 5, emperical standard error = 9.670050173603029, theoritical std = 9.79363391730171\n",
      "n = 10, emperical standard error = 6.781366540749734, theoritical std = 6.925144955382611\n",
      "n = 20, emperical standard error = 4.886249195190518, theoritical std = 4.896816958650855\n",
      "n = 70, emperical standard error = 2.5278707115851082, theoritical std = 2.617458763573697\n"
     ]
    }
   ],
   "source": [
    "r = 1000\n",
    "n_list = [1, 5, 10, 20, len(df_sample[\"travel_time\"])]\n",
    "sample = df_sample[\"travel_time\"].values\n",
    "\n",
    "for n in n_list:\n",
    "    bs_means = np.empty(r)\n",
    "    for i in range(r):\n",
    "        bs_sample = np.random.choice(sample, size=n)\n",
    "        bs_means[i] = np.mean(bs_sample)\n",
    "    print(\"n = {}, emperical standard error = {}, theoritical std = {}\".format(n, bs_means.std(), sample.std()/ (n**0.5) ))"
   ]
  },
  {
   "cell_type": "code",
   "execution_count": 131,
   "id": "5c10ed2e",
   "metadata": {},
   "outputs": [
    {
     "data": {
      "text/plain": [
       "21.89923118583418"
      ]
     },
     "execution_count": 131,
     "metadata": {},
     "output_type": "execute_result"
    }
   ],
   "source": [
    "sample.std()/ (n**0.5) "
   ]
  },
  {
   "cell_type": "code",
   "execution_count": 128,
   "id": "44d73e79",
   "metadata": {},
   "outputs": [
    {
     "data": {
      "text/plain": [
       "6.925144955382611"
      ]
     },
     "execution_count": 128,
     "metadata": {},
     "output_type": "execute_result"
    }
   ],
   "source": [
    "sample.std()/(10)**0.5"
   ]
  },
  {
   "cell_type": "code",
   "execution_count": null,
   "id": "66e5837d",
   "metadata": {},
   "outputs": [],
   "source": []
  },
  {
   "cell_type": "code",
   "execution_count": null,
   "id": "31a906b5",
   "metadata": {},
   "outputs": [],
   "source": []
  },
  {
   "cell_type": "markdown",
   "id": "52000383",
   "metadata": {},
   "source": [
    "# Interval Estimates - Confidence Interval."
   ]
  },
  {
   "cell_type": "code",
   "execution_count": 168,
   "id": "d86096fe",
   "metadata": {},
   "outputs": [
    {
     "name": "stdout",
     "output_type": "stream",
     "text": [
      "1284.6818714285714 2.5278707115851082\n"
     ]
    }
   ],
   "source": [
    "mu = bs_means.mean()\n",
    "sig = bs_means.std()\n",
    "\n",
    "print(mu, sig)\n"
   ]
  },
  {
   "cell_type": "code",
   "execution_count": 170,
   "id": "8588b08a",
   "metadata": {},
   "outputs": [
    {
     "data": {
      "text/plain": [
       "[1279.6261300054011, 1289.7376128517417]"
      ]
     },
     "execution_count": 170,
     "metadata": {},
     "output_type": "execute_result"
    }
   ],
   "source": [
    "[mu - 2*sig, mu+2*sig]"
   ]
  },
  {
   "cell_type": "markdown",
   "id": "c2892772",
   "metadata": {},
   "source": [
    "## 90% confidence interval"
   ]
  },
  {
   "cell_type": "code",
   "execution_count": 172,
   "id": "ac5cf35e",
   "metadata": {},
   "outputs": [
    {
     "data": {
      "text/plain": [
       "(1280.4285714285713, 1288.672142857143)"
      ]
     },
     "execution_count": 172,
     "metadata": {},
     "output_type": "execute_result"
    }
   ],
   "source": [
    "np.percentile(bs_means, 5), np.percentile(bs_means, 95)"
   ]
  },
  {
   "cell_type": "code",
   "execution_count": 174,
   "id": "9d72c988",
   "metadata": {},
   "outputs": [
    {
     "data": {
      "text/plain": [
       "1284.6285714285714"
      ]
     },
     "execution_count": 174,
     "metadata": {},
     "output_type": "execute_result"
    }
   ],
   "source": [
    "df_sample['travel_time'].mean()"
   ]
  },
  {
   "cell_type": "code",
   "execution_count": null,
   "id": "51aba437",
   "metadata": {},
   "outputs": [],
   "source": []
  },
  {
   "cell_type": "code",
   "execution_count": null,
   "id": "e660d112",
   "metadata": {},
   "outputs": [],
   "source": []
  }
 ],
 "metadata": {
  "kernelspec": {
   "display_name": "Python 3",
   "language": "python",
   "name": "python3"
  },
  "language_info": {
   "codemirror_mode": {
    "name": "ipython",
    "version": 3
   },
   "file_extension": ".py",
   "mimetype": "text/x-python",
   "name": "python",
   "nbconvert_exporter": "python",
   "pygments_lexer": "ipython3",
   "version": "3.8.8"
  }
 },
 "nbformat": 4,
 "nbformat_minor": 5
}
