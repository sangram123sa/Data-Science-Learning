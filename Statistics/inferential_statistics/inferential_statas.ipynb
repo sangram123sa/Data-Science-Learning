{
 "cells": [
  {
   "cell_type": "code",
   "execution_count": null,
   "id": "ad656ad3",
   "metadata": {},
   "outputs": [],
   "source": [
    "import pandas as pd\n",
    "import numpy as np\n",
    "import matplotlib.pyplot as plt"
   ]
  },
  {
   "cell_type": "code",
   "execution_count": 2,
   "id": "53a07d63",
   "metadata": {},
   "outputs": [],
   "source": [
    "df = pd.read_csv(\"travel_data.csv\")"
   ]
  },
  {
   "cell_type": "code",
   "execution_count": 4,
   "id": "f4bda19b",
   "metadata": {},
   "outputs": [
    {
     "data": {
      "text/html": [
       "<div>\n",
       "<style scoped>\n",
       "    .dataframe tbody tr th:only-of-type {\n",
       "        vertical-align: middle;\n",
       "    }\n",
       "\n",
       "    .dataframe tbody tr th {\n",
       "        vertical-align: top;\n",
       "    }\n",
       "\n",
       "    .dataframe thead th {\n",
       "        text-align: right;\n",
       "    }\n",
       "</style>\n",
       "<table border=\"1\" class=\"dataframe\">\n",
       "  <thead>\n",
       "    <tr style=\"text-align: right;\">\n",
       "      <th></th>\n",
       "      <th>sourceid</th>\n",
       "      <th>source</th>\n",
       "      <th>dstid</th>\n",
       "      <th>destination</th>\n",
       "      <th>travel_time</th>\n",
       "    </tr>\n",
       "  </thead>\n",
       "  <tbody>\n",
       "    <tr>\n",
       "      <th>0</th>\n",
       "      <td>9607</td>\n",
       "      <td>City_86</td>\n",
       "      <td>1784</td>\n",
       "      <td>City_9</td>\n",
       "      <td>60</td>\n",
       "    </tr>\n",
       "    <tr>\n",
       "      <th>1</th>\n",
       "      <td>5759</td>\n",
       "      <td>City_62</td>\n",
       "      <td>1131</td>\n",
       "      <td>City_68</td>\n",
       "      <td>229</td>\n",
       "    </tr>\n",
       "    <tr>\n",
       "      <th>2</th>\n",
       "      <td>6001</td>\n",
       "      <td>City_33</td>\n",
       "      <td>8055</td>\n",
       "      <td>City_85</td>\n",
       "      <td>44</td>\n",
       "    </tr>\n",
       "    <tr>\n",
       "      <th>3</th>\n",
       "      <td>5421</td>\n",
       "      <td>City_23</td>\n",
       "      <td>5200</td>\n",
       "      <td>City_66</td>\n",
       "      <td>19</td>\n",
       "    </tr>\n",
       "    <tr>\n",
       "      <th>4</th>\n",
       "      <td>8474</td>\n",
       "      <td>City_71</td>\n",
       "      <td>2342</td>\n",
       "      <td>City_88</td>\n",
       "      <td>12</td>\n",
       "    </tr>\n",
       "  </tbody>\n",
       "</table>\n",
       "</div>"
      ],
      "text/plain": [
       "   sourceid   source  dstid destination  travel_time\n",
       "0      9607  City_86   1784      City_9           60\n",
       "1      5759  City_62   1131     City_68          229\n",
       "2      6001  City_33   8055     City_85           44\n",
       "3      5421  City_23   5200     City_66           19\n",
       "4      8474  City_71   2342     City_88           12"
      ]
     },
     "execution_count": 4,
     "metadata": {},
     "output_type": "execute_result"
    }
   ],
   "source": [
    "df.head()\n"
   ]
  },
  {
   "cell_type": "code",
   "execution_count": null,
   "id": "db9a5e58",
   "metadata": {},
   "outputs": [
    {
     "data": {
      "text/plain": [
       "(10000, 2)"
      ]
     },
     "execution_count": 5,
     "metadata": {},
     "output_type": "execute_result"
    }
   ],
   "source": [
    "# So here we can say that the data is filled up with all unique values in the sourceid and dstid columns.\n",
    "df[['sourceid', 'dstid']].drop_duplicates().shape"
   ]
  },
  {
   "cell_type": "code",
   "execution_count": null,
   "id": "de571de2",
   "metadata": {},
   "outputs": [
    {
     "data": {
      "text/plain": [
       "sourceid  dstid\n",
       "9984      4833     1\n",
       "9983      9586     1\n",
       "          7568     1\n",
       "9982      8039     1\n",
       "9981      3304     1\n",
       "                  ..\n",
       "1004      6655     1\n",
       "          3398     1\n",
       "1003      7702     1\n",
       "1002      4132     1\n",
       "1001      2051     1\n",
       "Name: count, Length: 10000, dtype: int64"
      ]
     },
     "execution_count": 6,
     "metadata": {},
     "output_type": "execute_result"
    }
   ],
   "source": [
    "# So , no duplicate values in the sourceid and dstid columns.\n",
    "df[['sourceid', 'dstid']].value_counts()"
   ]
  },
  {
   "cell_type": "code",
   "execution_count": 9,
   "id": "84a585ba",
   "metadata": {},
   "outputs": [],
   "source": [
    "df1 = df[(df['sourceid'] == 1) & (df['dstid'] == 1)]"
   ]
  },
  {
   "cell_type": "code",
   "execution_count": 11,
   "id": "566553c1",
   "metadata": {},
   "outputs": [
    {
     "data": {
      "text/plain": [
       "<Axes: >"
      ]
     },
     "execution_count": 11,
     "metadata": {},
     "output_type": "execute_result"
    },
    {
     "data": {
      "image/png": "[encoded data removed]",
      "text/plain": [
       "<Figure size 640x480 with 1 Axes>"
      ]
     },
     "metadata": {},
     "output_type": "display_data"
    }
   ],
   "source": [
    "df['travel_time'].hist(bins=20)"
   ]
  },
  {
   "cell_type": "code",
   "execution_count": null,
   "id": "7105ac35",
   "metadata": {},
   "outputs": [],
   "source": [
    " "
   ]
  }
 ],
 "metadata": {
  "kernelspec": {
   "display_name": "Python 3",
   "language": "python",
   "name": "python3"
  },
  "language_info": {
   "codemirror_mode": {
    "name": "ipython",
    "version": 3
   },
   "file_extension": ".py",
   "mimetype": "text/x-python",
   "name": "python",
   "nbconvert_exporter": "python",
   "pygments_lexer": "ipython3",
   "version": "3.12.10"
  }
 },
 "nbformat": 4,
 "nbformat_minor": 5
}
