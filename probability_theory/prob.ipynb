{
 "cells": [
  {
   "cell_type": "markdown",
   "id": "21152653",
   "metadata": {},
   "source": [
    "#### Marginal probabilitty"
   ]
  },
  {
   "cell_type": "code",
   "execution_count": 1,
   "id": "f89d3bb7",
   "metadata": {},
   "outputs": [],
   "source": [
    "import random"
   ]
  },
  {
   "cell_type": "code",
   "execution_count": 2,
   "id": "363931e6",
   "metadata": {},
   "outputs": [
    {
     "name": "stdout",
     "output_type": "stream",
     "text": [
      "Out of 1000 games, you won 505 times. Probability is 0.505\n"
     ]
    }
   ],
   "source": [
    "win = 0\n",
    "games = 1000\n",
    "for i in range(games):\n",
    "    win += random.randint(0, 1)\n",
    "print(\"Out of {} games, you won {} times. Probability is {}\".format(games, win, win/games))"
   ]
  },
  {
   "cell_type": "code",
   "execution_count": null,
   "id": "e62a6f42",
   "metadata": {},
   "outputs": [],
   "source": []
  }
 ],
 "metadata": {
  "kernelspec": {
   "display_name": "Python 3",
   "language": "python",
   "name": "python3"
  },
  "language_info": {
   "codemirror_mode": {
    "name": "ipython",
    "version": 3
   },
   "file_extension": ".py",
   "mimetype": "text/x-python",
   "name": "python",
   "nbconvert_exporter": "python",
   "pygments_lexer": "ipython3",
   "version": "3.12.10"
  }
 },
 "nbformat": 4,
 "nbformat_minor": 5
}
