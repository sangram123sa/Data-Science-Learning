{
 "cells": [
  {
   "cell_type": "code",
   "execution_count": 2,
   "id": "8bb4a4e8",
   "metadata": {},
   "outputs": [],
   "source": [
    "import numpy as np"
   ]
  },
  {
   "cell_type": "code",
   "execution_count": 2,
   "id": "106cd750",
   "metadata": {},
   "outputs": [],
   "source": [
    "a = [1,2,3]\n",
    "b = [4,5,6]"
   ]
  },
  {
   "cell_type": "code",
   "execution_count": 3,
   "id": "c2553f5a",
   "metadata": {},
   "outputs": [
    {
     "data": {
      "text/plain": [
       "np.int64(32)"
      ]
     },
     "execution_count": 3,
     "metadata": {},
     "output_type": "execute_result"
    }
   ],
   "source": [
    "np.dot(a,b)"
   ]
  },
  {
   "cell_type": "code",
   "execution_count": 4,
   "id": "c1adf1ee",
   "metadata": {},
   "outputs": [
    {
     "data": {
      "text/plain": [
       "array([[1, 3],\n",
       "       [2, 4]])"
      ]
     },
     "execution_count": 4,
     "metadata": {},
     "output_type": "execute_result"
    }
   ],
   "source": [
    "a = np.array([[1,2],[3,4]])\n",
    "a.T\n"
   ]
  },
  {
   "cell_type": "code",
   "execution_count": 2,
   "id": "d58cb6cc",
   "metadata": {},
   "outputs": [],
   "source": [
    "A = np.array([[1,1,3], [1,2,4], [1,1,2]])"
   ]
  },
  {
   "cell_type": "code",
   "execution_count": 6,
   "id": "9e939822",
   "metadata": {},
   "outputs": [],
   "source": [
    "B = np.array([[15], [21], [13]])"
   ]
  },
  {
   "cell_type": "code",
   "execution_count": 7,
   "id": "6d3f3ddd",
   "metadata": {},
   "outputs": [
    {
     "data": {
      "text/plain": [
       "array([[5.],\n",
       "       [4.],\n",
       "       [2.]])"
      ]
     },
     "execution_count": 7,
     "metadata": {},
     "output_type": "execute_result"
    }
   ],
   "source": [
    "np.linalg.solve(A, B)"
   ]
  },
  {
   "cell_type": "code",
   "execution_count": null,
   "id": "f2925176",
   "metadata": {},
   "outputs": [
    {
     "data": {
      "text/plain": [
       "array([[21],\n",
       "       [30],\n",
       "       [16]])"
      ]
     },
     "execution_count": 3,
     "metadata": {},
     "output_type": "execute_result"
    }
   ],
   "source": [
    "# Matrix multiplication is a function which transform a vector space into another vector space\n",
    "r = np.array([[2],[4],[5]])\n",
    "A = np.array([[1,1,3], [1,2,4],[1,1,2]])\n",
    "np.matmul(A, r)"
   ]
  },
  {
   "cell_type": "code",
   "execution_count": 4,
   "id": "e0e0c760",
   "metadata": {},
   "outputs": [
    {
     "data": {
      "text/plain": [
       "array([21, 30, 16])"
      ]
     },
     "execution_count": 4,
     "metadata": {},
     "output_type": "execute_result"
    }
   ],
   "source": [
    "r[0]*A[:,0]+r[1]*A[:,1]+r[2]*A[:,2]"
   ]
  },
  {
   "cell_type": "code",
   "execution_count": 3,
   "id": "cb00d901",
   "metadata": {},
   "outputs": [],
   "source": [
    "A_1 = np.linalg.inv(A)"
   ]
  },
  {
   "cell_type": "code",
   "execution_count": 4,
   "id": "8befc833",
   "metadata": {},
   "outputs": [
    {
     "data": {
      "text/plain": [
       "array([[ 0., -1.,  2.],\n",
       "       [-2.,  1.,  1.],\n",
       "       [ 1., -0., -1.]])"
      ]
     },
     "execution_count": 4,
     "metadata": {},
     "output_type": "execute_result"
    }
   ],
   "source": [
    "A_1"
   ]
  },
  {
   "cell_type": "code",
   "execution_count": 5,
   "id": "f17b42e7",
   "metadata": {},
   "outputs": [
    {
     "data": {
      "text/plain": [
       "array([[1., 0., 0.],\n",
       "       [0., 1., 0.],\n",
       "       [0., 0., 1.]])"
      ]
     },
     "execution_count": 5,
     "metadata": {},
     "output_type": "execute_result"
    }
   ],
   "source": [
    "np.matmul(A, A_1)"
   ]
  },
  {
   "cell_type": "code",
   "execution_count": null,
   "id": "afc92803",
   "metadata": {},
   "outputs": [],
   "source": [
    "import cv2\n",
    "import matplotlib.pyplot as plt\n",
    "# pip install opencv "
   ]
  },
  {
   "cell_type": "code",
   "execution_count": null,
   "id": "dc37898d",
   "metadata": {},
   "outputs": [],
   "source": [
    "image = cv2.imread(\"path of your\")\n",
    "plt.figure()\n",
    "plt.imshow()\n",
    "plt.show()"
   ]
  },
  {
   "cell_type": "code",
   "execution_count": null,
   "id": "3e384519",
   "metadata": {},
   "outputs": [],
   "source": [
    "image.shape"
   ]
  },
  {
   "cell_type": "code",
   "execution_count": 3,
   "id": "b8b46c1e",
   "metadata": {},
   "outputs": [
    {
     "data": {
      "text/plain": [
       "array([[ 0.8660254, -0.5      ],\n",
       "       [ 0.5      ,  0.8660254]])"
      ]
     },
     "execution_count": 3,
     "metadata": {},
     "output_type": "execute_result"
    }
   ],
   "source": [
    "import math\n",
    "theta = math.radians(30)\n",
    "\n",
    "rotation_matrix = np.array([[np.cos(theta), -np.sin(theta)], [np.sin(theta), np.cos(theta)]])\n",
    "\n",
    "rotation_matrix"
   ]
  },
  {
   "cell_type": "code",
   "execution_count": null,
   "id": "83b8a789",
   "metadata": {},
   "outputs": [],
   "source": [
    "h, w, c = image.shape\n",
    "new_np_image = np.zeros(image.shape, dtype=\"uint8\")\n",
    "new_np_image\n",
    "plt.figure()\n",
    "plt.imshow(image, origin='lower')\n",
    "plt.show()"
   ]
  },
  {
   "cell_type": "code",
   "execution_count": null,
   "id": "17605578",
   "metadata": {},
   "outputs": [],
   "source": [
    "# rotation of image\n",
    "for x in range(w):\n",
    "    for y in range(h):\n",
    "        pixel = image[y,x,:]\n",
    "        new_x, new_y = map(int, np.matmul(rotation_matrix, np.array([[x], [y]])))\n",
    "        if(0<=new_x<w) and (0<=new_y<h):\n",
    "            new_np_image[new_y, new_x, :] = pixel\n",
    "\n",
    "plt.figure()\n",
    "plt.imshow(new_np_image, origin='lower')\n",
    "\n"
   ]
  },
  {
   "cell_type": "code",
   "execution_count": null,
   "id": "ac670c3c",
   "metadata": {},
   "outputs": [],
   "source": [
    "theta = -30\n",
    "M = cv2.getRotationMatrix2D((0,0), theta, scaler=1)\n",
    "new_image = cv2.wrapAffine(image, M, (w,h))\n",
    "plt.figure()\n",
    "plt.imshow(new_image, origin='lower')\n",
    "plt.show()"
   ]
  }
 ],
 "metadata": {
  "kernelspec": {
   "display_name": "Python 3",
   "language": "python",
   "name": "python3"
  },
  "language_info": {
   "codemirror_mode": {
    "name": "ipython",
    "version": 3
   },
   "file_extension": ".py",
   "mimetype": "text/x-python",
   "name": "python",
   "nbconvert_exporter": "python",
   "pygments_lexer": "ipython3",
   "version": "3.10.11"
  }
 },
 "nbformat": 4,
 "nbformat_minor": 5
}
