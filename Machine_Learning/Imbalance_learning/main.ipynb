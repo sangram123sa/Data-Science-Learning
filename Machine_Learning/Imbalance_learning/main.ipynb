{
 "cells": [
  {
   "cell_type": "code",
   "execution_count": 65,
   "id": "0c73045f",
   "metadata": {},
   "outputs": [],
   "source": [
    "import pandas as pd\n",
    "import numpy as np\n",
    "from numpy import argmax\n",
    "\n",
    "from datetime import date, time, timedelta\n",
    "import pendulum\n",
    "\n",
    "import matplotlib.pyplot as plt\n",
    "import seaborn as sns\n",
    "\n",
    "import category_encoders as ce\n",
    "\n",
    "from sklearn.preprocessing import LabelEncoder, StandardScaler\n",
    "from sklearn.model_selection import train_test_split, cross_val_score\n",
    "from sklearn.metrics import confusion_matrix, accuracy_score, precision_recall_curve, recall_score, f1_score, precision_recall_curve"
   ]
  },
  {
   "cell_type": "code",
   "execution_count": 66,
   "id": "35fca078",
   "metadata": {},
   "outputs": [],
   "source": [
    "df = pd.read_csv(\"orders_with_fraudulent.csv\")"
   ]
  },
  {
   "cell_type": "code",
   "execution_count": 67,
   "id": "d63c9127",
   "metadata": {},
   "outputs": [
    {
     "data": {
      "application/vnd.microsoft.datawrangler.viewer.v0+json": {
       "columns": [
        {
         "name": "index",
         "rawType": "int64",
         "type": "integer"
        },
        {
         "name": "order_id",
         "rawType": "object",
         "type": "string"
        },
        {
         "name": "city",
         "rawType": "object",
         "type": "string"
        },
        {
         "name": "category_name",
         "rawType": "object",
         "type": "string"
        },
        {
         "name": "product_id",
         "rawType": "object",
         "type": "string"
        },
        {
         "name": "product_name",
         "rawType": "object",
         "type": "string"
        },
        {
         "name": "amount",
         "rawType": "float64",
         "type": "float"
        },
        {
         "name": "device",
         "rawType": "object",
         "type": "string"
        },
        {
         "name": "payment_id",
         "rawType": "object",
         "type": "string"
        },
        {
         "name": "payment_method",
         "rawType": "object",
         "type": "string"
        },
        {
         "name": "payment_method_provider",
         "rawType": "object",
         "type": "string"
        },
        {
         "name": "payment_method_bin",
         "rawType": "int64",
         "type": "integer"
        },
        {
         "name": "payment_method_type",
         "rawType": "object",
         "type": "string"
        },
        {
         "name": "payment_method_product",
         "rawType": "object",
         "type": "string"
        },
        {
         "name": "payment_method_card_category",
         "rawType": "object",
         "type": "string"
        },
        {
         "name": "payment_method_issuer_bank",
         "rawType": "object",
         "type": "string"
        },
        {
         "name": "payment_method_issue_country",
         "rawType": "object",
         "type": "string"
        },
        {
         "name": "is_fraudulent",
         "rawType": "int64",
         "type": "integer"
        },
        {
         "name": "time_diff",
         "rawType": "int64",
         "type": "integer"
        }
       ],
       "ref": "8ecf830c-1ab7-424d-930a-91ed5aafc631",
       "rows": [
        [
         "0",
         "ORD146730",
         "Berlin",
         "Food",
         "PID47730",
         "Shirt",
         "1755.46",
         "Tablet",
         "PAY246730",
         "Debit Card",
         "RuPay",
         "909128",
         "Card",
         "Basic",
         "Platinum",
         "HDFC",
         "JP",
         "0",
         "3571"
        ],
        [
         "1",
         "ORD148393",
         "Mumbai",
         "Entertainment",
         "PID49393",
         "Pizza",
         "1862.22",
         "Mobile",
         "PAY248393",
         "Credit Card",
         "PayPal",
         "824286",
         "Card",
         "Standard",
         "Silver",
         "HDFC",
         "JP",
         "0",
         "162"
        ],
        [
         "2",
         "ORD141416",
         "New York",
         "Electronics",
         "PID42416",
         "Concert Ticket",
         "330.92",
         "Mobile",
         "PAY241416",
         "Debit Card",
         "Amex",
         "158875",
         "Card",
         "Basic",
         "Silver",
         "SBI",
         "DE",
         "0",
         "3058"
        ],
        [
         "3",
         "ORD134506",
         "Mumbai",
         "Clothing",
         "PID35506",
         "Shirt",
         "364.06",
         "Tablet",
         "PAY234506",
         "UPI",
         "RuPay",
         "893992",
         "Wallet",
         "Premium",
         "Silver",
         "CitiBank",
         "DE",
         "0",
         "793"
        ],
        [
         "4",
         "ORD143725",
         "Mumbai",
         "Food",
         "PID44725",
         "Laptop",
         "452.68",
         "Desktop",
         "PAY243725",
         "PayPal",
         "MasterCard",
         "688671",
         "Wallet",
         "Standard",
         "Silver",
         "HDFC",
         "IN",
         "0",
         "3027"
        ]
       ],
       "shape": {
        "columns": 18,
        "rows": 5
       }
      },
      "text/html": [
       "<div>\n",
       "<style scoped>\n",
       "    .dataframe tbody tr th:only-of-type {\n",
       "        vertical-align: middle;\n",
       "    }\n",
       "\n",
       "    .dataframe tbody tr th {\n",
       "        vertical-align: top;\n",
       "    }\n",
       "\n",
       "    .dataframe thead th {\n",
       "        text-align: right;\n",
       "    }\n",
       "</style>\n",
       "<table border=\"1\" class=\"dataframe\">\n",
       "  <thead>\n",
       "    <tr style=\"text-align: right;\">\n",
       "      <th></th>\n",
       "      <th>order_id</th>\n",
       "      <th>city</th>\n",
       "      <th>category_name</th>\n",
       "      <th>product_id</th>\n",
       "      <th>product_name</th>\n",
       "      <th>amount</th>\n",
       "      <th>device</th>\n",
       "      <th>payment_id</th>\n",
       "      <th>payment_method</th>\n",
       "      <th>payment_method_provider</th>\n",
       "      <th>payment_method_bin</th>\n",
       "      <th>payment_method_type</th>\n",
       "      <th>payment_method_product</th>\n",
       "      <th>payment_method_card_category</th>\n",
       "      <th>payment_method_issuer_bank</th>\n",
       "      <th>payment_method_issue_country</th>\n",
       "      <th>is_fraudulent</th>\n",
       "      <th>time_diff</th>\n",
       "    </tr>\n",
       "  </thead>\n",
       "  <tbody>\n",
       "    <tr>\n",
       "      <th>0</th>\n",
       "      <td>ORD146730</td>\n",
       "      <td>Berlin</td>\n",
       "      <td>Food</td>\n",
       "      <td>PID47730</td>\n",
       "      <td>Shirt</td>\n",
       "      <td>1755.46</td>\n",
       "      <td>Tablet</td>\n",
       "      <td>PAY246730</td>\n",
       "      <td>Debit Card</td>\n",
       "      <td>RuPay</td>\n",
       "      <td>909128</td>\n",
       "      <td>Card</td>\n",
       "      <td>Basic</td>\n",
       "      <td>Platinum</td>\n",
       "      <td>HDFC</td>\n",
       "      <td>JP</td>\n",
       "      <td>0</td>\n",
       "      <td>3571</td>\n",
       "    </tr>\n",
       "    <tr>\n",
       "      <th>1</th>\n",
       "      <td>ORD148393</td>\n",
       "      <td>Mumbai</td>\n",
       "      <td>Entertainment</td>\n",
       "      <td>PID49393</td>\n",
       "      <td>Pizza</td>\n",
       "      <td>1862.22</td>\n",
       "      <td>Mobile</td>\n",
       "      <td>PAY248393</td>\n",
       "      <td>Credit Card</td>\n",
       "      <td>PayPal</td>\n",
       "      <td>824286</td>\n",
       "      <td>Card</td>\n",
       "      <td>Standard</td>\n",
       "      <td>Silver</td>\n",
       "      <td>HDFC</td>\n",
       "      <td>JP</td>\n",
       "      <td>0</td>\n",
       "      <td>162</td>\n",
       "    </tr>\n",
       "    <tr>\n",
       "      <th>2</th>\n",
       "      <td>ORD141416</td>\n",
       "      <td>New York</td>\n",
       "      <td>Electronics</td>\n",
       "      <td>PID42416</td>\n",
       "      <td>Concert Ticket</td>\n",
       "      <td>330.92</td>\n",
       "      <td>Mobile</td>\n",
       "      <td>PAY241416</td>\n",
       "      <td>Debit Card</td>\n",
       "      <td>Amex</td>\n",
       "      <td>158875</td>\n",
       "      <td>Card</td>\n",
       "      <td>Basic</td>\n",
       "      <td>Silver</td>\n",
       "      <td>SBI</td>\n",
       "      <td>DE</td>\n",
       "      <td>0</td>\n",
       "      <td>3058</td>\n",
       "    </tr>\n",
       "    <tr>\n",
       "      <th>3</th>\n",
       "      <td>ORD134506</td>\n",
       "      <td>Mumbai</td>\n",
       "      <td>Clothing</td>\n",
       "      <td>PID35506</td>\n",
       "      <td>Shirt</td>\n",
       "      <td>364.06</td>\n",
       "      <td>Tablet</td>\n",
       "      <td>PAY234506</td>\n",
       "      <td>UPI</td>\n",
       "      <td>RuPay</td>\n",
       "      <td>893992</td>\n",
       "      <td>Wallet</td>\n",
       "      <td>Premium</td>\n",
       "      <td>Silver</td>\n",
       "      <td>CitiBank</td>\n",
       "      <td>DE</td>\n",
       "      <td>0</td>\n",
       "      <td>793</td>\n",
       "    </tr>\n",
       "    <tr>\n",
       "      <th>4</th>\n",
       "      <td>ORD143725</td>\n",
       "      <td>Mumbai</td>\n",
       "      <td>Food</td>\n",
       "      <td>PID44725</td>\n",
       "      <td>Laptop</td>\n",
       "      <td>452.68</td>\n",
       "      <td>Desktop</td>\n",
       "      <td>PAY243725</td>\n",
       "      <td>PayPal</td>\n",
       "      <td>MasterCard</td>\n",
       "      <td>688671</td>\n",
       "      <td>Wallet</td>\n",
       "      <td>Standard</td>\n",
       "      <td>Silver</td>\n",
       "      <td>HDFC</td>\n",
       "      <td>IN</td>\n",
       "      <td>0</td>\n",
       "      <td>3027</td>\n",
       "    </tr>\n",
       "  </tbody>\n",
       "</table>\n",
       "</div>"
      ],
      "text/plain": [
       "    order_id      city  category_name product_id    product_name   amount  \\\n",
       "0  ORD146730    Berlin           Food   PID47730           Shirt  1755.46   \n",
       "1  ORD148393    Mumbai  Entertainment   PID49393           Pizza  1862.22   \n",
       "2  ORD141416  New York    Electronics   PID42416  Concert Ticket   330.92   \n",
       "3  ORD134506    Mumbai       Clothing   PID35506           Shirt   364.06   \n",
       "4  ORD143725    Mumbai           Food   PID44725          Laptop   452.68   \n",
       "\n",
       "    device payment_id payment_method payment_method_provider  \\\n",
       "0   Tablet  PAY246730     Debit Card                   RuPay   \n",
       "1   Mobile  PAY248393    Credit Card                  PayPal   \n",
       "2   Mobile  PAY241416     Debit Card                    Amex   \n",
       "3   Tablet  PAY234506            UPI                   RuPay   \n",
       "4  Desktop  PAY243725         PayPal              MasterCard   \n",
       "\n",
       "   payment_method_bin payment_method_type payment_method_product  \\\n",
       "0              909128                Card                  Basic   \n",
       "1              824286                Card               Standard   \n",
       "2              158875                Card                  Basic   \n",
       "3              893992              Wallet                Premium   \n",
       "4              688671              Wallet               Standard   \n",
       "\n",
       "  payment_method_card_category payment_method_issuer_bank  \\\n",
       "0                     Platinum                       HDFC   \n",
       "1                       Silver                       HDFC   \n",
       "2                       Silver                        SBI   \n",
       "3                       Silver                   CitiBank   \n",
       "4                       Silver                       HDFC   \n",
       "\n",
       "  payment_method_issue_country  is_fraudulent  time_diff  \n",
       "0                           JP              0       3571  \n",
       "1                           JP              0        162  \n",
       "2                           DE              0       3058  \n",
       "3                           DE              0        793  \n",
       "4                           IN              0       3027  "
      ]
     },
     "execution_count": 67,
     "metadata": {},
     "output_type": "execute_result"
    }
   ],
   "source": [
    "df = df.drop(['created_at', 'experience_date' ], axis=1)\n",
    "df.head()"
   ]
  },
  {
   "cell_type": "code",
   "execution_count": 69,
   "id": "33ed8026",
   "metadata": {},
   "outputs": [
    {
     "data": {
      "application/vnd.microsoft.datawrangler.viewer.v0+json": {
       "columns": [
        {
         "name": "is_fraudulent",
         "rawType": "int64",
         "type": "integer"
        },
        {
         "name": "count",
         "rawType": "int64",
         "type": "integer"
        }
       ],
       "ref": "7336f342-906d-48f1-aac6-85ca83afd30c",
       "rows": [
        [
         "0",
         "19618"
        ],
        [
         "1",
         "382"
        ]
       ],
       "shape": {
        "columns": 1,
        "rows": 2
       }
      },
      "text/plain": [
       "is_fraudulent\n",
       "0    19618\n",
       "1      382\n",
       "Name: count, dtype: int64"
      ]
     },
     "execution_count": 69,
     "metadata": {},
     "output_type": "execute_result"
    }
   ],
   "source": [
    "df['is_fraudulent'].value_counts()"
   ]
  },
  {
   "cell_type": "code",
   "execution_count": 36,
   "id": "75224ccf",
   "metadata": {},
   "outputs": [
    {
     "data": {
      "application/vnd.microsoft.datawrangler.viewer.v0+json": {
       "columns": [
        {
         "name": "is_fraudulent",
         "rawType": "int64",
         "type": "integer"
        },
        {
         "name": "proportion",
         "rawType": "float64",
         "type": "float"
        }
       ],
       "ref": "fbb71347-438a-4251-b6f8-a14e08edec66",
       "rows": [
        [
         "0",
         "0.9809"
        ],
        [
         "1",
         "0.0191"
        ]
       ],
       "shape": {
        "columns": 1,
        "rows": 2
       }
      },
      "text/plain": [
       "is_fraudulent\n",
       "0    0.9809\n",
       "1    0.0191\n",
       "Name: proportion, dtype: float64"
      ]
     },
     "execution_count": 36,
     "metadata": {},
     "output_type": "execute_result"
    }
   ],
   "source": [
    "df['is_fraudulent'].value_counts(normalize=True)"
   ]
  },
  {
   "cell_type": "code",
   "execution_count": 70,
   "id": "cb3a98bc",
   "metadata": {},
   "outputs": [
    {
     "data": {
      "text/plain": [
       "Index(['order_id', 'city', 'category_name', 'product_id', 'product_name',\n",
       "       'amount', 'device', 'payment_id', 'payment_method',\n",
       "       'payment_method_provider', 'payment_method_bin', 'payment_method_type',\n",
       "       'payment_method_product', 'payment_method_card_category',\n",
       "       'payment_method_issuer_bank', 'payment_method_issue_country',\n",
       "       'is_fraudulent', 'time_diff'],\n",
       "      dtype='object')"
      ]
     },
     "execution_count": 70,
     "metadata": {},
     "output_type": "execute_result"
    }
   ],
   "source": [
    "df.columns"
   ]
  },
  {
   "cell_type": "code",
   "execution_count": 71,
   "id": "9f7bf11a",
   "metadata": {},
   "outputs": [
    {
     "data": {
      "application/vnd.microsoft.datawrangler.viewer.v0+json": {
       "columns": [
        {
         "name": "index",
         "rawType": "object",
         "type": "string"
        },
        {
         "name": "0",
         "rawType": "int64",
         "type": "integer"
        }
       ],
       "ref": "04c488cd-bcf5-47c8-8b36-d4eee9a0e17a",
       "rows": [
        [
         "order_id",
         "20000"
        ],
        [
         "city",
         "5"
        ],
        [
         "category_name",
         "5"
        ],
        [
         "product_id",
         "20000"
        ],
        [
         "product_name",
         "5"
        ],
        [
         "amount",
         "19020"
        ],
        [
         "device",
         "3"
        ],
        [
         "payment_id",
         "20000"
        ],
        [
         "payment_method",
         "5"
        ],
        [
         "payment_method_provider",
         "5"
        ],
        [
         "payment_method_bin",
         "19762"
        ],
        [
         "payment_method_type",
         "3"
        ],
        [
         "payment_method_product",
         "3"
        ],
        [
         "payment_method_card_category",
         "3"
        ],
        [
         "payment_method_issuer_bank",
         "5"
        ],
        [
         "payment_method_issue_country",
         "5"
        ],
        [
         "is_fraudulent",
         "2"
        ],
        [
         "time_diff",
         "3585"
        ]
       ],
       "shape": {
        "columns": 1,
        "rows": 18
       }
      },
      "text/plain": [
       "order_id                        20000\n",
       "city                                5\n",
       "category_name                       5\n",
       "product_id                      20000\n",
       "product_name                        5\n",
       "amount                          19020\n",
       "device                              3\n",
       "payment_id                      20000\n",
       "payment_method                      5\n",
       "payment_method_provider             5\n",
       "payment_method_bin              19762\n",
       "payment_method_type                 3\n",
       "payment_method_product              3\n",
       "payment_method_card_category        3\n",
       "payment_method_issuer_bank          5\n",
       "payment_method_issue_country        5\n",
       "is_fraudulent                       2\n",
       "time_diff                        3585\n",
       "dtype: int64"
      ]
     },
     "execution_count": 71,
     "metadata": {},
     "output_type": "execute_result"
    }
   ],
   "source": [
    "df.nunique()"
   ]
  },
  {
   "cell_type": "code",
   "execution_count": 73,
   "id": "10e02909",
   "metadata": {},
   "outputs": [
    {
     "name": "stdout",
     "output_type": "stream",
     "text": [
      "<class 'pandas.core.frame.DataFrame'>\n",
      "RangeIndex: 20000 entries, 0 to 19999\n",
      "Data columns (total 18 columns):\n",
      " #   Column                        Non-Null Count  Dtype  \n",
      "---  ------                        --------------  -----  \n",
      " 0   order_id                      20000 non-null  object \n",
      " 1   city                          20000 non-null  object \n",
      " 2   category_name                 20000 non-null  object \n",
      " 3   product_id                    20000 non-null  object \n",
      " 4   product_name                  20000 non-null  object \n",
      " 5   amount                        20000 non-null  float64\n",
      " 6   device                        20000 non-null  object \n",
      " 7   payment_id                    20000 non-null  object \n",
      " 8   payment_method                20000 non-null  object \n",
      " 9   payment_method_provider       20000 non-null  object \n",
      " 10  payment_method_bin            20000 non-null  int64  \n",
      " 11  payment_method_type           20000 non-null  object \n",
      " 12  payment_method_product        20000 non-null  object \n",
      " 13  payment_method_card_category  20000 non-null  object \n",
      " 14  payment_method_issuer_bank    20000 non-null  object \n",
      " 15  payment_method_issue_country  20000 non-null  object \n",
      " 16  is_fraudulent                 20000 non-null  int64  \n",
      " 17  time_diff                     20000 non-null  int64  \n",
      "dtypes: float64(1), int64(3), object(14)\n",
      "memory usage: 2.7+ MB\n"
     ]
    }
   ],
   "source": [
    "df.info()"
   ]
  },
  {
   "cell_type": "code",
   "execution_count": 74,
   "id": "7bc15e2a",
   "metadata": {},
   "outputs": [
    {
     "name": "stdout",
     "output_type": "stream",
     "text": [
      "No Duplicates\n"
     ]
    }
   ],
   "source": [
    "if df.shape[0] == df.drop_duplicates().shape[0]:\n",
    "    print(\"No Duplicates\")  \n",
    "else:\n",
    "    duplicates = df.shape[0] - df.drop_duplicates().shape[0]\n",
    "    print(f\"Number of duplicate rows: {duplicates}\")"
   ]
  },
  {
   "cell_type": "code",
   "execution_count": 76,
   "id": "e93681d3",
   "metadata": {},
   "outputs": [
    {
     "data": {
      "text/plain": [
       "Index(['order_id', 'city', 'category_name', 'product_id', 'product_name',\n",
       "       'amount', 'device', 'payment_id', 'payment_method',\n",
       "       'payment_method_provider', 'payment_method_bin', 'payment_method_type',\n",
       "       'payment_method_product', 'payment_method_card_category',\n",
       "       'payment_method_issuer_bank', 'payment_method_issue_country',\n",
       "       'is_fraudulent', 'time_diff'],\n",
       "      dtype='object')"
      ]
     },
     "execution_count": 76,
     "metadata": {},
     "output_type": "execute_result"
    }
   ],
   "source": [
    "df.columns\n"
   ]
  },
  {
   "cell_type": "code",
   "execution_count": 78,
   "id": "e34036c0",
   "metadata": {},
   "outputs": [],
   "source": [
    "df = df.drop(['order_id', 'payment_id', 'payment_method', 'product_name', 'payment_method_bin'], axis=1)"
   ]
  },
  {
   "cell_type": "code",
   "execution_count": 75,
   "id": "02972ebf",
   "metadata": {},
   "outputs": [
    {
     "data": {
      "application/vnd.microsoft.datawrangler.viewer.v0+json": {
       "columns": [
        {
         "name": "index",
         "rawType": "object",
         "type": "string"
        },
        {
         "name": "0",
         "rawType": "int64",
         "type": "integer"
        }
       ],
       "ref": "114f985e-58c7-4f1e-afde-5430d690adf3",
       "rows": [
        [
         "order_id",
         "0"
        ],
        [
         "city",
         "0"
        ],
        [
         "category_name",
         "0"
        ],
        [
         "product_id",
         "0"
        ],
        [
         "product_name",
         "0"
        ],
        [
         "amount",
         "0"
        ],
        [
         "device",
         "0"
        ],
        [
         "payment_id",
         "0"
        ],
        [
         "payment_method",
         "0"
        ],
        [
         "payment_method_provider",
         "0"
        ],
        [
         "payment_method_bin",
         "0"
        ],
        [
         "payment_method_type",
         "0"
        ],
        [
         "payment_method_product",
         "0"
        ],
        [
         "payment_method_card_category",
         "0"
        ],
        [
         "payment_method_issuer_bank",
         "0"
        ],
        [
         "payment_method_issue_country",
         "0"
        ],
        [
         "is_fraudulent",
         "0"
        ],
        [
         "time_diff",
         "0"
        ]
       ],
       "shape": {
        "columns": 1,
        "rows": 18
       }
      },
      "text/plain": [
       "order_id                        0\n",
       "city                            0\n",
       "category_name                   0\n",
       "product_id                      0\n",
       "product_name                    0\n",
       "amount                          0\n",
       "device                          0\n",
       "payment_id                      0\n",
       "payment_method                  0\n",
       "payment_method_provider         0\n",
       "payment_method_bin              0\n",
       "payment_method_type             0\n",
       "payment_method_product          0\n",
       "payment_method_card_category    0\n",
       "payment_method_issuer_bank      0\n",
       "payment_method_issue_country    0\n",
       "is_fraudulent                   0\n",
       "time_diff                       0\n",
       "dtype: int64"
      ]
     },
     "execution_count": 75,
     "metadata": {},
     "output_type": "execute_result"
    }
   ],
   "source": [
    "df.isna().sum()"
   ]
  },
  {
   "cell_type": "code",
   "execution_count": 44,
   "id": "070107ce",
   "metadata": {},
   "outputs": [],
   "source": [
    "df = df.dropna(axis=0, how='any', subset=['payment_method_card_category', 'payment_method_issuer_bank','payment_method_issue_country', 'payment_method_product'])"
   ]
  },
  {
   "cell_type": "code",
   "execution_count": 45,
   "id": "3b30f0e2",
   "metadata": {},
   "outputs": [
    {
     "data": {
      "application/vnd.microsoft.datawrangler.viewer.v0+json": {
       "columns": [
        {
         "name": "index",
         "rawType": "int64",
         "type": "integer"
        },
        {
         "name": "city",
         "rawType": "object",
         "type": "string"
        },
        {
         "name": "category_name",
         "rawType": "object",
         "type": "string"
        },
        {
         "name": "product_id",
         "rawType": "object",
         "type": "string"
        },
        {
         "name": "product_name",
         "rawType": "object",
         "type": "string"
        },
        {
         "name": "amount",
         "rawType": "float64",
         "type": "float"
        },
        {
         "name": "device",
         "rawType": "object",
         "type": "string"
        },
        {
         "name": "payment_id",
         "rawType": "object",
         "type": "string"
        },
        {
         "name": "payment_method",
         "rawType": "object",
         "type": "string"
        },
        {
         "name": "payment_method_provider",
         "rawType": "object",
         "type": "string"
        },
        {
         "name": "payment_method_bin",
         "rawType": "int64",
         "type": "integer"
        },
        {
         "name": "payment_method_type",
         "rawType": "object",
         "type": "string"
        },
        {
         "name": "payment_method_product",
         "rawType": "object",
         "type": "string"
        },
        {
         "name": "payment_method_card_category",
         "rawType": "object",
         "type": "string"
        },
        {
         "name": "payment_method_issuer_bank",
         "rawType": "object",
         "type": "string"
        },
        {
         "name": "payment_method_issue_country",
         "rawType": "object",
         "type": "string"
        },
        {
         "name": "is_fraudulent",
         "rawType": "int64",
         "type": "integer"
        },
        {
         "name": "time_diff",
         "rawType": "int64",
         "type": "integer"
        }
       ],
       "ref": "0247cb63-1ef9-496b-848b-b03d9d295025",
       "rows": [
        [
         "0",
         "Berlin",
         "Food",
         "PID47730",
         "Shirt",
         "1755.46",
         "Tablet",
         "PAY246730",
         "Debit Card",
         "RuPay",
         "909128",
         "Card",
         "Basic",
         "Platinum",
         "HDFC",
         "JP",
         "0",
         "3571"
        ],
        [
         "1",
         "Mumbai",
         "Entertainment",
         "PID49393",
         "Pizza",
         "1862.22",
         "Mobile",
         "PAY248393",
         "Credit Card",
         "PayPal",
         "824286",
         "Card",
         "Standard",
         "Silver",
         "HDFC",
         "JP",
         "0",
         "162"
        ],
        [
         "2",
         "New York",
         "Electronics",
         "PID42416",
         "Concert Ticket",
         "330.92",
         "Mobile",
         "PAY241416",
         "Debit Card",
         "Amex",
         "158875",
         "Card",
         "Basic",
         "Silver",
         "SBI",
         "DE",
         "0",
         "3058"
        ],
        [
         "3",
         "Mumbai",
         "Clothing",
         "PID35506",
         "Shirt",
         "364.06",
         "Tablet",
         "PAY234506",
         "UPI",
         "RuPay",
         "893992",
         "Wallet",
         "Premium",
         "Silver",
         "CitiBank",
         "DE",
         "0",
         "793"
        ],
        [
         "4",
         "Mumbai",
         "Food",
         "PID44725",
         "Laptop",
         "452.68",
         "Desktop",
         "PAY243725",
         "PayPal",
         "MasterCard",
         "688671",
         "Wallet",
         "Standard",
         "Silver",
         "HDFC",
         "IN",
         "0",
         "3027"
        ]
       ],
       "shape": {
        "columns": 17,
        "rows": 5
       }
      },
      "text/html": [
       "<div>\n",
       "<style scoped>\n",
       "    .dataframe tbody tr th:only-of-type {\n",
       "        vertical-align: middle;\n",
       "    }\n",
       "\n",
       "    .dataframe tbody tr th {\n",
       "        vertical-align: top;\n",
       "    }\n",
       "\n",
       "    .dataframe thead th {\n",
       "        text-align: right;\n",
       "    }\n",
       "</style>\n",
       "<table border=\"1\" class=\"dataframe\">\n",
       "  <thead>\n",
       "    <tr style=\"text-align: right;\">\n",
       "      <th></th>\n",
       "      <th>city</th>\n",
       "      <th>category_name</th>\n",
       "      <th>product_id</th>\n",
       "      <th>product_name</th>\n",
       "      <th>amount</th>\n",
       "      <th>device</th>\n",
       "      <th>payment_id</th>\n",
       "      <th>payment_method</th>\n",
       "      <th>payment_method_provider</th>\n",
       "      <th>payment_method_bin</th>\n",
       "      <th>payment_method_type</th>\n",
       "      <th>payment_method_product</th>\n",
       "      <th>payment_method_card_category</th>\n",
       "      <th>payment_method_issuer_bank</th>\n",
       "      <th>payment_method_issue_country</th>\n",
       "      <th>is_fraudulent</th>\n",
       "      <th>time_diff</th>\n",
       "    </tr>\n",
       "  </thead>\n",
       "  <tbody>\n",
       "    <tr>\n",
       "      <th>0</th>\n",
       "      <td>Berlin</td>\n",
       "      <td>Food</td>\n",
       "      <td>PID47730</td>\n",
       "      <td>Shirt</td>\n",
       "      <td>1755.46</td>\n",
       "      <td>Tablet</td>\n",
       "      <td>PAY246730</td>\n",
       "      <td>Debit Card</td>\n",
       "      <td>RuPay</td>\n",
       "      <td>909128</td>\n",
       "      <td>Card</td>\n",
       "      <td>Basic</td>\n",
       "      <td>Platinum</td>\n",
       "      <td>HDFC</td>\n",
       "      <td>JP</td>\n",
       "      <td>0</td>\n",
       "      <td>3571</td>\n",
       "    </tr>\n",
       "    <tr>\n",
       "      <th>1</th>\n",
       "      <td>Mumbai</td>\n",
       "      <td>Entertainment</td>\n",
       "      <td>PID49393</td>\n",
       "      <td>Pizza</td>\n",
       "      <td>1862.22</td>\n",
       "      <td>Mobile</td>\n",
       "      <td>PAY248393</td>\n",
       "      <td>Credit Card</td>\n",
       "      <td>PayPal</td>\n",
       "      <td>824286</td>\n",
       "      <td>Card</td>\n",
       "      <td>Standard</td>\n",
       "      <td>Silver</td>\n",
       "      <td>HDFC</td>\n",
       "      <td>JP</td>\n",
       "      <td>0</td>\n",
       "      <td>162</td>\n",
       "    </tr>\n",
       "    <tr>\n",
       "      <th>2</th>\n",
       "      <td>New York</td>\n",
       "      <td>Electronics</td>\n",
       "      <td>PID42416</td>\n",
       "      <td>Concert Ticket</td>\n",
       "      <td>330.92</td>\n",
       "      <td>Mobile</td>\n",
       "      <td>PAY241416</td>\n",
       "      <td>Debit Card</td>\n",
       "      <td>Amex</td>\n",
       "      <td>158875</td>\n",
       "      <td>Card</td>\n",
       "      <td>Basic</td>\n",
       "      <td>Silver</td>\n",
       "      <td>SBI</td>\n",
       "      <td>DE</td>\n",
       "      <td>0</td>\n",
       "      <td>3058</td>\n",
       "    </tr>\n",
       "    <tr>\n",
       "      <th>3</th>\n",
       "      <td>Mumbai</td>\n",
       "      <td>Clothing</td>\n",
       "      <td>PID35506</td>\n",
       "      <td>Shirt</td>\n",
       "      <td>364.06</td>\n",
       "      <td>Tablet</td>\n",
       "      <td>PAY234506</td>\n",
       "      <td>UPI</td>\n",
       "      <td>RuPay</td>\n",
       "      <td>893992</td>\n",
       "      <td>Wallet</td>\n",
       "      <td>Premium</td>\n",
       "      <td>Silver</td>\n",
       "      <td>CitiBank</td>\n",
       "      <td>DE</td>\n",
       "      <td>0</td>\n",
       "      <td>793</td>\n",
       "    </tr>\n",
       "    <tr>\n",
       "      <th>4</th>\n",
       "      <td>Mumbai</td>\n",
       "      <td>Food</td>\n",
       "      <td>PID44725</td>\n",
       "      <td>Laptop</td>\n",
       "      <td>452.68</td>\n",
       "      <td>Desktop</td>\n",
       "      <td>PAY243725</td>\n",
       "      <td>PayPal</td>\n",
       "      <td>MasterCard</td>\n",
       "      <td>688671</td>\n",
       "      <td>Wallet</td>\n",
       "      <td>Standard</td>\n",
       "      <td>Silver</td>\n",
       "      <td>HDFC</td>\n",
       "      <td>IN</td>\n",
       "      <td>0</td>\n",
       "      <td>3027</td>\n",
       "    </tr>\n",
       "  </tbody>\n",
       "</table>\n",
       "</div>"
      ],
      "text/plain": [
       "       city  category_name product_id    product_name   amount   device  \\\n",
       "0    Berlin           Food   PID47730           Shirt  1755.46   Tablet   \n",
       "1    Mumbai  Entertainment   PID49393           Pizza  1862.22   Mobile   \n",
       "2  New York    Electronics   PID42416  Concert Ticket   330.92   Mobile   \n",
       "3    Mumbai       Clothing   PID35506           Shirt   364.06   Tablet   \n",
       "4    Mumbai           Food   PID44725          Laptop   452.68  Desktop   \n",
       "\n",
       "  payment_id payment_method payment_method_provider  payment_method_bin  \\\n",
       "0  PAY246730     Debit Card                   RuPay              909128   \n",
       "1  PAY248393    Credit Card                  PayPal              824286   \n",
       "2  PAY241416     Debit Card                    Amex              158875   \n",
       "3  PAY234506            UPI                   RuPay              893992   \n",
       "4  PAY243725         PayPal              MasterCard              688671   \n",
       "\n",
       "  payment_method_type payment_method_product payment_method_card_category  \\\n",
       "0                Card                  Basic                     Platinum   \n",
       "1                Card               Standard                       Silver   \n",
       "2                Card                  Basic                       Silver   \n",
       "3              Wallet                Premium                       Silver   \n",
       "4              Wallet               Standard                       Silver   \n",
       "\n",
       "  payment_method_issuer_bank payment_method_issue_country  is_fraudulent  \\\n",
       "0                       HDFC                           JP              0   \n",
       "1                       HDFC                           JP              0   \n",
       "2                        SBI                           DE              0   \n",
       "3                   CitiBank                           DE              0   \n",
       "4                       HDFC                           IN              0   \n",
       "\n",
       "   time_diff  \n",
       "0       3571  \n",
       "1        162  \n",
       "2       3058  \n",
       "3        793  \n",
       "4       3027  "
      ]
     },
     "execution_count": 45,
     "metadata": {},
     "output_type": "execute_result"
    }
   ],
   "source": [
    "df.head()"
   ]
  },
  {
   "cell_type": "code",
   "execution_count": 46,
   "id": "b4a02c43",
   "metadata": {},
   "outputs": [
    {
     "data": {
      "application/vnd.microsoft.datawrangler.viewer.v0+json": {
       "columns": [
        {
         "name": "is_fraudulent",
         "rawType": "int64",
         "type": "integer"
        },
        {
         "name": "proportion",
         "rawType": "float64",
         "type": "float"
        }
       ],
       "ref": "b8c8d076-03e1-42c1-84e9-bb1f772d8cd0",
       "rows": [
        [
         "0",
         "0.9809"
        ],
        [
         "1",
         "0.0191"
        ]
       ],
       "shape": {
        "columns": 1,
        "rows": 2
       }
      },
      "text/plain": [
       "is_fraudulent\n",
       "0    0.9809\n",
       "1    0.0191\n",
       "Name: proportion, dtype: float64"
      ]
     },
     "execution_count": 46,
     "metadata": {},
     "output_type": "execute_result"
    }
   ],
   "source": [
    "df['is_fraudulent'].value_counts(normalize=True)"
   ]
  },
  {
   "cell_type": "code",
   "execution_count": 79,
   "id": "f1bf9092",
   "metadata": {},
   "outputs": [
    {
     "name": "stdout",
     "output_type": "stream",
     "text": [
      "no string duplicates in city\n",
      "no string duplicates in category_name\n",
      "no string duplicates in product_id\n",
      "no string duplicates in device\n",
      "no string duplicates in payment_method_provider\n",
      "no string duplicates in payment_method_type\n",
      "no string duplicates in payment_method_product\n",
      "no string duplicates in payment_method_card_category\n",
      "no string duplicates in payment_method_issuer_bank\n",
      "no string duplicates in payment_method_issue_country\n"
     ]
    }
   ],
   "source": [
    "for column in list(df.columns):\n",
    "    if df[column].dtype == 'object':\n",
    "        if len(df[f\"{column}\"].unique()) == len(df[f\"{column}\"].apply(lambda x: x.lower()).unique()):\n",
    "            print(f\"no string duplicates in {column}\")\n",
    "        else:\n",
    "            print(f\"string duplicates in {column}\")"
   ]
  },
  {
   "cell_type": "code",
   "execution_count": 81,
   "id": "a103c03e",
   "metadata": {},
   "outputs": [],
   "source": [
    "X = df.drop('is_fraudulent', axis=1)\n",
    "y = df['is_fraudulent']"
   ]
  },
  {
   "cell_type": "code",
   "execution_count": 83,
   "id": "e1e6c8ee",
   "metadata": {},
   "outputs": [],
   "source": [
    "X = X.drop(['payment_method_card_category'], axis=1)"
   ]
  },
  {
   "cell_type": "code",
   "execution_count": 84,
   "id": "faa8500d",
   "metadata": {},
   "outputs": [],
   "source": [
    "# labelencoding is use for the categorical features when low cardinality\n",
    "le = LabelEncoder()\n",
    "X['city'] = le.fit_transform(X['city'])\n",
    "X['payment_method_issue_country'] = le.fit_transform(X['payment_method_issue_country'])\n",
    "y = le.fit_transform(y)"
   ]
  },
  {
   "cell_type": "code",
   "execution_count": 85,
   "id": "c3c9bc7e",
   "metadata": {},
   "outputs": [],
   "source": [
    "# Target mean encoding the categorical features use when high cardinality\n",
    "X_train, X_test, y_train, y_test = train_test_split(X, y, test_size=0.2, random_state=1, stratify=y)"
   ]
  },
  {
   "cell_type": "code",
   "execution_count": 86,
   "id": "42354bbb",
   "metadata": {},
   "outputs": [
    {
     "data": {
      "text/plain": [
       "(16000, 11)"
      ]
     },
     "execution_count": 86,
     "metadata": {},
     "output_type": "execute_result"
    }
   ],
   "source": [
    "X_train.shape"
   ]
  },
  {
   "cell_type": "code",
   "execution_count": 87,
   "id": "6d0c905f",
   "metadata": {},
   "outputs": [
    {
     "data": {
      "text/plain": [
       "Index(['city', 'category_name', 'product_id', 'amount', 'device',\n",
       "       'payment_method_provider', 'payment_method_type',\n",
       "       'payment_method_product', 'payment_method_issuer_bank',\n",
       "       'payment_method_issue_country', 'time_diff'],\n",
       "      dtype='object')"
      ]
     },
     "execution_count": 87,
     "metadata": {},
     "output_type": "execute_result"
    }
   ],
   "source": [
    "X_train.columns"
   ]
  },
  {
   "cell_type": "code",
   "execution_count": 88,
   "id": "1ebef3aa",
   "metadata": {},
   "outputs": [],
   "source": [
    "# Target mean encoding\n",
    "ce_target = ce.TargetEncoder(cols=['product_id', 'device', 'category_name', 'payment_method_issue_country', 'payment_method_provider', 'payment_method_type', 'payment_method_issuer_bank', 'payment_method_product'])\n",
    "X_train = ce_target.fit_transform(X_train, y_train)\n",
    "X_test = ce_target.transform(X_test)"
   ]
  },
  {
   "cell_type": "code",
   "execution_count": 89,
   "id": "85b97a01",
   "metadata": {},
   "outputs": [
    {
     "name": "stdout",
     "output_type": "stream",
     "text": [
      "<class 'pandas.core.frame.DataFrame'>\n",
      "Index: 16000 entries, 15067 to 9036\n",
      "Data columns (total 11 columns):\n",
      " #   Column                        Non-Null Count  Dtype  \n",
      "---  ------                        --------------  -----  \n",
      " 0   city                          16000 non-null  int64  \n",
      " 1   category_name                 16000 non-null  float64\n",
      " 2   product_id                    16000 non-null  float64\n",
      " 3   amount                        16000 non-null  float64\n",
      " 4   device                        16000 non-null  float64\n",
      " 5   payment_method_provider       16000 non-null  float64\n",
      " 6   payment_method_type           16000 non-null  float64\n",
      " 7   payment_method_product        16000 non-null  float64\n",
      " 8   payment_method_issuer_bank    16000 non-null  float64\n",
      " 9   payment_method_issue_country  16000 non-null  float64\n",
      " 10  time_diff                     16000 non-null  int64  \n",
      "dtypes: float64(9), int64(2)\n",
      "memory usage: 1.5 MB\n"
     ]
    }
   ],
   "source": [
    "X_train.info()"
   ]
  },
  {
   "cell_type": "code",
   "execution_count": 90,
   "id": "614fc183",
   "metadata": {},
   "outputs": [],
   "source": [
    "continuous_columns = ['amount', 'time_diff']"
   ]
  },
  {
   "cell_type": "code",
   "execution_count": 91,
   "id": "eb758c75",
   "metadata": {},
   "outputs": [],
   "source": [
    "numerical_features = [df.columns.get_loc(c) for c in continuous_columns if c in X_train.columns]"
   ]
  },
  {
   "cell_type": "code",
   "execution_count": 92,
   "id": "111ba61d",
   "metadata": {},
   "outputs": [],
   "source": [
    "sc = StandardScaler()\n",
    "continuous_columns = ['amount', 'time_diff']\n",
    "# only keep columns that actually exist in X_train after encoding\n",
    "cols_to_scale = [c for c in continuous_columns if c in X_train.columns]\n",
    "if cols_to_scale:\n",
    "    X_train[cols_to_scale] = sc.fit_transform(X_train[cols_to_scale])\n",
    "    X_test[cols_to_scale] = sc.transform(X_test[cols_to_scale])"
   ]
  },
  {
   "cell_type": "code",
   "execution_count": 93,
   "id": "3d8861df",
   "metadata": {},
   "outputs": [],
   "source": [
    "from sklearn.linear_model import LogisticRegression\n",
    "from sklearn.model_selection import cross_validate"
   ]
  },
  {
   "cell_type": "code",
   "execution_count": 94,
   "id": "2d309e28",
   "metadata": {},
   "outputs": [
    {
     "name": "stderr",
     "output_type": "stream",
     "text": [
      "c:\\Users\\Sangram pc\\AppData\\Local\\Programs\\Python\\Python311\\Lib\\site-packages\\sklearn\\metrics\\_classification.py:1731: UndefinedMetricWarning: Precision is ill-defined and being set to 0.0 due to no predicted samples. Use `zero_division` parameter to control this behavior.\n",
      "  _warn_prf(average, modifier, f\"{metric.capitalize()} is\", result.shape[0])\n",
      "c:\\Users\\Sangram pc\\AppData\\Local\\Programs\\Python\\Python311\\Lib\\site-packages\\sklearn\\metrics\\_classification.py:1731: UndefinedMetricWarning: Precision is ill-defined and being set to 0.0 due to no predicted samples. Use `zero_division` parameter to control this behavior.\n",
      "  _warn_prf(average, modifier, f\"{metric.capitalize()} is\", result.shape[0])\n",
      "c:\\Users\\Sangram pc\\AppData\\Local\\Programs\\Python\\Python311\\Lib\\site-packages\\sklearn\\metrics\\_classification.py:1731: UndefinedMetricWarning: Precision is ill-defined and being set to 0.0 due to no predicted samples. Use `zero_division` parameter to control this behavior.\n",
      "  _warn_prf(average, modifier, f\"{metric.capitalize()} is\", result.shape[0])\n",
      "c:\\Users\\Sangram pc\\AppData\\Local\\Programs\\Python\\Python311\\Lib\\site-packages\\sklearn\\metrics\\_classification.py:1731: UndefinedMetricWarning: Precision is ill-defined and being set to 0.0 due to no predicted samples. Use `zero_division` parameter to control this behavior.\n",
      "  _warn_prf(average, modifier, f\"{metric.capitalize()} is\", result.shape[0])\n",
      "c:\\Users\\Sangram pc\\AppData\\Local\\Programs\\Python\\Python311\\Lib\\site-packages\\sklearn\\metrics\\_classification.py:1731: UndefinedMetricWarning: Precision is ill-defined and being set to 0.0 due to no predicted samples. Use `zero_division` parameter to control this behavior.\n",
      "  _warn_prf(average, modifier, f\"{metric.capitalize()} is\", result.shape[0])\n",
      "c:\\Users\\Sangram pc\\AppData\\Local\\Programs\\Python\\Python311\\Lib\\site-packages\\sklearn\\metrics\\_classification.py:1731: UndefinedMetricWarning: Precision is ill-defined and being set to 0.0 due to no predicted samples. Use `zero_division` parameter to control this behavior.\n",
      "  _warn_prf(average, modifier, f\"{metric.capitalize()} is\", result.shape[0])\n"
     ]
    }
   ],
   "source": [
    "model = LogisticRegression()\n",
    "scores = cross_validate(model, X_train, y_train, cv=3, scoring=['accuracy', 'precision', 'recall', 'f1'], return_train_score=True)"
   ]
  },
  {
   "cell_type": "code",
   "execution_count": 95,
   "id": "806cd34b",
   "metadata": {},
   "outputs": [],
   "source": [
    "results = pd.DataFrame(scores)"
   ]
  },
  {
   "cell_type": "code",
   "execution_count": 96,
   "id": "fc74df1b",
   "metadata": {},
   "outputs": [
    {
     "data": {
      "application/vnd.microsoft.datawrangler.viewer.v0+json": {
       "columns": [
        {
         "name": "index",
         "rawType": "int64",
         "type": "integer"
        },
        {
         "name": "fit_time",
         "rawType": "float64",
         "type": "float"
        },
        {
         "name": "score_time",
         "rawType": "float64",
         "type": "float"
        },
        {
         "name": "test_accuracy",
         "rawType": "float64",
         "type": "float"
        },
        {
         "name": "train_accuracy",
         "rawType": "float64",
         "type": "float"
        },
        {
         "name": "test_precision",
         "rawType": "float64",
         "type": "float"
        },
        {
         "name": "train_precision",
         "rawType": "float64",
         "type": "float"
        },
        {
         "name": "test_recall",
         "rawType": "float64",
         "type": "float"
        },
        {
         "name": "train_recall",
         "rawType": "float64",
         "type": "float"
        },
        {
         "name": "test_f1",
         "rawType": "float64",
         "type": "float"
        },
        {
         "name": "train_f1",
         "rawType": "float64",
         "type": "float"
        }
       ],
       "ref": "fd4d7d93-cfb9-4012-8859-a82002e970b4",
       "rows": [
        [
         "0",
         "0.025998353958129883",
         "0.011001825332641602",
         "0.9808773903262092",
         "0.9808738046127883",
         "0.0",
         "0.0",
         "0.0",
         "0.0",
         "0.0",
         "0.0"
        ],
        [
         "1",
         "0.02263498306274414",
         "0.007001161575317383",
         "0.9808738046127883",
         "0.9808755976375738",
         "0.0",
         "0.0",
         "0.0",
         "0.0",
         "0.0",
         "0.0"
        ],
        [
         "2",
         "0.018894433975219727",
         "0.007013082504272461",
         "0.9808738046127883",
         "0.9808755976375738",
         "0.0",
         "0.0",
         "0.0",
         "0.0",
         "0.0",
         "0.0"
        ]
       ],
       "shape": {
        "columns": 10,
        "rows": 3
       }
      },
      "text/html": [
       "<div>\n",
       "<style scoped>\n",
       "    .dataframe tbody tr th:only-of-type {\n",
       "        vertical-align: middle;\n",
       "    }\n",
       "\n",
       "    .dataframe tbody tr th {\n",
       "        vertical-align: top;\n",
       "    }\n",
       "\n",
       "    .dataframe thead th {\n",
       "        text-align: right;\n",
       "    }\n",
       "</style>\n",
       "<table border=\"1\" class=\"dataframe\">\n",
       "  <thead>\n",
       "    <tr style=\"text-align: right;\">\n",
       "      <th></th>\n",
       "      <th>fit_time</th>\n",
       "      <th>score_time</th>\n",
       "      <th>test_accuracy</th>\n",
       "      <th>train_accuracy</th>\n",
       "      <th>test_precision</th>\n",
       "      <th>train_precision</th>\n",
       "      <th>test_recall</th>\n",
       "      <th>train_recall</th>\n",
       "      <th>test_f1</th>\n",
       "      <th>train_f1</th>\n",
       "    </tr>\n",
       "  </thead>\n",
       "  <tbody>\n",
       "    <tr>\n",
       "      <th>0</th>\n",
       "      <td>0.025998</td>\n",
       "      <td>0.011002</td>\n",
       "      <td>0.980877</td>\n",
       "      <td>0.980874</td>\n",
       "      <td>0.0</td>\n",
       "      <td>0.0</td>\n",
       "      <td>0.0</td>\n",
       "      <td>0.0</td>\n",
       "      <td>0.0</td>\n",
       "      <td>0.0</td>\n",
       "    </tr>\n",
       "    <tr>\n",
       "      <th>1</th>\n",
       "      <td>0.022635</td>\n",
       "      <td>0.007001</td>\n",
       "      <td>0.980874</td>\n",
       "      <td>0.980876</td>\n",
       "      <td>0.0</td>\n",
       "      <td>0.0</td>\n",
       "      <td>0.0</td>\n",
       "      <td>0.0</td>\n",
       "      <td>0.0</td>\n",
       "      <td>0.0</td>\n",
       "    </tr>\n",
       "    <tr>\n",
       "      <th>2</th>\n",
       "      <td>0.018894</td>\n",
       "      <td>0.007013</td>\n",
       "      <td>0.980874</td>\n",
       "      <td>0.980876</td>\n",
       "      <td>0.0</td>\n",
       "      <td>0.0</td>\n",
       "      <td>0.0</td>\n",
       "      <td>0.0</td>\n",
       "      <td>0.0</td>\n",
       "      <td>0.0</td>\n",
       "    </tr>\n",
       "  </tbody>\n",
       "</table>\n",
       "</div>"
      ],
      "text/plain": [
       "   fit_time  score_time  test_accuracy  train_accuracy  test_precision  \\\n",
       "0  0.025998    0.011002       0.980877        0.980874             0.0   \n",
       "1  0.022635    0.007001       0.980874        0.980876             0.0   \n",
       "2  0.018894    0.007013       0.980874        0.980876             0.0   \n",
       "\n",
       "   train_precision  test_recall  train_recall  test_f1  train_f1  \n",
       "0              0.0          0.0           0.0      0.0       0.0  \n",
       "1              0.0          0.0           0.0      0.0       0.0  \n",
       "2              0.0          0.0           0.0      0.0       0.0  "
      ]
     },
     "execution_count": 96,
     "metadata": {},
     "output_type": "execute_result"
    }
   ],
   "source": [
    "results"
   ]
  },
  {
   "cell_type": "code",
   "execution_count": 97,
   "id": "df3670e4",
   "metadata": {},
   "outputs": [],
   "source": [
    "from sklearn.metrics import confusion_matrix, classification_report\n"
   ]
  },
  {
   "cell_type": "code",
   "execution_count": 98,
   "id": "4c9ff332",
   "metadata": {},
   "outputs": [
    {
     "name": "stdout",
     "output_type": "stream",
     "text": [
      "[[3924    0]\n",
      " [  76    0]]\n"
     ]
    }
   ],
   "source": [
    "model.fit(X_train, y_train)\n",
    "confusionMatrix = confusion_matrix(y_test, model.predict(X_test))\n",
    "print(confusionMatrix)"
   ]
  },
  {
   "cell_type": "code",
   "execution_count": 99,
   "id": "dba3843d",
   "metadata": {},
   "outputs": [
    {
     "name": "stdout",
     "output_type": "stream",
     "text": [
      "              precision    recall  f1-score   support\n",
      "\n",
      "           0       0.98      1.00      0.99      3924\n",
      "           1       0.00      0.00      0.00        76\n",
      "\n",
      "    accuracy                           0.98      4000\n",
      "   macro avg       0.49      0.50      0.50      4000\n",
      "weighted avg       0.96      0.98      0.97      4000\n",
      "\n"
     ]
    },
    {
     "name": "stderr",
     "output_type": "stream",
     "text": [
      "c:\\Users\\Sangram pc\\AppData\\Local\\Programs\\Python\\Python311\\Lib\\site-packages\\sklearn\\metrics\\_classification.py:1731: UndefinedMetricWarning: Precision is ill-defined and being set to 0.0 in labels with no predicted samples. Use `zero_division` parameter to control this behavior.\n",
      "  _warn_prf(average, modifier, f\"{metric.capitalize()} is\", result.shape[0])\n",
      "c:\\Users\\Sangram pc\\AppData\\Local\\Programs\\Python\\Python311\\Lib\\site-packages\\sklearn\\metrics\\_classification.py:1731: UndefinedMetricWarning: Precision is ill-defined and being set to 0.0 in labels with no predicted samples. Use `zero_division` parameter to control this behavior.\n",
      "  _warn_prf(average, modifier, f\"{metric.capitalize()} is\", result.shape[0])\n",
      "c:\\Users\\Sangram pc\\AppData\\Local\\Programs\\Python\\Python311\\Lib\\site-packages\\sklearn\\metrics\\_classification.py:1731: UndefinedMetricWarning: Precision is ill-defined and being set to 0.0 in labels with no predicted samples. Use `zero_division` parameter to control this behavior.\n",
      "  _warn_prf(average, modifier, f\"{metric.capitalize()} is\", result.shape[0])\n"
     ]
    }
   ],
   "source": [
    "print(classification_report(y_test, model.predict(X_test)))"
   ]
  },
  {
   "cell_type": "code",
   "execution_count": 100,
   "id": "29f6e805",
   "metadata": {},
   "outputs": [],
   "source": [
    "tp = float(confusionMatrix[1, 1])\n",
    "tn = float(confusionMatrix[0, 0])   \n",
    "fp = float(confusionMatrix[0, 1])\n",
    "fn = float(confusionMatrix[1, 0])"
   ]
  },
  {
   "cell_type": "code",
   "execution_count": 101,
   "id": "6edab478",
   "metadata": {},
   "outputs": [],
   "source": [
    "spec = tn / (tn + fp)\n",
    "sens = tp / (tp + fn)"
   ]
  },
  {
   "cell_type": "code",
   "execution_count": 102,
   "id": "c9429b85",
   "metadata": {},
   "outputs": [
    {
     "data": {
      "text/plain": [
       "0.0"
      ]
     },
     "execution_count": 102,
     "metadata": {},
     "output_type": "execute_result"
    }
   ],
   "source": [
    "g_mean = (spec * sens) ** 0.5\n",
    "g_mean"
   ]
  },
  {
   "cell_type": "code",
   "execution_count": 104,
   "id": "ac580da7",
   "metadata": {},
   "outputs": [],
   "source": [
    "from imblearn.under_sampling import RandomUnderSampler"
   ]
  },
  {
   "cell_type": "code",
   "execution_count": 105,
   "id": "9e973743",
   "metadata": {},
   "outputs": [],
   "source": [
    "rus = RandomUnderSampler(random_state=0)\n",
    "X_res, y_res = rus.fit_resample(X_train, y_train)"
   ]
  },
  {
   "cell_type": "code",
   "execution_count": 106,
   "id": "2aba52ff",
   "metadata": {},
   "outputs": [
    {
     "name": "stdout",
     "output_type": "stream",
     "text": [
      "(612, 11)\n"
     ]
    }
   ],
   "source": [
    "print(X_res.shape)"
   ]
  },
  {
   "cell_type": "code",
   "execution_count": 107,
   "id": "00c7d86c",
   "metadata": {},
   "outputs": [
    {
     "name": "stdout",
     "output_type": "stream",
     "text": [
      "(306,) (306,)\n"
     ]
    }
   ],
   "source": [
    "print(y_res[y_res==1].shape, y_res[y_res==0].shape)"
   ]
  },
  {
   "cell_type": "code",
   "execution_count": 108,
   "id": "13702640",
   "metadata": {},
   "outputs": [],
   "source": [
    "mets = ['accuracy', 'precision', 'recall', 'f1']\n",
    "scores = cross_validate(model, X_res, y_res, cv=5, scoring=mets, return_train_score=True)"
   ]
  },
  {
   "cell_type": "code",
   "execution_count": 109,
   "id": "6fc17a5d",
   "metadata": {},
   "outputs": [
    {
     "data": {
      "text/plain": [
       "{'fit_time': array([0.0089972 , 0.00699401, 0.00599957, 0.00800037, 0.00520873]),\n",
       " 'score_time': array([0.0130055 , 0.0090003 , 0.00799823, 0.00700355, 0.00501657]),\n",
       " 'test_accuracy': array([1., 1., 1., 1., 1.]),\n",
       " 'train_accuracy': array([1., 1., 1., 1., 1.]),\n",
       " 'test_precision': array([1., 1., 1., 1., 1.]),\n",
       " 'train_precision': array([1., 1., 1., 1., 1.]),\n",
       " 'test_recall': array([1., 1., 1., 1., 1.]),\n",
       " 'train_recall': array([1., 1., 1., 1., 1.]),\n",
       " 'test_f1': array([1., 1., 1., 1., 1.]),\n",
       " 'train_f1': array([1., 1., 1., 1., 1.])}"
      ]
     },
     "execution_count": 109,
     "metadata": {},
     "output_type": "execute_result"
    }
   ],
   "source": [
    "scores"
   ]
  },
  {
   "cell_type": "code",
   "execution_count": 114,
   "id": "cbd0e2d7",
   "metadata": {},
   "outputs": [
    {
     "name": "stdout",
     "output_type": "stream",
     "text": [
      "[0 0 0 ... 0 0 0]\n",
      "[0 0 0 ... 0 0 0]\n",
      "[0 0 0 ... 0 0 0]\n",
      "[0 0 0 ... 0 0 0]\n",
      "[0 0 0 ... 0 0 0]\n",
      "[0 0 0 ... 0 0 0]\n",
      "[0 1 1 ... 0 1 0]\n",
      "[1 1 1 ... 1 1 1]\n",
      "[1 1 1 ... 1 1 1]\n"
     ]
    },
    {
     "data": {
      "image/png": "[encoded data removed]",
      "text/plain": [
       "<Figure size 640x480 with 1 Axes>"
      ]
     },
     "metadata": {},
     "output_type": "display_data"
    }
   ],
   "source": [
    "model.fit(X_res, y_res)\n",
    "prob = model.predict_proba(X_test)[:, 1]\n",
    "\n",
    "f1_0, f1_1 = [], []\n",
    "thresholds = [0.9,0.8,0.7,0.6,0.5,0.4,0.3,0.2,0.1]\n",
    "\n",
    "for t in thresholds:\n",
    "    y_pred = (prob >= t).astype(int)\n",
    "    print(y_pred)\n",
    "    f1_0.append(f1_score(y_test, y_pred, pos_label=0))\n",
    "    f1_1.append(f1_score(y_test, y_pred, pos_label=1))\n",
    "\n",
    "plt.plot(thresholds, f1_0, label='F1 score for class 0')\n",
    "plt.plot(thresholds, f1_1, label='F1 score for class 1')\n",
    "plt.xlabel('Threshold')\n",
    "plt.ylabel('F1 Score')\n",
    "plt.title('F1 Score vs. Threshold')\n",
    "plt.legend()\n",
    "plt.grid()\n",
    "plt.show()\n"
   ]
  },
  {
   "cell_type": "code",
   "execution_count": 118,
   "id": "902431b4",
   "metadata": {},
   "outputs": [
    {
     "name": "stdout",
     "output_type": "stream",
     "text": [
      "              precision    recall  f1-score   support\n",
      "\n",
      "           0       0.98      0.36      0.52      3924\n",
      "           1       0.02      0.62      0.04        76\n",
      "\n",
      "    accuracy                           0.36      4000\n",
      "   macro avg       0.50      0.49      0.28      4000\n",
      "weighted avg       0.96      0.36      0.51      4000\n",
      "\n"
     ]
    }
   ],
   "source": [
    "test_prob = model.predict_proba(X_test)[:, 1]\n",
    "preds = np.where(test_prob >= 0.3, 1, 0)\n",
    "print(classification_report(y_test, preds))"
   ]
  },
  {
   "cell_type": "code",
   "execution_count": 119,
   "id": "e9493807",
   "metadata": {},
   "outputs": [],
   "source": [
    "from imblearn.under_sampling import TomekLinks\n",
    "from collections import Counter"
   ]
  },
  {
   "cell_type": "code",
   "execution_count": 120,
   "id": "e4ffaacc",
   "metadata": {},
   "outputs": [],
   "source": [
    "tom = TomekLinks()\n",
    "X_tom, y_tom = tom.fit_resample(X_train, y_train)"
   ]
  },
  {
   "cell_type": "code",
   "execution_count": 121,
   "id": "1c3ab892",
   "metadata": {},
   "outputs": [
    {
     "name": "stdout",
     "output_type": "stream",
     "text": [
      "Resampled dataset shape: Counter({np.int64(0): 15694, np.int64(1): 306})\n"
     ]
    }
   ],
   "source": [
    "print(\"Resampled dataset shape:\", Counter(y_tom))"
   ]
  },
  {
   "cell_type": "code",
   "execution_count": 122,
   "id": "c9f3e3e0",
   "metadata": {},
   "outputs": [
    {
     "name": "stderr",
     "output_type": "stream",
     "text": [
      "c:\\Users\\Sangram pc\\AppData\\Local\\Programs\\Python\\Python311\\Lib\\site-packages\\sklearn\\metrics\\_classification.py:1731: UndefinedMetricWarning: Precision is ill-defined and being set to 0.0 due to no predicted samples. Use `zero_division` parameter to control this behavior.\n",
      "  _warn_prf(average, modifier, f\"{metric.capitalize()} is\", result.shape[0])\n",
      "c:\\Users\\Sangram pc\\AppData\\Local\\Programs\\Python\\Python311\\Lib\\site-packages\\sklearn\\metrics\\_classification.py:1731: UndefinedMetricWarning: Precision is ill-defined and being set to 0.0 due to no predicted samples. Use `zero_division` parameter to control this behavior.\n",
      "  _warn_prf(average, modifier, f\"{metric.capitalize()} is\", result.shape[0])\n",
      "c:\\Users\\Sangram pc\\AppData\\Local\\Programs\\Python\\Python311\\Lib\\site-packages\\sklearn\\metrics\\_classification.py:1731: UndefinedMetricWarning: Precision is ill-defined and being set to 0.0 due to no predicted samples. Use `zero_division` parameter to control this behavior.\n",
      "  _warn_prf(average, modifier, f\"{metric.capitalize()} is\", result.shape[0])\n",
      "c:\\Users\\Sangram pc\\AppData\\Local\\Programs\\Python\\Python311\\Lib\\site-packages\\sklearn\\metrics\\_classification.py:1731: UndefinedMetricWarning: Precision is ill-defined and being set to 0.0 due to no predicted samples. Use `zero_division` parameter to control this behavior.\n",
      "  _warn_prf(average, modifier, f\"{metric.capitalize()} is\", result.shape[0])\n",
      "c:\\Users\\Sangram pc\\AppData\\Local\\Programs\\Python\\Python311\\Lib\\site-packages\\sklearn\\metrics\\_classification.py:1731: UndefinedMetricWarning: Precision is ill-defined and being set to 0.0 due to no predicted samples. Use `zero_division` parameter to control this behavior.\n",
      "  _warn_prf(average, modifier, f\"{metric.capitalize()} is\", result.shape[0])\n",
      "c:\\Users\\Sangram pc\\AppData\\Local\\Programs\\Python\\Python311\\Lib\\site-packages\\sklearn\\metrics\\_classification.py:1731: UndefinedMetricWarning: Precision is ill-defined and being set to 0.0 due to no predicted samples. Use `zero_division` parameter to control this behavior.\n",
      "  _warn_prf(average, modifier, f\"{metric.capitalize()} is\", result.shape[0])\n",
      "c:\\Users\\Sangram pc\\AppData\\Local\\Programs\\Python\\Python311\\Lib\\site-packages\\sklearn\\metrics\\_classification.py:1731: UndefinedMetricWarning: Precision is ill-defined and being set to 0.0 due to no predicted samples. Use `zero_division` parameter to control this behavior.\n",
      "  _warn_prf(average, modifier, f\"{metric.capitalize()} is\", result.shape[0])\n",
      "c:\\Users\\Sangram pc\\AppData\\Local\\Programs\\Python\\Python311\\Lib\\site-packages\\sklearn\\metrics\\_classification.py:1731: UndefinedMetricWarning: Precision is ill-defined and being set to 0.0 due to no predicted samples. Use `zero_division` parameter to control this behavior.\n",
      "  _warn_prf(average, modifier, f\"{metric.capitalize()} is\", result.shape[0])\n",
      "c:\\Users\\Sangram pc\\AppData\\Local\\Programs\\Python\\Python311\\Lib\\site-packages\\sklearn\\metrics\\_classification.py:1731: UndefinedMetricWarning: Precision is ill-defined and being set to 0.0 due to no predicted samples. Use `zero_division` parameter to control this behavior.\n",
      "  _warn_prf(average, modifier, f\"{metric.capitalize()} is\", result.shape[0])\n",
      "c:\\Users\\Sangram pc\\AppData\\Local\\Programs\\Python\\Python311\\Lib\\site-packages\\sklearn\\metrics\\_classification.py:1731: UndefinedMetricWarning: Precision is ill-defined and being set to 0.0 due to no predicted samples. Use `zero_division` parameter to control this behavior.\n",
      "  _warn_prf(average, modifier, f\"{metric.capitalize()} is\", result.shape[0])\n",
      "c:\\Users\\Sangram pc\\AppData\\Local\\Programs\\Python\\Python311\\Lib\\site-packages\\sklearn\\metrics\\_classification.py:1731: UndefinedMetricWarning: Precision is ill-defined and being set to 0.0 due to no predicted samples. Use `zero_division` parameter to control this behavior.\n",
      "  _warn_prf(average, modifier, f\"{metric.capitalize()} is\", result.shape[0])\n",
      "c:\\Users\\Sangram pc\\AppData\\Local\\Programs\\Python\\Python311\\Lib\\site-packages\\sklearn\\metrics\\_classification.py:1731: UndefinedMetricWarning: Precision is ill-defined and being set to 0.0 due to no predicted samples. Use `zero_division` parameter to control this behavior.\n",
      "  _warn_prf(average, modifier, f\"{metric.capitalize()} is\", result.shape[0])\n",
      "c:\\Users\\Sangram pc\\AppData\\Local\\Programs\\Python\\Python311\\Lib\\site-packages\\sklearn\\metrics\\_classification.py:1731: UndefinedMetricWarning: Precision is ill-defined and being set to 0.0 due to no predicted samples. Use `zero_division` parameter to control this behavior.\n",
      "  _warn_prf(average, modifier, f\"{metric.capitalize()} is\", result.shape[0])\n",
      "c:\\Users\\Sangram pc\\AppData\\Local\\Programs\\Python\\Python311\\Lib\\site-packages\\sklearn\\metrics\\_classification.py:1731: UndefinedMetricWarning: Precision is ill-defined and being set to 0.0 due to no predicted samples. Use `zero_division` parameter to control this behavior.\n",
      "  _warn_prf(average, modifier, f\"{metric.capitalize()} is\", result.shape[0])\n"
     ]
    },
    {
     "data": {
      "application/vnd.microsoft.datawrangler.viewer.v0+json": {
       "columns": [
        {
         "name": "index",
         "rawType": "int64",
         "type": "integer"
        },
        {
         "name": "fit_time",
         "rawType": "float64",
         "type": "float"
        },
        {
         "name": "score_time",
         "rawType": "float64",
         "type": "float"
        },
        {
         "name": "test_accuracy",
         "rawType": "float64",
         "type": "float"
        },
        {
         "name": "train_accuracy",
         "rawType": "float64",
         "type": "float"
        },
        {
         "name": "test_precision",
         "rawType": "float64",
         "type": "float"
        },
        {
         "name": "train_precision",
         "rawType": "float64",
         "type": "float"
        },
        {
         "name": "test_recall",
         "rawType": "float64",
         "type": "float"
        },
        {
         "name": "train_recall",
         "rawType": "float64",
         "type": "float"
        },
        {
         "name": "test_f1",
         "rawType": "float64",
         "type": "float"
        },
        {
         "name": "train_f1",
         "rawType": "float64",
         "type": "float"
        }
       ],
       "ref": "b1041a1f-3b5c-4f98-8e37-c0149c678648",
       "rows": [
        [
         "0",
         "0.03680062294006348",
         "0.013998270034790039",
         "0.9809375",
         "0.980859375",
         "0.0",
         "0.0",
         "0.0",
         "0.0",
         "0.0",
         "0.0"
        ],
        [
         "1",
         "0.02725529670715332",
         "0.010122537612915039",
         "0.9809375",
         "0.980859375",
         "0.0",
         "0.0",
         "0.0",
         "0.0",
         "0.0",
         "0.0"
        ],
        [
         "2",
         "0.05733489990234375",
         "0.010979413986206055",
         "0.9809375",
         "0.980859375",
         "0.0",
         "0.0",
         "0.0",
         "0.0",
         "0.0",
         "0.0"
        ],
        [
         "3",
         "0.019182443618774414",
         "0.007998943328857422",
         "0.9809375",
         "0.980859375",
         "0.0",
         "0.0",
         "0.0",
         "0.0",
         "0.0",
         "0.0"
        ],
        [
         "4",
         "0.027009248733520508",
         "0.010993480682373047",
         "0.980625",
         "0.9809375",
         "0.0",
         "0.0",
         "0.0",
         "0.0",
         "0.0",
         "0.0"
        ]
       ],
       "shape": {
        "columns": 10,
        "rows": 5
       }
      },
      "text/html": [
       "<div>\n",
       "<style scoped>\n",
       "    .dataframe tbody tr th:only-of-type {\n",
       "        vertical-align: middle;\n",
       "    }\n",
       "\n",
       "    .dataframe tbody tr th {\n",
       "        vertical-align: top;\n",
       "    }\n",
       "\n",
       "    .dataframe thead th {\n",
       "        text-align: right;\n",
       "    }\n",
       "</style>\n",
       "<table border=\"1\" class=\"dataframe\">\n",
       "  <thead>\n",
       "    <tr style=\"text-align: right;\">\n",
       "      <th></th>\n",
       "      <th>fit_time</th>\n",
       "      <th>score_time</th>\n",
       "      <th>test_accuracy</th>\n",
       "      <th>train_accuracy</th>\n",
       "      <th>test_precision</th>\n",
       "      <th>train_precision</th>\n",
       "      <th>test_recall</th>\n",
       "      <th>train_recall</th>\n",
       "      <th>test_f1</th>\n",
       "      <th>train_f1</th>\n",
       "    </tr>\n",
       "  </thead>\n",
       "  <tbody>\n",
       "    <tr>\n",
       "      <th>0</th>\n",
       "      <td>0.036801</td>\n",
       "      <td>0.013998</td>\n",
       "      <td>0.980938</td>\n",
       "      <td>0.980859</td>\n",
       "      <td>0.0</td>\n",
       "      <td>0.0</td>\n",
       "      <td>0.0</td>\n",
       "      <td>0.0</td>\n",
       "      <td>0.0</td>\n",
       "      <td>0.0</td>\n",
       "    </tr>\n",
       "    <tr>\n",
       "      <th>1</th>\n",
       "      <td>0.027255</td>\n",
       "      <td>0.010123</td>\n",
       "      <td>0.980938</td>\n",
       "      <td>0.980859</td>\n",
       "      <td>0.0</td>\n",
       "      <td>0.0</td>\n",
       "      <td>0.0</td>\n",
       "      <td>0.0</td>\n",
       "      <td>0.0</td>\n",
       "      <td>0.0</td>\n",
       "    </tr>\n",
       "    <tr>\n",
       "      <th>2</th>\n",
       "      <td>0.057335</td>\n",
       "      <td>0.010979</td>\n",
       "      <td>0.980938</td>\n",
       "      <td>0.980859</td>\n",
       "      <td>0.0</td>\n",
       "      <td>0.0</td>\n",
       "      <td>0.0</td>\n",
       "      <td>0.0</td>\n",
       "      <td>0.0</td>\n",
       "      <td>0.0</td>\n",
       "    </tr>\n",
       "    <tr>\n",
       "      <th>3</th>\n",
       "      <td>0.019182</td>\n",
       "      <td>0.007999</td>\n",
       "      <td>0.980938</td>\n",
       "      <td>0.980859</td>\n",
       "      <td>0.0</td>\n",
       "      <td>0.0</td>\n",
       "      <td>0.0</td>\n",
       "      <td>0.0</td>\n",
       "      <td>0.0</td>\n",
       "      <td>0.0</td>\n",
       "    </tr>\n",
       "    <tr>\n",
       "      <th>4</th>\n",
       "      <td>0.027009</td>\n",
       "      <td>0.010993</td>\n",
       "      <td>0.980625</td>\n",
       "      <td>0.980938</td>\n",
       "      <td>0.0</td>\n",
       "      <td>0.0</td>\n",
       "      <td>0.0</td>\n",
       "      <td>0.0</td>\n",
       "      <td>0.0</td>\n",
       "      <td>0.0</td>\n",
       "    </tr>\n",
       "  </tbody>\n",
       "</table>\n",
       "</div>"
      ],
      "text/plain": [
       "   fit_time  score_time  test_accuracy  train_accuracy  test_precision  \\\n",
       "0  0.036801    0.013998       0.980938        0.980859             0.0   \n",
       "1  0.027255    0.010123       0.980938        0.980859             0.0   \n",
       "2  0.057335    0.010979       0.980938        0.980859             0.0   \n",
       "3  0.019182    0.007999       0.980938        0.980859             0.0   \n",
       "4  0.027009    0.010993       0.980625        0.980938             0.0   \n",
       "\n",
       "   train_precision  test_recall  train_recall  test_f1  train_f1  \n",
       "0              0.0          0.0           0.0      0.0       0.0  \n",
       "1              0.0          0.0           0.0      0.0       0.0  \n",
       "2              0.0          0.0           0.0      0.0       0.0  \n",
       "3              0.0          0.0           0.0      0.0       0.0  \n",
       "4              0.0          0.0           0.0      0.0       0.0  "
      ]
     },
     "execution_count": 122,
     "metadata": {},
     "output_type": "execute_result"
    }
   ],
   "source": [
    "scores_tom = cross_validate(model, X_tom, y_tom, cv=5, scoring=mets, return_train_score=True)\n",
    "pd.DataFrame(scores_tom)"
   ]
  },
  {
   "cell_type": "code",
   "execution_count": 123,
   "id": "f1ed4e0e",
   "metadata": {},
   "outputs": [
    {
     "name": "stdout",
     "output_type": "stream",
     "text": [
      "              precision    recall  f1-score   support\n",
      "\n",
      "           0       0.98      1.00      0.99     15694\n",
      "           1       0.00      0.00      0.00       306\n",
      "\n",
      "    accuracy                           0.98     16000\n",
      "   macro avg       0.49      0.50      0.50     16000\n",
      "weighted avg       0.96      0.98      0.97     16000\n",
      "\n"
     ]
    },
    {
     "name": "stderr",
     "output_type": "stream",
     "text": [
      "c:\\Users\\Sangram pc\\AppData\\Local\\Programs\\Python\\Python311\\Lib\\site-packages\\sklearn\\metrics\\_classification.py:1731: UndefinedMetricWarning: Precision is ill-defined and being set to 0.0 in labels with no predicted samples. Use `zero_division` parameter to control this behavior.\n",
      "  _warn_prf(average, modifier, f\"{metric.capitalize()} is\", result.shape[0])\n",
      "c:\\Users\\Sangram pc\\AppData\\Local\\Programs\\Python\\Python311\\Lib\\site-packages\\sklearn\\metrics\\_classification.py:1731: UndefinedMetricWarning: Precision is ill-defined and being set to 0.0 in labels with no predicted samples. Use `zero_division` parameter to control this behavior.\n",
      "  _warn_prf(average, modifier, f\"{metric.capitalize()} is\", result.shape[0])\n",
      "c:\\Users\\Sangram pc\\AppData\\Local\\Programs\\Python\\Python311\\Lib\\site-packages\\sklearn\\metrics\\_classification.py:1731: UndefinedMetricWarning: Precision is ill-defined and being set to 0.0 in labels with no predicted samples. Use `zero_division` parameter to control this behavior.\n",
      "  _warn_prf(average, modifier, f\"{metric.capitalize()} is\", result.shape[0])\n"
     ]
    }
   ],
   "source": [
    "model.fit(X_tom, y_tom)\n",
    "print(classification_report(y_tom, model.predict(X_tom)))"
   ]
  },
  {
   "cell_type": "code",
   "execution_count": 124,
   "id": "06e25a67",
   "metadata": {},
   "outputs": [
    {
     "name": "stdout",
     "output_type": "stream",
     "text": [
      "              precision    recall  f1-score   support\n",
      "\n",
      "           0       0.98      1.00      0.99      3924\n",
      "           1       0.00      0.00      0.00        76\n",
      "\n",
      "    accuracy                           0.98      4000\n",
      "   macro avg       0.49      0.50      0.50      4000\n",
      "weighted avg       0.96      0.98      0.97      4000\n",
      "\n"
     ]
    },
    {
     "name": "stderr",
     "output_type": "stream",
     "text": [
      "c:\\Users\\Sangram pc\\AppData\\Local\\Programs\\Python\\Python311\\Lib\\site-packages\\sklearn\\metrics\\_classification.py:1731: UndefinedMetricWarning: Precision is ill-defined and being set to 0.0 in labels with no predicted samples. Use `zero_division` parameter to control this behavior.\n",
      "  _warn_prf(average, modifier, f\"{metric.capitalize()} is\", result.shape[0])\n",
      "c:\\Users\\Sangram pc\\AppData\\Local\\Programs\\Python\\Python311\\Lib\\site-packages\\sklearn\\metrics\\_classification.py:1731: UndefinedMetricWarning: Precision is ill-defined and being set to 0.0 in labels with no predicted samples. Use `zero_division` parameter to control this behavior.\n",
      "  _warn_prf(average, modifier, f\"{metric.capitalize()} is\", result.shape[0])\n",
      "c:\\Users\\Sangram pc\\AppData\\Local\\Programs\\Python\\Python311\\Lib\\site-packages\\sklearn\\metrics\\_classification.py:1731: UndefinedMetricWarning: Precision is ill-defined and being set to 0.0 in labels with no predicted samples. Use `zero_division` parameter to control this behavior.\n",
      "  _warn_prf(average, modifier, f\"{metric.capitalize()} is\", result.shape[0])\n"
     ]
    }
   ],
   "source": [
    "print(classification_report(y_test, model.predict(X_test)))"
   ]
  },
  {
   "cell_type": "code",
   "execution_count": 125,
   "id": "44d9f267",
   "metadata": {},
   "outputs": [
    {
     "name": "stdout",
     "output_type": "stream",
     "text": [
      "Resampled dataset shape: Counter({np.int64(0): 15694, np.int64(1): 15694})\n"
     ]
    }
   ],
   "source": [
    "from imblearn.over_sampling import SMOTE\n",
    "\n",
    "smt = SMOTE()\n",
    "X_smt, y_smt = smt.fit_resample(X_train, y_train)\n",
    "print(\"Resampled dataset shape:\", Counter(y_smt))"
   ]
  },
  {
   "cell_type": "code",
   "execution_count": 126,
   "id": "ac616541",
   "metadata": {},
   "outputs": [
    {
     "data": {
      "application/vnd.microsoft.datawrangler.viewer.v0+json": {
       "columns": [
        {
         "name": "index",
         "rawType": "int64",
         "type": "integer"
        },
        {
         "name": "fit_time",
         "rawType": "float64",
         "type": "float"
        },
        {
         "name": "score_time",
         "rawType": "float64",
         "type": "float"
        },
        {
         "name": "test_accuracy",
         "rawType": "float64",
         "type": "float"
        },
        {
         "name": "train_accuracy",
         "rawType": "float64",
         "type": "float"
        },
        {
         "name": "test_precision",
         "rawType": "float64",
         "type": "float"
        },
        {
         "name": "train_precision",
         "rawType": "float64",
         "type": "float"
        },
        {
         "name": "test_recall",
         "rawType": "float64",
         "type": "float"
        },
        {
         "name": "train_recall",
         "rawType": "float64",
         "type": "float"
        },
        {
         "name": "test_f1",
         "rawType": "float64",
         "type": "float"
        },
        {
         "name": "train_f1",
         "rawType": "float64",
         "type": "float"
        }
       ],
       "ref": "3fb208fd-8c91-4859-bf9b-ffa9570d9268",
       "rows": [
        [
         "0",
         "0.04500842094421387",
         "0.008995532989501953",
         "1.0",
         "1.0",
         "1.0",
         "1.0",
         "1.0",
         "1.0",
         "1.0",
         "1.0"
        ],
        [
         "1",
         "0.04201078414916992",
         "0.013990163803100586",
         "1.0",
         "1.0",
         "1.0",
         "1.0",
         "1.0",
         "1.0",
         "1.0",
         "1.0"
        ],
        [
         "2",
         "0.0619966983795166",
         "0.007002592086791992",
         "1.0",
         "1.0",
         "1.0",
         "1.0",
         "1.0",
         "1.0",
         "1.0",
         "1.0"
        ],
        [
         "3",
         "0.0431675910949707",
         "0.012018680572509766",
         "1.0",
         "1.0",
         "1.0",
         "1.0",
         "1.0",
         "1.0",
         "1.0",
         "1.0"
        ],
        [
         "4",
         "0.03763556480407715",
         "0.007973194122314453",
         "1.0",
         "1.0",
         "1.0",
         "1.0",
         "1.0",
         "1.0",
         "1.0",
         "1.0"
        ]
       ],
       "shape": {
        "columns": 10,
        "rows": 5
       }
      },
      "text/html": [
       "<div>\n",
       "<style scoped>\n",
       "    .dataframe tbody tr th:only-of-type {\n",
       "        vertical-align: middle;\n",
       "    }\n",
       "\n",
       "    .dataframe tbody tr th {\n",
       "        vertical-align: top;\n",
       "    }\n",
       "\n",
       "    .dataframe thead th {\n",
       "        text-align: right;\n",
       "    }\n",
       "</style>\n",
       "<table border=\"1\" class=\"dataframe\">\n",
       "  <thead>\n",
       "    <tr style=\"text-align: right;\">\n",
       "      <th></th>\n",
       "      <th>fit_time</th>\n",
       "      <th>score_time</th>\n",
       "      <th>test_accuracy</th>\n",
       "      <th>train_accuracy</th>\n",
       "      <th>test_precision</th>\n",
       "      <th>train_precision</th>\n",
       "      <th>test_recall</th>\n",
       "      <th>train_recall</th>\n",
       "      <th>test_f1</th>\n",
       "      <th>train_f1</th>\n",
       "    </tr>\n",
       "  </thead>\n",
       "  <tbody>\n",
       "    <tr>\n",
       "      <th>0</th>\n",
       "      <td>0.045008</td>\n",
       "      <td>0.008996</td>\n",
       "      <td>1.0</td>\n",
       "      <td>1.0</td>\n",
       "      <td>1.0</td>\n",
       "      <td>1.0</td>\n",
       "      <td>1.0</td>\n",
       "      <td>1.0</td>\n",
       "      <td>1.0</td>\n",
       "      <td>1.0</td>\n",
       "    </tr>\n",
       "    <tr>\n",
       "      <th>1</th>\n",
       "      <td>0.042011</td>\n",
       "      <td>0.013990</td>\n",
       "      <td>1.0</td>\n",
       "      <td>1.0</td>\n",
       "      <td>1.0</td>\n",
       "      <td>1.0</td>\n",
       "      <td>1.0</td>\n",
       "      <td>1.0</td>\n",
       "      <td>1.0</td>\n",
       "      <td>1.0</td>\n",
       "    </tr>\n",
       "    <tr>\n",
       "      <th>2</th>\n",
       "      <td>0.061997</td>\n",
       "      <td>0.007003</td>\n",
       "      <td>1.0</td>\n",
       "      <td>1.0</td>\n",
       "      <td>1.0</td>\n",
       "      <td>1.0</td>\n",
       "      <td>1.0</td>\n",
       "      <td>1.0</td>\n",
       "      <td>1.0</td>\n",
       "      <td>1.0</td>\n",
       "    </tr>\n",
       "    <tr>\n",
       "      <th>3</th>\n",
       "      <td>0.043168</td>\n",
       "      <td>0.012019</td>\n",
       "      <td>1.0</td>\n",
       "      <td>1.0</td>\n",
       "      <td>1.0</td>\n",
       "      <td>1.0</td>\n",
       "      <td>1.0</td>\n",
       "      <td>1.0</td>\n",
       "      <td>1.0</td>\n",
       "      <td>1.0</td>\n",
       "    </tr>\n",
       "    <tr>\n",
       "      <th>4</th>\n",
       "      <td>0.037636</td>\n",
       "      <td>0.007973</td>\n",
       "      <td>1.0</td>\n",
       "      <td>1.0</td>\n",
       "      <td>1.0</td>\n",
       "      <td>1.0</td>\n",
       "      <td>1.0</td>\n",
       "      <td>1.0</td>\n",
       "      <td>1.0</td>\n",
       "      <td>1.0</td>\n",
       "    </tr>\n",
       "  </tbody>\n",
       "</table>\n",
       "</div>"
      ],
      "text/plain": [
       "   fit_time  score_time  test_accuracy  train_accuracy  test_precision  \\\n",
       "0  0.045008    0.008996            1.0             1.0             1.0   \n",
       "1  0.042011    0.013990            1.0             1.0             1.0   \n",
       "2  0.061997    0.007003            1.0             1.0             1.0   \n",
       "3  0.043168    0.012019            1.0             1.0             1.0   \n",
       "4  0.037636    0.007973            1.0             1.0             1.0   \n",
       "\n",
       "   train_precision  test_recall  train_recall  test_f1  train_f1  \n",
       "0              1.0          1.0           1.0      1.0       1.0  \n",
       "1              1.0          1.0           1.0      1.0       1.0  \n",
       "2              1.0          1.0           1.0      1.0       1.0  \n",
       "3              1.0          1.0           1.0      1.0       1.0  \n",
       "4              1.0          1.0           1.0      1.0       1.0  "
      ]
     },
     "execution_count": 126,
     "metadata": {},
     "output_type": "execute_result"
    }
   ],
   "source": [
    "scores_smt = cross_validate(model, X_smt, y_smt, cv=5, scoring=mets, return_train_score=True)\n",
    "pd.DataFrame(scores_smt)"
   ]
  },
  {
   "cell_type": "code",
   "execution_count": 128,
   "id": "98fcc3d0",
   "metadata": {},
   "outputs": [
    {
     "name": "stdout",
     "output_type": "stream",
     "text": [
      "              precision    recall  f1-score   support\n",
      "\n",
      "           0       1.00      1.00      1.00     15694\n",
      "           1       1.00      1.00      1.00     15694\n",
      "\n",
      "    accuracy                           1.00     31388\n",
      "   macro avg       1.00      1.00      1.00     31388\n",
      "weighted avg       1.00      1.00      1.00     31388\n",
      "\n"
     ]
    }
   ],
   "source": [
    "model.fit(X_smt, y_smt)\n",
    "print(classification_report(y_smt, model.predict(X_smt)))"
   ]
  },
  {
   "cell_type": "code",
   "execution_count": 129,
   "id": "fcf2424c",
   "metadata": {},
   "outputs": [
    {
     "name": "stdout",
     "output_type": "stream",
     "text": [
      "              precision    recall  f1-score   support\n",
      "\n",
      "           0       0.98      1.00      0.99      3924\n",
      "           1       0.00      0.00      0.00        76\n",
      "\n",
      "    accuracy                           0.98      4000\n",
      "   macro avg       0.49      0.50      0.50      4000\n",
      "weighted avg       0.96      0.98      0.97      4000\n",
      "\n"
     ]
    },
    {
     "name": "stderr",
     "output_type": "stream",
     "text": [
      "c:\\Users\\Sangram pc\\AppData\\Local\\Programs\\Python\\Python311\\Lib\\site-packages\\sklearn\\metrics\\_classification.py:1731: UndefinedMetricWarning: Precision is ill-defined and being set to 0.0 in labels with no predicted samples. Use `zero_division` parameter to control this behavior.\n",
      "  _warn_prf(average, modifier, f\"{metric.capitalize()} is\", result.shape[0])\n",
      "c:\\Users\\Sangram pc\\AppData\\Local\\Programs\\Python\\Python311\\Lib\\site-packages\\sklearn\\metrics\\_classification.py:1731: UndefinedMetricWarning: Precision is ill-defined and being set to 0.0 in labels with no predicted samples. Use `zero_division` parameter to control this behavior.\n",
      "  _warn_prf(average, modifier, f\"{metric.capitalize()} is\", result.shape[0])\n",
      "c:\\Users\\Sangram pc\\AppData\\Local\\Programs\\Python\\Python311\\Lib\\site-packages\\sklearn\\metrics\\_classification.py:1731: UndefinedMetricWarning: Precision is ill-defined and being set to 0.0 in labels with no predicted samples. Use `zero_division` parameter to control this behavior.\n",
      "  _warn_prf(average, modifier, f\"{metric.capitalize()} is\", result.shape[0])\n"
     ]
    }
   ],
   "source": [
    "print(classification_report(y_test, model.predict(X_test)))"
   ]
  },
  {
   "cell_type": "code",
   "execution_count": null,
   "id": "39c3830c",
   "metadata": {},
   "outputs": [
    {
     "name": "stdout",
     "output_type": "stream",
     "text": [
      "Resampled dataset shape: Counter({np.int64(0): 15694, np.int64(1): 4626})\n"
     ]
    }
   ],
   "source": [
    "from imblearn.over_sampling import ADASYN\n",
    "\n",
    "# sampling_strategy is parameter that defines the desired ratio of the number of samples in the minority class to the number of samples in the majority class after resampling. For example, a sampling_strategy of 0.3 means that the minority class will have 30% of the number of samples in the majority class after resampling.\n",
    "ada = ADASYN(sampling_strategy=0.3)\n",
    "X_ada, y_ada = ada.fit_resample(X_train, y_train)\n",
    "print(\"Resampled dataset shape:\", Counter(y_ada))"
   ]
  },
  {
   "cell_type": "code",
   "execution_count": 132,
   "id": "59978c1c",
   "metadata": {},
   "outputs": [
    {
     "data": {
      "application/vnd.microsoft.datawrangler.viewer.v0+json": {
       "columns": [
        {
         "name": "index",
         "rawType": "int64",
         "type": "integer"
        },
        {
         "name": "fit_time",
         "rawType": "float64",
         "type": "float"
        },
        {
         "name": "score_time",
         "rawType": "float64",
         "type": "float"
        },
        {
         "name": "test_accuracy",
         "rawType": "float64",
         "type": "float"
        },
        {
         "name": "train_accuracy",
         "rawType": "float64",
         "type": "float"
        },
        {
         "name": "test_precision",
         "rawType": "float64",
         "type": "float"
        },
        {
         "name": "train_precision",
         "rawType": "float64",
         "type": "float"
        },
        {
         "name": "test_recall",
         "rawType": "float64",
         "type": "float"
        },
        {
         "name": "train_recall",
         "rawType": "float64",
         "type": "float"
        },
        {
         "name": "test_f1",
         "rawType": "float64",
         "type": "float"
        },
        {
         "name": "train_f1",
         "rawType": "float64",
         "type": "float"
        }
       ],
       "ref": "f1aa2960-6c11-49c3-9be7-be5604ea858c",
       "rows": [
        [
         "0",
         "0.043328285217285156",
         "0.011998176574707031",
         "1.0",
         "1.0",
         "1.0",
         "1.0",
         "1.0",
         "1.0",
         "1.0",
         "1.0"
        ],
        [
         "1",
         "0.04227852821350098",
         "0.011995077133178711",
         "1.0",
         "1.0",
         "1.0",
         "1.0",
         "1.0",
         "1.0",
         "1.0",
         "1.0"
        ],
        [
         "2",
         "0.04542040824890137",
         "0.00799560546875",
         "1.0",
         "1.0",
         "1.0",
         "1.0",
         "1.0",
         "1.0",
         "1.0",
         "1.0"
        ],
        [
         "3",
         "0.021656274795532227",
         "0.006017208099365234",
         "1.0",
         "1.0",
         "1.0",
         "1.0",
         "1.0",
         "1.0",
         "1.0",
         "1.0"
        ],
        [
         "4",
         "0.028006553649902344",
         "0.008000612258911133",
         "1.0",
         "1.0",
         "1.0",
         "1.0",
         "1.0",
         "1.0",
         "1.0",
         "1.0"
        ]
       ],
       "shape": {
        "columns": 10,
        "rows": 5
       }
      },
      "text/html": [
       "<div>\n",
       "<style scoped>\n",
       "    .dataframe tbody tr th:only-of-type {\n",
       "        vertical-align: middle;\n",
       "    }\n",
       "\n",
       "    .dataframe tbody tr th {\n",
       "        vertical-align: top;\n",
       "    }\n",
       "\n",
       "    .dataframe thead th {\n",
       "        text-align: right;\n",
       "    }\n",
       "</style>\n",
       "<table border=\"1\" class=\"dataframe\">\n",
       "  <thead>\n",
       "    <tr style=\"text-align: right;\">\n",
       "      <th></th>\n",
       "      <th>fit_time</th>\n",
       "      <th>score_time</th>\n",
       "      <th>test_accuracy</th>\n",
       "      <th>train_accuracy</th>\n",
       "      <th>test_precision</th>\n",
       "      <th>train_precision</th>\n",
       "      <th>test_recall</th>\n",
       "      <th>train_recall</th>\n",
       "      <th>test_f1</th>\n",
       "      <th>train_f1</th>\n",
       "    </tr>\n",
       "  </thead>\n",
       "  <tbody>\n",
       "    <tr>\n",
       "      <th>0</th>\n",
       "      <td>0.043328</td>\n",
       "      <td>0.011998</td>\n",
       "      <td>1.0</td>\n",
       "      <td>1.0</td>\n",
       "      <td>1.0</td>\n",
       "      <td>1.0</td>\n",
       "      <td>1.0</td>\n",
       "      <td>1.0</td>\n",
       "      <td>1.0</td>\n",
       "      <td>1.0</td>\n",
       "    </tr>\n",
       "    <tr>\n",
       "      <th>1</th>\n",
       "      <td>0.042279</td>\n",
       "      <td>0.011995</td>\n",
       "      <td>1.0</td>\n",
       "      <td>1.0</td>\n",
       "      <td>1.0</td>\n",
       "      <td>1.0</td>\n",
       "      <td>1.0</td>\n",
       "      <td>1.0</td>\n",
       "      <td>1.0</td>\n",
       "      <td>1.0</td>\n",
       "    </tr>\n",
       "    <tr>\n",
       "      <th>2</th>\n",
       "      <td>0.045420</td>\n",
       "      <td>0.007996</td>\n",
       "      <td>1.0</td>\n",
       "      <td>1.0</td>\n",
       "      <td>1.0</td>\n",
       "      <td>1.0</td>\n",
       "      <td>1.0</td>\n",
       "      <td>1.0</td>\n",
       "      <td>1.0</td>\n",
       "      <td>1.0</td>\n",
       "    </tr>\n",
       "    <tr>\n",
       "      <th>3</th>\n",
       "      <td>0.021656</td>\n",
       "      <td>0.006017</td>\n",
       "      <td>1.0</td>\n",
       "      <td>1.0</td>\n",
       "      <td>1.0</td>\n",
       "      <td>1.0</td>\n",
       "      <td>1.0</td>\n",
       "      <td>1.0</td>\n",
       "      <td>1.0</td>\n",
       "      <td>1.0</td>\n",
       "    </tr>\n",
       "    <tr>\n",
       "      <th>4</th>\n",
       "      <td>0.028007</td>\n",
       "      <td>0.008001</td>\n",
       "      <td>1.0</td>\n",
       "      <td>1.0</td>\n",
       "      <td>1.0</td>\n",
       "      <td>1.0</td>\n",
       "      <td>1.0</td>\n",
       "      <td>1.0</td>\n",
       "      <td>1.0</td>\n",
       "      <td>1.0</td>\n",
       "    </tr>\n",
       "  </tbody>\n",
       "</table>\n",
       "</div>"
      ],
      "text/plain": [
       "   fit_time  score_time  test_accuracy  train_accuracy  test_precision  \\\n",
       "0  0.043328    0.011998            1.0             1.0             1.0   \n",
       "1  0.042279    0.011995            1.0             1.0             1.0   \n",
       "2  0.045420    0.007996            1.0             1.0             1.0   \n",
       "3  0.021656    0.006017            1.0             1.0             1.0   \n",
       "4  0.028007    0.008001            1.0             1.0             1.0   \n",
       "\n",
       "   train_precision  test_recall  train_recall  test_f1  train_f1  \n",
       "0              1.0          1.0           1.0      1.0       1.0  \n",
       "1              1.0          1.0           1.0      1.0       1.0  \n",
       "2              1.0          1.0           1.0      1.0       1.0  \n",
       "3              1.0          1.0           1.0      1.0       1.0  \n",
       "4              1.0          1.0           1.0      1.0       1.0  "
      ]
     },
     "execution_count": 132,
     "metadata": {},
     "output_type": "execute_result"
    }
   ],
   "source": [
    "scores_ada = cross_validate(model, X_ada, y_ada, cv=5, scoring=mets, return_train_score=True)\n",
    "pd.DataFrame(scores_ada)"
   ]
  },
  {
   "cell_type": "code",
   "execution_count": 133,
   "id": "ce53c1bc",
   "metadata": {},
   "outputs": [
    {
     "name": "stdout",
     "output_type": "stream",
     "text": [
      "              precision    recall  f1-score   support\n",
      "\n",
      "           0       0.98      1.00      0.99      3924\n",
      "           1       0.00      0.00      0.00        76\n",
      "\n",
      "    accuracy                           0.98      4000\n",
      "   macro avg       0.49      0.50      0.50      4000\n",
      "weighted avg       0.96      0.98      0.97      4000\n",
      "\n"
     ]
    },
    {
     "name": "stderr",
     "output_type": "stream",
     "text": [
      "c:\\Users\\Sangram pc\\AppData\\Local\\Programs\\Python\\Python311\\Lib\\site-packages\\sklearn\\metrics\\_classification.py:1731: UndefinedMetricWarning: Precision is ill-defined and being set to 0.0 in labels with no predicted samples. Use `zero_division` parameter to control this behavior.\n",
      "  _warn_prf(average, modifier, f\"{metric.capitalize()} is\", result.shape[0])\n",
      "c:\\Users\\Sangram pc\\AppData\\Local\\Programs\\Python\\Python311\\Lib\\site-packages\\sklearn\\metrics\\_classification.py:1731: UndefinedMetricWarning: Precision is ill-defined and being set to 0.0 in labels with no predicted samples. Use `zero_division` parameter to control this behavior.\n",
      "  _warn_prf(average, modifier, f\"{metric.capitalize()} is\", result.shape[0])\n",
      "c:\\Users\\Sangram pc\\AppData\\Local\\Programs\\Python\\Python311\\Lib\\site-packages\\sklearn\\metrics\\_classification.py:1731: UndefinedMetricWarning: Precision is ill-defined and being set to 0.0 in labels with no predicted samples. Use `zero_division` parameter to control this behavior.\n",
      "  _warn_prf(average, modifier, f\"{metric.capitalize()} is\", result.shape[0])\n"
     ]
    }
   ],
   "source": [
    "test_prob = model.predict_proba(X_test)[:, 1]\n",
    "preds = np.where(test_prob >= 0.4, 1, 0)\n",
    "print(classification_report(y_test, preds))"
   ]
  },
  {
   "cell_type": "code",
   "execution_count": 134,
   "id": "4a15b8a0",
   "metadata": {},
   "outputs": [
    {
     "name": "stdout",
     "output_type": "stream",
     "text": [
      "[0 0 0 ... 0 0 0]\n",
      "[0 0 0 ... 0 0 0]\n",
      "[0 0 0 ... 0 0 0]\n",
      "[0 0 0 ... 0 0 0]\n",
      "[0 0 0 ... 0 0 0]\n",
      "[0 0 0 ... 0 0 0]\n",
      "[0 0 0 ... 0 0 0]\n",
      "[0 0 0 ... 0 0 0]\n",
      "[0 0 0 ... 0 0 0]\n"
     ]
    },
    {
     "data": {
      "image/png": "[encoded data removed]",
      "text/plain": [
       "<Figure size 640x480 with 1 Axes>"
      ]
     },
     "metadata": {},
     "output_type": "display_data"
    }
   ],
   "source": [
    "\n",
    "prob = model.predict_proba(X_test)[:, 1]\n",
    "\n",
    "f1_0, f1_1 = [], []\n",
    "thresholds = [0.9,0.8,0.7,0.6,0.5,0.4,0.3,0.2,0.1]\n",
    "\n",
    "for t in thresholds:\n",
    "    y_pred = (prob >= t).astype(int)\n",
    "    print(y_pred)\n",
    "    f1_0.append(f1_score(y_test, y_pred, pos_label=0))\n",
    "    f1_1.append(f1_score(y_test, y_pred, pos_label=1))\n",
    "\n",
    "plt.plot(thresholds, f1_0, label='F1 score for class 0')\n",
    "plt.plot(thresholds, f1_1, label='F1 score for class 1')\n",
    "plt.xlabel('Threshold')\n",
    "plt.ylabel('F1 Score')\n",
    "plt.title('F1 Score vs. Threshold')\n",
    "plt.legend()\n",
    "plt.grid()\n",
    "plt.show()\n"
   ]
  },
  {
   "cell_type": "code",
   "execution_count": 135,
   "id": "060be1ef",
   "metadata": {},
   "outputs": [],
   "source": [
    "from imblearn.combine import SMOTEENN"
   ]
  },
  {
   "cell_type": "code",
   "execution_count": 136,
   "id": "29dcf04e",
   "metadata": {},
   "outputs": [
    {
     "name": "stdout",
     "output_type": "stream",
     "text": [
      "Resampled dataset shape: Counter({np.int64(0): 15694, np.int64(1): 15615})\n"
     ]
    }
   ],
   "source": [
    "smenn = SMOTEENN()\n",
    "X_smen, y_smen = smenn.fit_resample(X_train, y_train)\n",
    "print(\"Resampled dataset shape:\", Counter(y_smen))"
   ]
  },
  {
   "cell_type": "code",
   "execution_count": 137,
   "id": "51f3ddc2",
   "metadata": {},
   "outputs": [
    {
     "data": {
      "application/vnd.microsoft.datawrangler.viewer.v0+json": {
       "columns": [
        {
         "name": "index",
         "rawType": "int64",
         "type": "integer"
        },
        {
         "name": "fit_time",
         "rawType": "float64",
         "type": "float"
        },
        {
         "name": "score_time",
         "rawType": "float64",
         "type": "float"
        },
        {
         "name": "test_accuracy",
         "rawType": "float64",
         "type": "float"
        },
        {
         "name": "train_accuracy",
         "rawType": "float64",
         "type": "float"
        },
        {
         "name": "test_precision",
         "rawType": "float64",
         "type": "float"
        },
        {
         "name": "train_precision",
         "rawType": "float64",
         "type": "float"
        },
        {
         "name": "test_recall",
         "rawType": "float64",
         "type": "float"
        },
        {
         "name": "train_recall",
         "rawType": "float64",
         "type": "float"
        },
        {
         "name": "test_f1",
         "rawType": "float64",
         "type": "float"
        },
        {
         "name": "train_f1",
         "rawType": "float64",
         "type": "float"
        }
       ],
       "ref": "91253e05-0694-4909-9770-5769088a4adf",
       "rows": [
        [
         "0",
         "0.06313109397888184",
         "0.010056495666503906",
         "1.0",
         "1.0",
         "1.0",
         "1.0",
         "1.0",
         "1.0",
         "1.0",
         "1.0"
        ],
        [
         "1",
         "0.033928632736206055",
         "0.00801229476928711",
         "1.0",
         "1.0",
         "1.0",
         "1.0",
         "1.0",
         "1.0",
         "1.0",
         "1.0"
        ],
        [
         "2",
         "0.04773688316345215",
         "0.01000833511352539",
         "1.0",
         "1.0",
         "1.0",
         "1.0",
         "1.0",
         "1.0",
         "1.0",
         "1.0"
        ],
        [
         "3",
         "0.03910398483276367",
         "0.009988784790039062",
         "1.0",
         "1.0",
         "1.0",
         "1.0",
         "1.0",
         "1.0",
         "1.0",
         "1.0"
        ],
        [
         "4",
         "0.05098462104797363",
         "0.013997554779052734",
         "1.0",
         "1.0",
         "1.0",
         "1.0",
         "1.0",
         "1.0",
         "1.0",
         "1.0"
        ]
       ],
       "shape": {
        "columns": 10,
        "rows": 5
       }
      },
      "text/html": [
       "<div>\n",
       "<style scoped>\n",
       "    .dataframe tbody tr th:only-of-type {\n",
       "        vertical-align: middle;\n",
       "    }\n",
       "\n",
       "    .dataframe tbody tr th {\n",
       "        vertical-align: top;\n",
       "    }\n",
       "\n",
       "    .dataframe thead th {\n",
       "        text-align: right;\n",
       "    }\n",
       "</style>\n",
       "<table border=\"1\" class=\"dataframe\">\n",
       "  <thead>\n",
       "    <tr style=\"text-align: right;\">\n",
       "      <th></th>\n",
       "      <th>fit_time</th>\n",
       "      <th>score_time</th>\n",
       "      <th>test_accuracy</th>\n",
       "      <th>train_accuracy</th>\n",
       "      <th>test_precision</th>\n",
       "      <th>train_precision</th>\n",
       "      <th>test_recall</th>\n",
       "      <th>train_recall</th>\n",
       "      <th>test_f1</th>\n",
       "      <th>train_f1</th>\n",
       "    </tr>\n",
       "  </thead>\n",
       "  <tbody>\n",
       "    <tr>\n",
       "      <th>0</th>\n",
       "      <td>0.063131</td>\n",
       "      <td>0.010056</td>\n",
       "      <td>1.0</td>\n",
       "      <td>1.0</td>\n",
       "      <td>1.0</td>\n",
       "      <td>1.0</td>\n",
       "      <td>1.0</td>\n",
       "      <td>1.0</td>\n",
       "      <td>1.0</td>\n",
       "      <td>1.0</td>\n",
       "    </tr>\n",
       "    <tr>\n",
       "      <th>1</th>\n",
       "      <td>0.033929</td>\n",
       "      <td>0.008012</td>\n",
       "      <td>1.0</td>\n",
       "      <td>1.0</td>\n",
       "      <td>1.0</td>\n",
       "      <td>1.0</td>\n",
       "      <td>1.0</td>\n",
       "      <td>1.0</td>\n",
       "      <td>1.0</td>\n",
       "      <td>1.0</td>\n",
       "    </tr>\n",
       "    <tr>\n",
       "      <th>2</th>\n",
       "      <td>0.047737</td>\n",
       "      <td>0.010008</td>\n",
       "      <td>1.0</td>\n",
       "      <td>1.0</td>\n",
       "      <td>1.0</td>\n",
       "      <td>1.0</td>\n",
       "      <td>1.0</td>\n",
       "      <td>1.0</td>\n",
       "      <td>1.0</td>\n",
       "      <td>1.0</td>\n",
       "    </tr>\n",
       "    <tr>\n",
       "      <th>3</th>\n",
       "      <td>0.039104</td>\n",
       "      <td>0.009989</td>\n",
       "      <td>1.0</td>\n",
       "      <td>1.0</td>\n",
       "      <td>1.0</td>\n",
       "      <td>1.0</td>\n",
       "      <td>1.0</td>\n",
       "      <td>1.0</td>\n",
       "      <td>1.0</td>\n",
       "      <td>1.0</td>\n",
       "    </tr>\n",
       "    <tr>\n",
       "      <th>4</th>\n",
       "      <td>0.050985</td>\n",
       "      <td>0.013998</td>\n",
       "      <td>1.0</td>\n",
       "      <td>1.0</td>\n",
       "      <td>1.0</td>\n",
       "      <td>1.0</td>\n",
       "      <td>1.0</td>\n",
       "      <td>1.0</td>\n",
       "      <td>1.0</td>\n",
       "      <td>1.0</td>\n",
       "    </tr>\n",
       "  </tbody>\n",
       "</table>\n",
       "</div>"
      ],
      "text/plain": [
       "   fit_time  score_time  test_accuracy  train_accuracy  test_precision  \\\n",
       "0  0.063131    0.010056            1.0             1.0             1.0   \n",
       "1  0.033929    0.008012            1.0             1.0             1.0   \n",
       "2  0.047737    0.010008            1.0             1.0             1.0   \n",
       "3  0.039104    0.009989            1.0             1.0             1.0   \n",
       "4  0.050985    0.013998            1.0             1.0             1.0   \n",
       "\n",
       "   train_precision  test_recall  train_recall  test_f1  train_f1  \n",
       "0              1.0          1.0           1.0      1.0       1.0  \n",
       "1              1.0          1.0           1.0      1.0       1.0  \n",
       "2              1.0          1.0           1.0      1.0       1.0  \n",
       "3              1.0          1.0           1.0      1.0       1.0  \n",
       "4              1.0          1.0           1.0      1.0       1.0  "
      ]
     },
     "execution_count": 137,
     "metadata": {},
     "output_type": "execute_result"
    }
   ],
   "source": [
    "scores_smenn = cross_validate(model, X_smen, y_smen, cv=5, scoring=mets, return_train_score=True)\n",
    "pd.DataFrame(scores_smenn)"
   ]
  },
  {
   "cell_type": "code",
   "execution_count": 138,
   "id": "d2cad7c6",
   "metadata": {},
   "outputs": [
    {
     "name": "stdout",
     "output_type": "stream",
     "text": [
      "              precision    recall  f1-score   support\n",
      "\n",
      "           0       0.98      1.00      0.99      3924\n",
      "           1       0.00      0.00      0.00        76\n",
      "\n",
      "    accuracy                           0.98      4000\n",
      "   macro avg       0.49      0.50      0.50      4000\n",
      "weighted avg       0.96      0.98      0.97      4000\n",
      "\n"
     ]
    },
    {
     "name": "stderr",
     "output_type": "stream",
     "text": [
      "c:\\Users\\Sangram pc\\AppData\\Local\\Programs\\Python\\Python311\\Lib\\site-packages\\sklearn\\metrics\\_classification.py:1731: UndefinedMetricWarning: Precision is ill-defined and being set to 0.0 in labels with no predicted samples. Use `zero_division` parameter to control this behavior.\n",
      "  _warn_prf(average, modifier, f\"{metric.capitalize()} is\", result.shape[0])\n",
      "c:\\Users\\Sangram pc\\AppData\\Local\\Programs\\Python\\Python311\\Lib\\site-packages\\sklearn\\metrics\\_classification.py:1731: UndefinedMetricWarning: Precision is ill-defined and being set to 0.0 in labels with no predicted samples. Use `zero_division` parameter to control this behavior.\n",
      "  _warn_prf(average, modifier, f\"{metric.capitalize()} is\", result.shape[0])\n",
      "c:\\Users\\Sangram pc\\AppData\\Local\\Programs\\Python\\Python311\\Lib\\site-packages\\sklearn\\metrics\\_classification.py:1731: UndefinedMetricWarning: Precision is ill-defined and being set to 0.0 in labels with no predicted samples. Use `zero_division` parameter to control this behavior.\n",
      "  _warn_prf(average, modifier, f\"{metric.capitalize()} is\", result.shape[0])\n"
     ]
    }
   ],
   "source": [
    "model.fit(X_smen, y_smen)\n",
    "print(classification_report(y_test, model.predict(X_test)))"
   ]
  },
  {
   "cell_type": "code",
   "execution_count": 139,
   "id": "d5aae643",
   "metadata": {},
   "outputs": [
    {
     "name": "stdout",
     "output_type": "stream",
     "text": [
      "Resampled dataset shape: Counter({np.int64(0): 15694, np.int64(1): 15694})\n"
     ]
    }
   ],
   "source": [
    "from imblearn.combine import SMOTETomek\n",
    "\n",
    "smtom = SMOTETomek()\n",
    "X_smtom, y_smtom = smtom.fit_resample(X_train, y_train)\n",
    "print(\"Resampled dataset shape:\", Counter(y_smtom))"
   ]
  },
  {
   "cell_type": "code",
   "execution_count": 140,
   "id": "609a3c20",
   "metadata": {},
   "outputs": [
    {
     "data": {
      "application/vnd.microsoft.datawrangler.viewer.v0+json": {
       "columns": [
        {
         "name": "index",
         "rawType": "int64",
         "type": "integer"
        },
        {
         "name": "fit_time",
         "rawType": "float64",
         "type": "float"
        },
        {
         "name": "score_time",
         "rawType": "float64",
         "type": "float"
        },
        {
         "name": "test_accuracy",
         "rawType": "float64",
         "type": "float"
        },
        {
         "name": "train_accuracy",
         "rawType": "float64",
         "type": "float"
        },
        {
         "name": "test_precision",
         "rawType": "float64",
         "type": "float"
        },
        {
         "name": "train_precision",
         "rawType": "float64",
         "type": "float"
        },
        {
         "name": "test_recall",
         "rawType": "float64",
         "type": "float"
        },
        {
         "name": "train_recall",
         "rawType": "float64",
         "type": "float"
        },
        {
         "name": "test_f1",
         "rawType": "float64",
         "type": "float"
        },
        {
         "name": "train_f1",
         "rawType": "float64",
         "type": "float"
        }
       ],
       "ref": "0955aa58-f967-48f8-8dfa-e785ac77c9e3",
       "rows": [
        [
         "0",
         "0.045395612716674805",
         "0.015018701553344727",
         "1.0",
         "1.0",
         "1.0",
         "1.0",
         "1.0",
         "1.0",
         "1.0",
         "1.0"
        ],
        [
         "1",
         "0.029581308364868164",
         "0.007983684539794922",
         "1.0",
         "1.0",
         "1.0",
         "1.0",
         "1.0",
         "1.0",
         "1.0",
         "1.0"
        ],
        [
         "2",
         "0.04001951217651367",
         "0.00998830795288086",
         "1.0",
         "1.0",
         "1.0",
         "1.0",
         "1.0",
         "1.0",
         "1.0",
         "1.0"
        ],
        [
         "3",
         "0.03193974494934082",
         "0.008408308029174805",
         "1.0",
         "1.0",
         "1.0",
         "1.0",
         "1.0",
         "1.0",
         "1.0",
         "1.0"
        ],
        [
         "4",
         "0.035434722900390625",
         "0.007996797561645508",
         "1.0",
         "1.0",
         "1.0",
         "1.0",
         "1.0",
         "1.0",
         "1.0",
         "1.0"
        ]
       ],
       "shape": {
        "columns": 10,
        "rows": 5
       }
      },
      "text/html": [
       "<div>\n",
       "<style scoped>\n",
       "    .dataframe tbody tr th:only-of-type {\n",
       "        vertical-align: middle;\n",
       "    }\n",
       "\n",
       "    .dataframe tbody tr th {\n",
       "        vertical-align: top;\n",
       "    }\n",
       "\n",
       "    .dataframe thead th {\n",
       "        text-align: right;\n",
       "    }\n",
       "</style>\n",
       "<table border=\"1\" class=\"dataframe\">\n",
       "  <thead>\n",
       "    <tr style=\"text-align: right;\">\n",
       "      <th></th>\n",
       "      <th>fit_time</th>\n",
       "      <th>score_time</th>\n",
       "      <th>test_accuracy</th>\n",
       "      <th>train_accuracy</th>\n",
       "      <th>test_precision</th>\n",
       "      <th>train_precision</th>\n",
       "      <th>test_recall</th>\n",
       "      <th>train_recall</th>\n",
       "      <th>test_f1</th>\n",
       "      <th>train_f1</th>\n",
       "    </tr>\n",
       "  </thead>\n",
       "  <tbody>\n",
       "    <tr>\n",
       "      <th>0</th>\n",
       "      <td>0.045396</td>\n",
       "      <td>0.015019</td>\n",
       "      <td>1.0</td>\n",
       "      <td>1.0</td>\n",
       "      <td>1.0</td>\n",
       "      <td>1.0</td>\n",
       "      <td>1.0</td>\n",
       "      <td>1.0</td>\n",
       "      <td>1.0</td>\n",
       "      <td>1.0</td>\n",
       "    </tr>\n",
       "    <tr>\n",
       "      <th>1</th>\n",
       "      <td>0.029581</td>\n",
       "      <td>0.007984</td>\n",
       "      <td>1.0</td>\n",
       "      <td>1.0</td>\n",
       "      <td>1.0</td>\n",
       "      <td>1.0</td>\n",
       "      <td>1.0</td>\n",
       "      <td>1.0</td>\n",
       "      <td>1.0</td>\n",
       "      <td>1.0</td>\n",
       "    </tr>\n",
       "    <tr>\n",
       "      <th>2</th>\n",
       "      <td>0.040020</td>\n",
       "      <td>0.009988</td>\n",
       "      <td>1.0</td>\n",
       "      <td>1.0</td>\n",
       "      <td>1.0</td>\n",
       "      <td>1.0</td>\n",
       "      <td>1.0</td>\n",
       "      <td>1.0</td>\n",
       "      <td>1.0</td>\n",
       "      <td>1.0</td>\n",
       "    </tr>\n",
       "    <tr>\n",
       "      <th>3</th>\n",
       "      <td>0.031940</td>\n",
       "      <td>0.008408</td>\n",
       "      <td>1.0</td>\n",
       "      <td>1.0</td>\n",
       "      <td>1.0</td>\n",
       "      <td>1.0</td>\n",
       "      <td>1.0</td>\n",
       "      <td>1.0</td>\n",
       "      <td>1.0</td>\n",
       "      <td>1.0</td>\n",
       "    </tr>\n",
       "    <tr>\n",
       "      <th>4</th>\n",
       "      <td>0.035435</td>\n",
       "      <td>0.007997</td>\n",
       "      <td>1.0</td>\n",
       "      <td>1.0</td>\n",
       "      <td>1.0</td>\n",
       "      <td>1.0</td>\n",
       "      <td>1.0</td>\n",
       "      <td>1.0</td>\n",
       "      <td>1.0</td>\n",
       "      <td>1.0</td>\n",
       "    </tr>\n",
       "  </tbody>\n",
       "</table>\n",
       "</div>"
      ],
      "text/plain": [
       "   fit_time  score_time  test_accuracy  train_accuracy  test_precision  \\\n",
       "0  0.045396    0.015019            1.0             1.0             1.0   \n",
       "1  0.029581    0.007984            1.0             1.0             1.0   \n",
       "2  0.040020    0.009988            1.0             1.0             1.0   \n",
       "3  0.031940    0.008408            1.0             1.0             1.0   \n",
       "4  0.035435    0.007997            1.0             1.0             1.0   \n",
       "\n",
       "   train_precision  test_recall  train_recall  test_f1  train_f1  \n",
       "0              1.0          1.0           1.0      1.0       1.0  \n",
       "1              1.0          1.0           1.0      1.0       1.0  \n",
       "2              1.0          1.0           1.0      1.0       1.0  \n",
       "3              1.0          1.0           1.0      1.0       1.0  \n",
       "4              1.0          1.0           1.0      1.0       1.0  "
      ]
     },
     "execution_count": 140,
     "metadata": {},
     "output_type": "execute_result"
    }
   ],
   "source": [
    "scores_smtom = cross_validate(model, X_smtom, y_smtom, cv=5, scoring=mets, return_train_score=True)\n",
    "pd.DataFrame(scores_smtom)"
   ]
  },
  {
   "cell_type": "code",
   "execution_count": 141,
   "id": "725377f5",
   "metadata": {},
   "outputs": [
    {
     "data": {
      "text/html": [
       "<style>#sk-container-id-1 {\n",
       "  /* Definition of color scheme common for light and dark mode */\n",
       "  --sklearn-color-text: #000;\n",
       "  --sklearn-color-text-muted: #666;\n",
       "  --sklearn-color-line: gray;\n",
       "  /* Definition of color scheme for unfitted estimators */\n",
       "  --sklearn-color-unfitted-level-0: #fff5e6;\n",
       "  --sklearn-color-unfitted-level-1: #f6e4d2;\n",
       "  --sklearn-color-unfitted-level-2: #ffe0b3;\n",
       "  --sklearn-color-unfitted-level-3: chocolate;\n",
       "  /* Definition of color scheme for fitted estimators */\n",
       "  --sklearn-color-fitted-level-0: #f0f8ff;\n",
       "  --sklearn-color-fitted-level-1: #d4ebff;\n",
       "  --sklearn-color-fitted-level-2: #b3dbfd;\n",
       "  --sklearn-color-fitted-level-3: cornflowerblue;\n",
       "\n",
       "  /* Specific color for light theme */\n",
       "  --sklearn-color-text-on-default-background: var(--sg-text-color, var(--theme-code-foreground, var(--jp-content-font-color1, black)));\n",
       "  --sklearn-color-background: var(--sg-background-color, var(--theme-background, var(--jp-layout-color0, white)));\n",
       "  --sklearn-color-border-box: var(--sg-text-color, var(--theme-code-foreground, var(--jp-content-font-color1, black)));\n",
       "  --sklearn-color-icon: #696969;\n",
       "\n",
       "  @media (prefers-color-scheme: dark) {\n",
       "    /* Redefinition of color scheme for dark theme */\n",
       "    --sklearn-color-text-on-default-background: var(--sg-text-color, var(--theme-code-foreground, var(--jp-content-font-color1, white)));\n",
       "    --sklearn-color-background: var(--sg-background-color, var(--theme-background, var(--jp-layout-color0, #111)));\n",
       "    --sklearn-color-border-box: var(--sg-text-color, var(--theme-code-foreground, var(--jp-content-font-color1, white)));\n",
       "    --sklearn-color-icon: #878787;\n",
       "  }\n",
       "}\n",
       "\n",
       "#sk-container-id-1 {\n",
       "  color: var(--sklearn-color-text);\n",
       "}\n",
       "\n",
       "#sk-container-id-1 pre {\n",
       "  padding: 0;\n",
       "}\n",
       "\n",
       "#sk-container-id-1 input.sk-hidden--visually {\n",
       "  border: 0;\n",
       "  clip: rect(1px 1px 1px 1px);\n",
       "  clip: rect(1px, 1px, 1px, 1px);\n",
       "  height: 1px;\n",
       "  margin: -1px;\n",
       "  overflow: hidden;\n",
       "  padding: 0;\n",
       "  position: absolute;\n",
       "  width: 1px;\n",
       "}\n",
       "\n",
       "#sk-container-id-1 div.sk-dashed-wrapped {\n",
       "  border: 1px dashed var(--sklearn-color-line);\n",
       "  margin: 0 0.4em 0.5em 0.4em;\n",
       "  box-sizing: border-box;\n",
       "  padding-bottom: 0.4em;\n",
       "  background-color: var(--sklearn-color-background);\n",
       "}\n",
       "\n",
       "#sk-container-id-1 div.sk-container {\n",
       "  /* jupyter's `normalize.less` sets `[hidden] { display: none; }`\n",
       "     but bootstrap.min.css set `[hidden] { display: none !important; }`\n",
       "     so we also need the `!important` here to be able to override the\n",
       "     default hidden behavior on the sphinx rendered scikit-learn.org.\n",
       "     See: https://github.com/scikit-learn/scikit-learn/issues/21755 */\n",
       "  display: inline-block !important;\n",
       "  position: relative;\n",
       "}\n",
       "\n",
       "#sk-container-id-1 div.sk-text-repr-fallback {\n",
       "  display: none;\n",
       "}\n",
       "\n",
       "div.sk-parallel-item,\n",
       "div.sk-serial,\n",
       "div.sk-item {\n",
       "  /* draw centered vertical line to link estimators */\n",
       "  background-image: linear-gradient(var(--sklearn-color-text-on-default-background), var(--sklearn-color-text-on-default-background));\n",
       "  background-size: 2px 100%;\n",
       "  background-repeat: no-repeat;\n",
       "  background-position: center center;\n",
       "}\n",
       "\n",
       "/* Parallel-specific style estimator block */\n",
       "\n",
       "#sk-container-id-1 div.sk-parallel-item::after {\n",
       "  content: \"\";\n",
       "  width: 100%;\n",
       "  border-bottom: 2px solid var(--sklearn-color-text-on-default-background);\n",
       "  flex-grow: 1;\n",
       "}\n",
       "\n",
       "#sk-container-id-1 div.sk-parallel {\n",
       "  display: flex;\n",
       "  align-items: stretch;\n",
       "  justify-content: center;\n",
       "  background-color: var(--sklearn-color-background);\n",
       "  position: relative;\n",
       "}\n",
       "\n",
       "#sk-container-id-1 div.sk-parallel-item {\n",
       "  display: flex;\n",
       "  flex-direction: column;\n",
       "}\n",
       "\n",
       "#sk-container-id-1 div.sk-parallel-item:first-child::after {\n",
       "  align-self: flex-end;\n",
       "  width: 50%;\n",
       "}\n",
       "\n",
       "#sk-container-id-1 div.sk-parallel-item:last-child::after {\n",
       "  align-self: flex-start;\n",
       "  width: 50%;\n",
       "}\n",
       "\n",
       "#sk-container-id-1 div.sk-parallel-item:only-child::after {\n",
       "  width: 0;\n",
       "}\n",
       "\n",
       "/* Serial-specific style estimator block */\n",
       "\n",
       "#sk-container-id-1 div.sk-serial {\n",
       "  display: flex;\n",
       "  flex-direction: column;\n",
       "  align-items: center;\n",
       "  background-color: var(--sklearn-color-background);\n",
       "  padding-right: 1em;\n",
       "  padding-left: 1em;\n",
       "}\n",
       "\n",
       "\n",
       "/* Toggleable style: style used for estimator/Pipeline/ColumnTransformer box that is\n",
       "clickable and can be expanded/collapsed.\n",
       "- Pipeline and ColumnTransformer use this feature and define the default style\n",
       "- Estimators will overwrite some part of the style using the `sk-estimator` class\n",
       "*/\n",
       "\n",
       "/* Pipeline and ColumnTransformer style (default) */\n",
       "\n",
       "#sk-container-id-1 div.sk-toggleable {\n",
       "  /* Default theme specific background. It is overwritten whether we have a\n",
       "  specific estimator or a Pipeline/ColumnTransformer */\n",
       "  background-color: var(--sklearn-color-background);\n",
       "}\n",
       "\n",
       "/* Toggleable label */\n",
       "#sk-container-id-1 label.sk-toggleable__label {\n",
       "  cursor: pointer;\n",
       "  display: flex;\n",
       "  width: 100%;\n",
       "  margin-bottom: 0;\n",
       "  padding: 0.5em;\n",
       "  box-sizing: border-box;\n",
       "  text-align: center;\n",
       "  align-items: start;\n",
       "  justify-content: space-between;\n",
       "  gap: 0.5em;\n",
       "}\n",
       "\n",
       "#sk-container-id-1 label.sk-toggleable__label .caption {\n",
       "  font-size: 0.6rem;\n",
       "  font-weight: lighter;\n",
       "  color: var(--sklearn-color-text-muted);\n",
       "}\n",
       "\n",
       "#sk-container-id-1 label.sk-toggleable__label-arrow:before {\n",
       "  /* Arrow on the left of the label */\n",
       "  content: \"▸\";\n",
       "  float: left;\n",
       "  margin-right: 0.25em;\n",
       "  color: var(--sklearn-color-icon);\n",
       "}\n",
       "\n",
       "#sk-container-id-1 label.sk-toggleable__label-arrow:hover:before {\n",
       "  color: var(--sklearn-color-text);\n",
       "}\n",
       "\n",
       "/* Toggleable content - dropdown */\n",
       "\n",
       "#sk-container-id-1 div.sk-toggleable__content {\n",
       "  display: none;\n",
       "  text-align: left;\n",
       "  /* unfitted */\n",
       "  background-color: var(--sklearn-color-unfitted-level-0);\n",
       "}\n",
       "\n",
       "#sk-container-id-1 div.sk-toggleable__content.fitted {\n",
       "  /* fitted */\n",
       "  background-color: var(--sklearn-color-fitted-level-0);\n",
       "}\n",
       "\n",
       "#sk-container-id-1 div.sk-toggleable__content pre {\n",
       "  margin: 0.2em;\n",
       "  border-radius: 0.25em;\n",
       "  color: var(--sklearn-color-text);\n",
       "  /* unfitted */\n",
       "  background-color: var(--sklearn-color-unfitted-level-0);\n",
       "}\n",
       "\n",
       "#sk-container-id-1 div.sk-toggleable__content.fitted pre {\n",
       "  /* unfitted */\n",
       "  background-color: var(--sklearn-color-fitted-level-0);\n",
       "}\n",
       "\n",
       "#sk-container-id-1 input.sk-toggleable__control:checked~div.sk-toggleable__content {\n",
       "  /* Expand drop-down */\n",
       "  display: block;\n",
       "  width: 100%;\n",
       "  overflow: visible;\n",
       "}\n",
       "\n",
       "#sk-container-id-1 input.sk-toggleable__control:checked~label.sk-toggleable__label-arrow:before {\n",
       "  content: \"▾\";\n",
       "}\n",
       "\n",
       "/* Pipeline/ColumnTransformer-specific style */\n",
       "\n",
       "#sk-container-id-1 div.sk-label input.sk-toggleable__control:checked~label.sk-toggleable__label {\n",
       "  color: var(--sklearn-color-text);\n",
       "  background-color: var(--sklearn-color-unfitted-level-2);\n",
       "}\n",
       "\n",
       "#sk-container-id-1 div.sk-label.fitted input.sk-toggleable__control:checked~label.sk-toggleable__label {\n",
       "  background-color: var(--sklearn-color-fitted-level-2);\n",
       "}\n",
       "\n",
       "/* Estimator-specific style */\n",
       "\n",
       "/* Colorize estimator box */\n",
       "#sk-container-id-1 div.sk-estimator input.sk-toggleable__control:checked~label.sk-toggleable__label {\n",
       "  /* unfitted */\n",
       "  background-color: var(--sklearn-color-unfitted-level-2);\n",
       "}\n",
       "\n",
       "#sk-container-id-1 div.sk-estimator.fitted input.sk-toggleable__control:checked~label.sk-toggleable__label {\n",
       "  /* fitted */\n",
       "  background-color: var(--sklearn-color-fitted-level-2);\n",
       "}\n",
       "\n",
       "#sk-container-id-1 div.sk-label label.sk-toggleable__label,\n",
       "#sk-container-id-1 div.sk-label label {\n",
       "  /* The background is the default theme color */\n",
       "  color: var(--sklearn-color-text-on-default-background);\n",
       "}\n",
       "\n",
       "/* On hover, darken the color of the background */\n",
       "#sk-container-id-1 div.sk-label:hover label.sk-toggleable__label {\n",
       "  color: var(--sklearn-color-text);\n",
       "  background-color: var(--sklearn-color-unfitted-level-2);\n",
       "}\n",
       "\n",
       "/* Label box, darken color on hover, fitted */\n",
       "#sk-container-id-1 div.sk-label.fitted:hover label.sk-toggleable__label.fitted {\n",
       "  color: var(--sklearn-color-text);\n",
       "  background-color: var(--sklearn-color-fitted-level-2);\n",
       "}\n",
       "\n",
       "/* Estimator label */\n",
       "\n",
       "#sk-container-id-1 div.sk-label label {\n",
       "  font-family: monospace;\n",
       "  font-weight: bold;\n",
       "  display: inline-block;\n",
       "  line-height: 1.2em;\n",
       "}\n",
       "\n",
       "#sk-container-id-1 div.sk-label-container {\n",
       "  text-align: center;\n",
       "}\n",
       "\n",
       "/* Estimator-specific */\n",
       "#sk-container-id-1 div.sk-estimator {\n",
       "  font-family: monospace;\n",
       "  border: 1px dotted var(--sklearn-color-border-box);\n",
       "  border-radius: 0.25em;\n",
       "  box-sizing: border-box;\n",
       "  margin-bottom: 0.5em;\n",
       "  /* unfitted */\n",
       "  background-color: var(--sklearn-color-unfitted-level-0);\n",
       "}\n",
       "\n",
       "#sk-container-id-1 div.sk-estimator.fitted {\n",
       "  /* fitted */\n",
       "  background-color: var(--sklearn-color-fitted-level-0);\n",
       "}\n",
       "\n",
       "/* on hover */\n",
       "#sk-container-id-1 div.sk-estimator:hover {\n",
       "  /* unfitted */\n",
       "  background-color: var(--sklearn-color-unfitted-level-2);\n",
       "}\n",
       "\n",
       "#sk-container-id-1 div.sk-estimator.fitted:hover {\n",
       "  /* fitted */\n",
       "  background-color: var(--sklearn-color-fitted-level-2);\n",
       "}\n",
       "\n",
       "/* Specification for estimator info (e.g. \"i\" and \"?\") */\n",
       "\n",
       "/* Common style for \"i\" and \"?\" */\n",
       "\n",
       ".sk-estimator-doc-link,\n",
       "a:link.sk-estimator-doc-link,\n",
       "a:visited.sk-estimator-doc-link {\n",
       "  float: right;\n",
       "  font-size: smaller;\n",
       "  line-height: 1em;\n",
       "  font-family: monospace;\n",
       "  background-color: var(--sklearn-color-background);\n",
       "  border-radius: 1em;\n",
       "  height: 1em;\n",
       "  width: 1em;\n",
       "  text-decoration: none !important;\n",
       "  margin-left: 0.5em;\n",
       "  text-align: center;\n",
       "  /* unfitted */\n",
       "  border: var(--sklearn-color-unfitted-level-1) 1pt solid;\n",
       "  color: var(--sklearn-color-unfitted-level-1);\n",
       "}\n",
       "\n",
       ".sk-estimator-doc-link.fitted,\n",
       "a:link.sk-estimator-doc-link.fitted,\n",
       "a:visited.sk-estimator-doc-link.fitted {\n",
       "  /* fitted */\n",
       "  border: var(--sklearn-color-fitted-level-1) 1pt solid;\n",
       "  color: var(--sklearn-color-fitted-level-1);\n",
       "}\n",
       "\n",
       "/* On hover */\n",
       "div.sk-estimator:hover .sk-estimator-doc-link:hover,\n",
       ".sk-estimator-doc-link:hover,\n",
       "div.sk-label-container:hover .sk-estimator-doc-link:hover,\n",
       ".sk-estimator-doc-link:hover {\n",
       "  /* unfitted */\n",
       "  background-color: var(--sklearn-color-unfitted-level-3);\n",
       "  color: var(--sklearn-color-background);\n",
       "  text-decoration: none;\n",
       "}\n",
       "\n",
       "div.sk-estimator.fitted:hover .sk-estimator-doc-link.fitted:hover,\n",
       ".sk-estimator-doc-link.fitted:hover,\n",
       "div.sk-label-container:hover .sk-estimator-doc-link.fitted:hover,\n",
       ".sk-estimator-doc-link.fitted:hover {\n",
       "  /* fitted */\n",
       "  background-color: var(--sklearn-color-fitted-level-3);\n",
       "  color: var(--sklearn-color-background);\n",
       "  text-decoration: none;\n",
       "}\n",
       "\n",
       "/* Span, style for the box shown on hovering the info icon */\n",
       ".sk-estimator-doc-link span {\n",
       "  display: none;\n",
       "  z-index: 9999;\n",
       "  position: relative;\n",
       "  font-weight: normal;\n",
       "  right: .2ex;\n",
       "  padding: .5ex;\n",
       "  margin: .5ex;\n",
       "  width: min-content;\n",
       "  min-width: 20ex;\n",
       "  max-width: 50ex;\n",
       "  color: var(--sklearn-color-text);\n",
       "  box-shadow: 2pt 2pt 4pt #999;\n",
       "  /* unfitted */\n",
       "  background: var(--sklearn-color-unfitted-level-0);\n",
       "  border: .5pt solid var(--sklearn-color-unfitted-level-3);\n",
       "}\n",
       "\n",
       ".sk-estimator-doc-link.fitted span {\n",
       "  /* fitted */\n",
       "  background: var(--sklearn-color-fitted-level-0);\n",
       "  border: var(--sklearn-color-fitted-level-3);\n",
       "}\n",
       "\n",
       ".sk-estimator-doc-link:hover span {\n",
       "  display: block;\n",
       "}\n",
       "\n",
       "/* \"?\"-specific style due to the `<a>` HTML tag */\n",
       "\n",
       "#sk-container-id-1 a.estimator_doc_link {\n",
       "  float: right;\n",
       "  font-size: 1rem;\n",
       "  line-height: 1em;\n",
       "  font-family: monospace;\n",
       "  background-color: var(--sklearn-color-background);\n",
       "  border-radius: 1rem;\n",
       "  height: 1rem;\n",
       "  width: 1rem;\n",
       "  text-decoration: none;\n",
       "  /* unfitted */\n",
       "  color: var(--sklearn-color-unfitted-level-1);\n",
       "  border: var(--sklearn-color-unfitted-level-1) 1pt solid;\n",
       "}\n",
       "\n",
       "#sk-container-id-1 a.estimator_doc_link.fitted {\n",
       "  /* fitted */\n",
       "  border: var(--sklearn-color-fitted-level-1) 1pt solid;\n",
       "  color: var(--sklearn-color-fitted-level-1);\n",
       "}\n",
       "\n",
       "/* On hover */\n",
       "#sk-container-id-1 a.estimator_doc_link:hover {\n",
       "  /* unfitted */\n",
       "  background-color: var(--sklearn-color-unfitted-level-3);\n",
       "  color: var(--sklearn-color-background);\n",
       "  text-decoration: none;\n",
       "}\n",
       "\n",
       "#sk-container-id-1 a.estimator_doc_link.fitted:hover {\n",
       "  /* fitted */\n",
       "  background-color: var(--sklearn-color-fitted-level-3);\n",
       "}\n",
       "\n",
       ".estimator-table summary {\n",
       "    padding: .5rem;\n",
       "    font-family: monospace;\n",
       "    cursor: pointer;\n",
       "}\n",
       "\n",
       ".estimator-table details[open] {\n",
       "    padding-left: 0.1rem;\n",
       "    padding-right: 0.1rem;\n",
       "    padding-bottom: 0.3rem;\n",
       "}\n",
       "\n",
       ".estimator-table .parameters-table {\n",
       "    margin-left: auto !important;\n",
       "    margin-right: auto !important;\n",
       "}\n",
       "\n",
       ".estimator-table .parameters-table tr:nth-child(odd) {\n",
       "    background-color: #fff;\n",
       "}\n",
       "\n",
       ".estimator-table .parameters-table tr:nth-child(even) {\n",
       "    background-color: #f6f6f6;\n",
       "}\n",
       "\n",
       ".estimator-table .parameters-table tr:hover {\n",
       "    background-color: #e0e0e0;\n",
       "}\n",
       "\n",
       ".estimator-table table td {\n",
       "    border: 1px solid rgba(106, 105, 104, 0.232);\n",
       "}\n",
       "\n",
       ".user-set td {\n",
       "    color:rgb(255, 94, 0);\n",
       "    text-align: left;\n",
       "}\n",
       "\n",
       ".user-set td.value pre {\n",
       "    color:rgb(255, 94, 0) !important;\n",
       "    background-color: transparent !important;\n",
       "}\n",
       "\n",
       ".default td {\n",
       "    color: black;\n",
       "    text-align: left;\n",
       "}\n",
       "\n",
       ".user-set td i,\n",
       ".default td i {\n",
       "    color: black;\n",
       "}\n",
       "\n",
       ".copy-paste-icon {\n",
       "    background-image: url(data:image/svg+xml;base64,PHN2ZyB4bWxucz0iaHR0cDovL3d3dy53My5vcmcvMjAwMC9zdmciIHZpZXdCb3g9IjAgMCA0NDggNTEyIj48IS0tIUZvbnQgQXdlc29tZSBGcmVlIDYuNy4yIGJ5IEBmb250YXdlc29tZSAtIGh0dHBzOi8vZm9udGF3ZXNvbWUuY29tIExpY2Vuc2UgLSBodHRwczovL2ZvbnRhd2Vzb21lLmNvbS9saWNlbnNlL2ZyZWUgQ29weXJpZ2h0IDIwMjUgRm9udGljb25zLCBJbmMuLS0+PHBhdGggZD0iTTIwOCAwTDMzMi4xIDBjMTIuNyAwIDI0LjkgNS4xIDMzLjkgMTQuMWw2Ny45IDY3LjljOSA5IDE0LjEgMjEuMiAxNC4xIDMzLjlMNDQ4IDMzNmMwIDI2LjUtMjEuNSA0OC00OCA0OGwtMTkyIDBjLTI2LjUgMC00OC0yMS41LTQ4LTQ4bDAtMjg4YzAtMjYuNSAyMS41LTQ4IDQ4LTQ4ek00OCAxMjhsODAgMCAwIDY0LTY0IDAgMCAyNTYgMTkyIDAgMC0zMiA2NCAwIDAgNDhjMCAyNi41LTIxLjUgNDgtNDggNDhMNDggNTEyYy0yNi41IDAtNDgtMjEuNS00OC00OEwwIDE3NmMwLTI2LjUgMjEuNS00OCA0OC00OHoiLz48L3N2Zz4=);\n",
       "    background-repeat: no-repeat;\n",
       "    background-size: 14px 14px;\n",
       "    background-position: 0;\n",
       "    display: inline-block;\n",
       "    width: 14px;\n",
       "    height: 14px;\n",
       "    cursor: pointer;\n",
       "}\n",
       "</style><body><div id=\"sk-container-id-1\" class=\"sk-top-container\"><div class=\"sk-text-repr-fallback\"><pre>LogisticRegression()</pre><b>In a Jupyter environment, please rerun this cell to show the HTML representation or trust the notebook. <br />On GitHub, the HTML representation is unable to render, please try loading this page with nbviewer.org.</b></div><div class=\"sk-container\" hidden><div class=\"sk-item\"><div class=\"sk-estimator fitted sk-toggleable\"><input class=\"sk-toggleable__control sk-hidden--visually\" id=\"sk-estimator-id-1\" type=\"checkbox\" checked><label for=\"sk-estimator-id-1\" class=\"sk-toggleable__label fitted sk-toggleable__label-arrow\"><div><div>LogisticRegression</div></div><div><a class=\"sk-estimator-doc-link fitted\" rel=\"noreferrer\" target=\"_blank\" href=\"https://scikit-learn.org/1.7/modules/generated/sklearn.linear_model.LogisticRegression.html\">?<span>Documentation for LogisticRegression</span></a><span class=\"sk-estimator-doc-link fitted\">i<span>Fitted</span></span></div></label><div class=\"sk-toggleable__content fitted\" data-param-prefix=\"\">\n",
       "        <div class=\"estimator-table\">\n",
       "            <details>\n",
       "                <summary>Parameters</summary>\n",
       "                <table class=\"parameters-table\">\n",
       "                  <tbody>\n",
       "                    \n",
       "        <tr class=\"default\">\n",
       "            <td><i class=\"copy-paste-icon\"\n",
       "                 onclick=\"copyToClipboard('penalty',\n",
       "                          this.parentElement.nextElementSibling)\"\n",
       "            ></i></td>\n",
       "            <td class=\"param\">penalty&nbsp;</td>\n",
       "            <td class=\"value\">&#x27;l2&#x27;</td>\n",
       "        </tr>\n",
       "    \n",
       "\n",
       "        <tr class=\"default\">\n",
       "            <td><i class=\"copy-paste-icon\"\n",
       "                 onclick=\"copyToClipboard('dual',\n",
       "                          this.parentElement.nextElementSibling)\"\n",
       "            ></i></td>\n",
       "            <td class=\"param\">dual&nbsp;</td>\n",
       "            <td class=\"value\">False</td>\n",
       "        </tr>\n",
       "    \n",
       "\n",
       "        <tr class=\"default\">\n",
       "            <td><i class=\"copy-paste-icon\"\n",
       "                 onclick=\"copyToClipboard('tol',\n",
       "                          this.parentElement.nextElementSibling)\"\n",
       "            ></i></td>\n",
       "            <td class=\"param\">tol&nbsp;</td>\n",
       "            <td class=\"value\">0.0001</td>\n",
       "        </tr>\n",
       "    \n",
       "\n",
       "        <tr class=\"default\">\n",
       "            <td><i class=\"copy-paste-icon\"\n",
       "                 onclick=\"copyToClipboard('C',\n",
       "                          this.parentElement.nextElementSibling)\"\n",
       "            ></i></td>\n",
       "            <td class=\"param\">C&nbsp;</td>\n",
       "            <td class=\"value\">1.0</td>\n",
       "        </tr>\n",
       "    \n",
       "\n",
       "        <tr class=\"default\">\n",
       "            <td><i class=\"copy-paste-icon\"\n",
       "                 onclick=\"copyToClipboard('fit_intercept',\n",
       "                          this.parentElement.nextElementSibling)\"\n",
       "            ></i></td>\n",
       "            <td class=\"param\">fit_intercept&nbsp;</td>\n",
       "            <td class=\"value\">True</td>\n",
       "        </tr>\n",
       "    \n",
       "\n",
       "        <tr class=\"default\">\n",
       "            <td><i class=\"copy-paste-icon\"\n",
       "                 onclick=\"copyToClipboard('intercept_scaling',\n",
       "                          this.parentElement.nextElementSibling)\"\n",
       "            ></i></td>\n",
       "            <td class=\"param\">intercept_scaling&nbsp;</td>\n",
       "            <td class=\"value\">1</td>\n",
       "        </tr>\n",
       "    \n",
       "\n",
       "        <tr class=\"default\">\n",
       "            <td><i class=\"copy-paste-icon\"\n",
       "                 onclick=\"copyToClipboard('class_weight',\n",
       "                          this.parentElement.nextElementSibling)\"\n",
       "            ></i></td>\n",
       "            <td class=\"param\">class_weight&nbsp;</td>\n",
       "            <td class=\"value\">None</td>\n",
       "        </tr>\n",
       "    \n",
       "\n",
       "        <tr class=\"default\">\n",
       "            <td><i class=\"copy-paste-icon\"\n",
       "                 onclick=\"copyToClipboard('random_state',\n",
       "                          this.parentElement.nextElementSibling)\"\n",
       "            ></i></td>\n",
       "            <td class=\"param\">random_state&nbsp;</td>\n",
       "            <td class=\"value\">None</td>\n",
       "        </tr>\n",
       "    \n",
       "\n",
       "        <tr class=\"default\">\n",
       "            <td><i class=\"copy-paste-icon\"\n",
       "                 onclick=\"copyToClipboard('solver',\n",
       "                          this.parentElement.nextElementSibling)\"\n",
       "            ></i></td>\n",
       "            <td class=\"param\">solver&nbsp;</td>\n",
       "            <td class=\"value\">&#x27;lbfgs&#x27;</td>\n",
       "        </tr>\n",
       "    \n",
       "\n",
       "        <tr class=\"default\">\n",
       "            <td><i class=\"copy-paste-icon\"\n",
       "                 onclick=\"copyToClipboard('max_iter',\n",
       "                          this.parentElement.nextElementSibling)\"\n",
       "            ></i></td>\n",
       "            <td class=\"param\">max_iter&nbsp;</td>\n",
       "            <td class=\"value\">100</td>\n",
       "        </tr>\n",
       "    \n",
       "\n",
       "        <tr class=\"default\">\n",
       "            <td><i class=\"copy-paste-icon\"\n",
       "                 onclick=\"copyToClipboard('multi_class',\n",
       "                          this.parentElement.nextElementSibling)\"\n",
       "            ></i></td>\n",
       "            <td class=\"param\">multi_class&nbsp;</td>\n",
       "            <td class=\"value\">&#x27;deprecated&#x27;</td>\n",
       "        </tr>\n",
       "    \n",
       "\n",
       "        <tr class=\"default\">\n",
       "            <td><i class=\"copy-paste-icon\"\n",
       "                 onclick=\"copyToClipboard('verbose',\n",
       "                          this.parentElement.nextElementSibling)\"\n",
       "            ></i></td>\n",
       "            <td class=\"param\">verbose&nbsp;</td>\n",
       "            <td class=\"value\">0</td>\n",
       "        </tr>\n",
       "    \n",
       "\n",
       "        <tr class=\"default\">\n",
       "            <td><i class=\"copy-paste-icon\"\n",
       "                 onclick=\"copyToClipboard('warm_start',\n",
       "                          this.parentElement.nextElementSibling)\"\n",
       "            ></i></td>\n",
       "            <td class=\"param\">warm_start&nbsp;</td>\n",
       "            <td class=\"value\">False</td>\n",
       "        </tr>\n",
       "    \n",
       "\n",
       "        <tr class=\"default\">\n",
       "            <td><i class=\"copy-paste-icon\"\n",
       "                 onclick=\"copyToClipboard('n_jobs',\n",
       "                          this.parentElement.nextElementSibling)\"\n",
       "            ></i></td>\n",
       "            <td class=\"param\">n_jobs&nbsp;</td>\n",
       "            <td class=\"value\">None</td>\n",
       "        </tr>\n",
       "    \n",
       "\n",
       "        <tr class=\"default\">\n",
       "            <td><i class=\"copy-paste-icon\"\n",
       "                 onclick=\"copyToClipboard('l1_ratio',\n",
       "                          this.parentElement.nextElementSibling)\"\n",
       "            ></i></td>\n",
       "            <td class=\"param\">l1_ratio&nbsp;</td>\n",
       "            <td class=\"value\">None</td>\n",
       "        </tr>\n",
       "    \n",
       "                  </tbody>\n",
       "                </table>\n",
       "            </details>\n",
       "        </div>\n",
       "    </div></div></div></div></div><script>function copyToClipboard(text, element) {\n",
       "    // Get the parameter prefix from the closest toggleable content\n",
       "    const toggleableContent = element.closest('.sk-toggleable__content');\n",
       "    const paramPrefix = toggleableContent ? toggleableContent.dataset.paramPrefix : '';\n",
       "    const fullParamName = paramPrefix ? `${paramPrefix}${text}` : text;\n",
       "\n",
       "    const originalStyle = element.style;\n",
       "    const computedStyle = window.getComputedStyle(element);\n",
       "    const originalWidth = computedStyle.width;\n",
       "    const originalHTML = element.innerHTML.replace('Copied!', '');\n",
       "\n",
       "    navigator.clipboard.writeText(fullParamName)\n",
       "        .then(() => {\n",
       "            element.style.width = originalWidth;\n",
       "            element.style.color = 'green';\n",
       "            element.innerHTML = \"Copied!\";\n",
       "\n",
       "            setTimeout(() => {\n",
       "                element.innerHTML = originalHTML;\n",
       "                element.style = originalStyle;\n",
       "            }, 2000);\n",
       "        })\n",
       "        .catch(err => {\n",
       "            console.error('Failed to copy:', err);\n",
       "            element.style.color = 'red';\n",
       "            element.innerHTML = \"Failed!\";\n",
       "            setTimeout(() => {\n",
       "                element.innerHTML = originalHTML;\n",
       "                element.style = originalStyle;\n",
       "            }, 2000);\n",
       "        });\n",
       "    return false;\n",
       "}\n",
       "\n",
       "document.querySelectorAll('.fa-regular.fa-copy').forEach(function(element) {\n",
       "    const toggleableContent = element.closest('.sk-toggleable__content');\n",
       "    const paramPrefix = toggleableContent ? toggleableContent.dataset.paramPrefix : '';\n",
       "    const paramName = element.parentElement.nextElementSibling.textContent.trim();\n",
       "    const fullParamName = paramPrefix ? `${paramPrefix}${paramName}` : paramName;\n",
       "\n",
       "    element.setAttribute('title', fullParamName);\n",
       "});\n",
       "</script></body>"
      ],
      "text/plain": [
       "LogisticRegression()"
      ]
     },
     "execution_count": 141,
     "metadata": {},
     "output_type": "execute_result"
    }
   ],
   "source": [
    "model.fit(X_smtom, y_smtom)"
   ]
  },
  {
   "cell_type": "code",
   "execution_count": 142,
   "id": "5feea3ec",
   "metadata": {},
   "outputs": [
    {
     "name": "stdout",
     "output_type": "stream",
     "text": [
      "              precision    recall  f1-score   support\n",
      "\n",
      "           0       0.98      1.00      0.99      3924\n",
      "           1       0.00      0.00      0.00        76\n",
      "\n",
      "    accuracy                           0.98      4000\n",
      "   macro avg       0.49      0.50      0.50      4000\n",
      "weighted avg       0.96      0.98      0.97      4000\n",
      "\n"
     ]
    },
    {
     "name": "stderr",
     "output_type": "stream",
     "text": [
      "c:\\Users\\Sangram pc\\AppData\\Local\\Programs\\Python\\Python311\\Lib\\site-packages\\sklearn\\metrics\\_classification.py:1731: UndefinedMetricWarning: Precision is ill-defined and being set to 0.0 in labels with no predicted samples. Use `zero_division` parameter to control this behavior.\n",
      "  _warn_prf(average, modifier, f\"{metric.capitalize()} is\", result.shape[0])\n",
      "c:\\Users\\Sangram pc\\AppData\\Local\\Programs\\Python\\Python311\\Lib\\site-packages\\sklearn\\metrics\\_classification.py:1731: UndefinedMetricWarning: Precision is ill-defined and being set to 0.0 in labels with no predicted samples. Use `zero_division` parameter to control this behavior.\n",
      "  _warn_prf(average, modifier, f\"{metric.capitalize()} is\", result.shape[0])\n",
      "c:\\Users\\Sangram pc\\AppData\\Local\\Programs\\Python\\Python311\\Lib\\site-packages\\sklearn\\metrics\\_classification.py:1731: UndefinedMetricWarning: Precision is ill-defined and being set to 0.0 in labels with no predicted samples. Use `zero_division` parameter to control this behavior.\n",
      "  _warn_prf(average, modifier, f\"{metric.capitalize()} is\", result.shape[0])\n"
     ]
    }
   ],
   "source": [
    "print(classification_report(y_test, model.predict(X_test)))"
   ]
  },
  {
   "cell_type": "code",
   "execution_count": null,
   "id": "a371249b",
   "metadata": {},
   "outputs": [],
   "source": []
  }
 ],
 "metadata": {
  "kernelspec": {
   "display_name": "Python 3",
   "language": "python",
   "name": "python3"
  },
  "language_info": {
   "codemirror_mode": {
    "name": "ipython",
    "version": 3
   },
   "file_extension": ".py",
   "mimetype": "text/x-python",
   "name": "python",
   "nbconvert_exporter": "python",
   "pygments_lexer": "ipython3",
   "version": "3.11.0"
  }
 },
 "nbformat": 4,
 "nbformat_minor": 5
}
